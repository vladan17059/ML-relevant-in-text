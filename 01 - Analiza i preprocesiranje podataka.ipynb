{
 "cells": [
  {
   "cell_type": "markdown",
   "id": "031b1aa3",
   "metadata": {},
   "source": [
    "# Analiza i preprocesiranje podataka"
   ]
  },
  {
   "cell_type": "markdown",
   "id": "b920c748",
   "metadata": {},
   "source": [
    "NAPOMENA: \n",
    "- neka filtriranja, treniranje i sl. se mogu dugo izvrsavati (od nekoliko sekundi, do nekoliko minuta).\n",
    "- neki dugacki ispisi su zakomentarisani (opis skupa podataka, primeri instanci, ...)"
   ]
  },
  {
   "cell_type": "code",
   "execution_count": 1,
   "id": "5db532c9",
   "metadata": {},
   "outputs": [],
   "source": [
    "import numpy as np\n",
    "import pandas as pd"
   ]
  },
  {
   "cell_type": "code",
   "execution_count": 2,
   "id": "efb16a44",
   "metadata": {},
   "outputs": [],
   "source": [
    "from matplotlib import pyplot as plt"
   ]
  },
  {
   "cell_type": "code",
   "execution_count": 3,
   "id": "722c9f40",
   "metadata": {},
   "outputs": [],
   "source": [
    "import nltk\n",
    "from string import punctuation"
   ]
  },
  {
   "cell_type": "code",
   "execution_count": 4,
   "id": "9af44f09",
   "metadata": {},
   "outputs": [],
   "source": [
    "import pickle"
   ]
  },
  {
   "cell_type": "code",
   "execution_count": 5,
   "id": "2c9b8451",
   "metadata": {},
   "outputs": [],
   "source": [
    "import os"
   ]
  },
  {
   "cell_type": "code",
   "execution_count": 6,
   "id": "cee242ec",
   "metadata": {},
   "outputs": [],
   "source": [
    "from sklearn import datasets\n",
    "from sklearn import preprocessing"
   ]
  },
  {
   "cell_type": "code",
   "execution_count": 7,
   "id": "478cc5fa",
   "metadata": {
    "collapsed": true
   },
   "outputs": [
    {
     "name": "stderr",
     "output_type": "stream",
     "text": [
      "[nltk_data] Downloading package stopwords to\n",
      "[nltk_data]     C:\\Users\\vkova\\AppData\\Roaming\\nltk_data...\n",
      "[nltk_data]   Package stopwords is already up-to-date!\n",
      "[nltk_data] Downloading package punkt to\n",
      "[nltk_data]     C:\\Users\\vkova\\AppData\\Roaming\\nltk_data...\n",
      "[nltk_data]   Package punkt is already up-to-date!\n"
     ]
    },
    {
     "data": {
      "text/plain": [
       "True"
      ]
     },
     "execution_count": 7,
     "metadata": {},
     "output_type": "execute_result"
    }
   ],
   "source": [
    "nltk.download('stopwords')\n",
    "nltk.download('punkt')"
   ]
  },
  {
   "cell_type": "markdown",
   "id": "5c7fe889",
   "metadata": {},
   "source": [
    "***newsgroup*** - kao neke prepiske na forumima na datu temu"
   ]
  },
  {
   "cell_type": "markdown",
   "id": "c4b4482b",
   "metadata": {},
   "source": [
    "1. Pripremamo podatke.\n",
    "2. Obucavamo 2 modela za klasifikaciju - SVM i CNN za klasifikaciju tekstova u jednu od 20 klasa.\n",
    "3. Odredjujemo u kojoj meri su reci teksta zasluzne za izlaz klasifikatora - odredicemo relevantnost reci."
   ]
  },
  {
   "cell_type": "code",
   "execution_count": 8,
   "id": "2775f76e",
   "metadata": {},
   "outputs": [],
   "source": [
    "# ucitavamo skupove za test i trening\n",
    "# uklanjamo samo header-e (korisno u preprocesiranju - dosta nebitnih informacija u header-ima)\n",
    "\n",
    "train_data = datasets.fetch_20newsgroups(random_state=61, remove=('headers'))\n",
    "test_data = datasets.fetch_20newsgroups(random_state=61, subset='test', remove=('headers'))"
   ]
  },
  {
   "cell_type": "code",
   "execution_count": 9,
   "id": "c2b0d99f",
   "metadata": {},
   "outputs": [],
   "source": [
    "# detaljan opis \"20ng\" skupa podataka\n",
    "\n",
    "#print(train_data.DESCR)"
   ]
  },
  {
   "cell_type": "code",
   "execution_count": 10,
   "id": "4f7531ab",
   "metadata": {
    "scrolled": true
   },
   "outputs": [],
   "source": [
    "X_train = train_data.data\n",
    "y_train = train_data.target\n",
    "X_test = test_data.data\n",
    "y_test = test_data.target\n",
    "feature_names = train_data.target_names\n",
    "num_of_features = len(feature_names)"
   ]
  },
  {
   "cell_type": "code",
   "execution_count": 11,
   "id": "5d220fb9",
   "metadata": {},
   "outputs": [],
   "source": [
    "# upoznajemo se bolje sa nasim skupom podataka\n",
    "\n",
    "#print(type(X_train))\n",
    "#print(len(X_train))\n",
    "#print(feature_names)"
   ]
  },
  {
   "cell_type": "code",
   "execution_count": 12,
   "id": "9dbf41f9",
   "metadata": {},
   "outputs": [],
   "source": [
    "# primer jedne istance (clanka), uz odgovarajucu klasu kojoj pripada\n",
    "\n",
    "#print(X_train[0])\n",
    "#print(y_train[0])\n",
    "#print(feature_names[y_train[0]])"
   ]
  },
  {
   "cell_type": "code",
   "execution_count": 13,
   "id": "21e37e7b",
   "metadata": {},
   "outputs": [
    {
     "name": "stdout",
     "output_type": "stream",
     "text": [
      "train:  11314\n",
      "test:  7532\n"
     ]
    }
   ],
   "source": [
    "# broj instanci skupova za treniranje i testiranje\n",
    "\n",
    "N_train = len(X_train)\n",
    "N_test = len(X_test)\n",
    "\n",
    "print(\"train: \", N_train)\n",
    "print(\"test: \", N_test)"
   ]
  },
  {
   "cell_type": "code",
   "execution_count": 14,
   "id": "8ced0609",
   "metadata": {},
   "outputs": [],
   "source": [
    "# ispitujemo balansiranost skupa za trening i test\n",
    "\n",
    "y_train = np.array(y_train)\n",
    "instances_per_class_train = [len(y_train[y_train == i]) for i in range(num_of_features)]"
   ]
  },
  {
   "cell_type": "code",
   "execution_count": 15,
   "id": "2e1ae46f",
   "metadata": {},
   "outputs": [
    {
     "data": {
      "image/png": "[encoded data removed]",
      "text/plain": [
       "<Figure size 576x432 with 1 Axes>"
      ]
     },
     "metadata": {
      "needs_background": "light"
     },
     "output_type": "display_data"
    }
   ],
   "source": [
    "plt.figure(figsize=(8,6))\n",
    "\n",
    "plt.title(\"Number of instances per class - train\")\n",
    "\n",
    "plt.xticks(range(num_of_features), labels=feature_names, rotation='vertical')\n",
    "plt.ylabel(ylabel=\"num_of_instances\")\n",
    "plt.bar(range(num_of_features), instances_per_class_train)\n",
    "\n",
    "plt.show()\n"
   ]
  },
  {
   "cell_type": "code",
   "execution_count": 16,
   "id": "3101f6c7",
   "metadata": {},
   "outputs": [],
   "source": [
    "# ispitujemo balansiranost skupa za trening i test\n",
    "\n",
    "y_test = np.array(y_test)\n",
    "instances_per_class_test = [len(y_test[y_test == i]) for i in range(num_of_features)]"
   ]
  },
  {
   "cell_type": "code",
   "execution_count": 17,
   "id": "a2c4f189",
   "metadata": {},
   "outputs": [
    {
     "data": {
      "image/png": "[encoded data removed]",
      "text/plain": [
       "<Figure size 576x432 with 1 Axes>"
      ]
     },
     "metadata": {
      "needs_background": "light"
     },
     "output_type": "display_data"
    }
   ],
   "source": [
    "plt.figure(figsize=(8,6))\n",
    "\n",
    "plt.title(\"Number of instances per class - test\")\n",
    "\n",
    "plt.xticks(range(num_of_features), labels=feature_names, rotation='vertical')\n",
    "plt.ylabel(ylabel=\"num_of_instances\")\n",
    "plt.bar(range(num_of_features), instances_per_class_test)\n",
    "\n",
    "plt.show()\n"
   ]
  },
  {
   "cell_type": "code",
   "execution_count": 18,
   "id": "e0ce1211",
   "metadata": {},
   "outputs": [],
   "source": [
    "# zakljucujemo da radimo sa balansiranim skupovima podataka.\n",
    "\n",
    "# dalje analizaramo nas trening skup\n",
    "\n",
    "# izvrsimo tokenizaciju kako bi lakse analizirali tekstove po recima"
   ]
  },
  {
   "cell_type": "code",
   "execution_count": 19,
   "id": "03989cd3",
   "metadata": {},
   "outputs": [],
   "source": [
    "def stats(about, X):\n",
    "    print(f\"{about} mean: \", f\"{X.mean():.2f}\")\n",
    "    print(f\"{about} std: \", f\"{X.std():.2f}\")\n",
    "    print(f\"{about} max: \", X.max())\n",
    "    print(f\"{about} min: \", X.min())"
   ]
  },
  {
   "cell_type": "code",
   "execution_count": 20,
   "id": "a800e7c4",
   "metadata": {},
   "outputs": [],
   "source": [
    "X_train_tok = [nltk.tokenize.word_tokenize(text) for text in X_train]"
   ]
  },
  {
   "cell_type": "code",
   "execution_count": 21,
   "id": "7a9c80a6",
   "metadata": {},
   "outputs": [],
   "source": [
    "# recnik (sve razlicite reci)"
   ]
  },
  {
   "cell_type": "code",
   "execution_count": 22,
   "id": "bbe5e149",
   "metadata": {},
   "outputs": [],
   "source": [
    "vocab = {word for text in X_train_tok for word in text}"
   ]
  },
  {
   "cell_type": "code",
   "execution_count": 23,
   "id": "06d47ccc",
   "metadata": {},
   "outputs": [],
   "source": [
    "# broj reci po tekstu\n",
    "\n",
    "text_lens = np.array([len(text) for text in X_train_tok])"
   ]
  },
  {
   "cell_type": "code",
   "execution_count": 24,
   "id": "4850d2ed",
   "metadata": {},
   "outputs": [
    {
     "name": "stdout",
     "output_type": "stream",
     "text": [
      "Number of words mean:  388.52\n",
      "Number of words std:  1342.51\n",
      "Number of words max:  35955\n",
      "Number of words min:  0\n",
      "Number of words total:  4395725\n",
      "Number of distinct words:  195313\n"
     ]
    }
   ],
   "source": [
    "stats(\"Number of words\", text_lens)\n",
    "print(\"Number of words total: \", text_lens.sum())\n",
    "print(\"Number of distinct words: \", len(vocab))\n",
    "# kasnije cemo odsecati (i filtrirati)"
   ]
  },
  {
   "cell_type": "code",
   "execution_count": 25,
   "id": "ce8ec679",
   "metadata": {},
   "outputs": [],
   "source": [
    "# broj reci koje pocinju velikim slovom (po tekstu)"
   ]
  },
  {
   "cell_type": "code",
   "execution_count": 26,
   "id": "cd463adb",
   "metadata": {},
   "outputs": [],
   "source": [
    "upper_case = np.array([len([word for word in text if word.isupper()]) for text in X_train_tok])"
   ]
  },
  {
   "cell_type": "code",
   "execution_count": 27,
   "id": "e5b4ac42",
   "metadata": {},
   "outputs": [
    {
     "name": "stdout",
     "output_type": "stream",
     "text": [
      "Uppercase per text mean:  32.14\n",
      "Uppercase per text std:  448.99\n",
      "Uppercase per text max:  13853\n",
      "Uppercase per text min:  0\n"
     ]
    }
   ],
   "source": [
    "stats(\"Uppercase per text\", upper_case)"
   ]
  },
  {
   "cell_type": "code",
   "execution_count": 28,
   "id": "7caad0c5",
   "metadata": {},
   "outputs": [],
   "source": [
    "# broj reci koje pocinju brojem (po tekstu)"
   ]
  },
  {
   "cell_type": "code",
   "execution_count": 29,
   "id": "b9725c9e",
   "metadata": {},
   "outputs": [],
   "source": [
    "from string import digits"
   ]
  },
  {
   "cell_type": "code",
   "execution_count": 30,
   "id": "7636176c",
   "metadata": {},
   "outputs": [],
   "source": [
    "startswith_num = lambda x : True in [x.startswith(num) for num in list(digits)]"
   ]
  },
  {
   "cell_type": "code",
   "execution_count": 31,
   "id": "8b030364",
   "metadata": {},
   "outputs": [],
   "source": [
    "numstart = np.array([len([word for word in text if startswith_num(word)]) for text in X_train_tok])"
   ]
  },
  {
   "cell_type": "code",
   "execution_count": 32,
   "id": "ff915126",
   "metadata": {},
   "outputs": [
    {
     "name": "stdout",
     "output_type": "stream",
     "text": [
      "Starts with num per text mean:  11.92\n",
      "Starts with num per text std:  104.25\n",
      "Starts with num per text max:  5169\n",
      "Starts with num per text min:  0\n"
     ]
    }
   ],
   "source": [
    "stats(\"Starts with num per text\", numstart)"
   ]
  },
  {
   "cell_type": "code",
   "execution_count": 33,
   "id": "d9499164",
   "metadata": {},
   "outputs": [],
   "source": [
    "# broj stop reci (stopwords) (po tekstu)"
   ]
  },
  {
   "cell_type": "code",
   "execution_count": 34,
   "id": "f7a305ca",
   "metadata": {},
   "outputs": [],
   "source": [
    "stopwords = nltk.corpus.stopwords.words('english')"
   ]
  },
  {
   "cell_type": "code",
   "execution_count": 35,
   "id": "0378e2b8",
   "metadata": {},
   "outputs": [],
   "source": [
    "stopwords_num = np.array([len([word for word in text if word in stopwords]) for text in X_train_tok])"
   ]
  },
  {
   "cell_type": "code",
   "execution_count": 36,
   "id": "63a37a0c",
   "metadata": {},
   "outputs": [
    {
     "name": "stdout",
     "output_type": "stream",
     "text": [
      "Stopwords per text mean:  97.25\n",
      "Stopwords per text std:  202.22\n",
      "Stopwords per text max:  5343\n",
      "Stopwords per text min:  0\n"
     ]
    }
   ],
   "source": [
    "stats(\"Stopwords per text\", stopwords_num)"
   ]
  },
  {
   "cell_type": "code",
   "execution_count": 37,
   "id": "5e388562",
   "metadata": {},
   "outputs": [
    {
     "name": "stdout",
     "output_type": "stream",
     "text": [
      "Stopwords in corpus: 25.03%\n"
     ]
    }
   ],
   "source": [
    "print(f\"Stopwords in corpus: {100*(stopwords_num.sum()/text_lens.sum()):.2f}%\")"
   ]
  },
  {
   "cell_type": "code",
   "execution_count": 38,
   "id": "5cfba3ee",
   "metadata": {},
   "outputs": [],
   "source": [
    "# primecujemo da stop reci (ocekivano) predstavljaju znacajan deo naseg korpusa, treba doneti odluku da li da se uklone ili ne\n",
    "# obicno se uklanjaju, medjutim, zbog LRP moramo razmisliti"
   ]
  },
  {
   "cell_type": "code",
   "execution_count": 39,
   "id": "d37e1850",
   "metadata": {},
   "outputs": [],
   "source": [
    "# broj znakova . , ! # ? i sl. (znakova iz string.punctuation) (po tekstu)"
   ]
  },
  {
   "cell_type": "code",
   "execution_count": 40,
   "id": "44fd0087",
   "metadata": {},
   "outputs": [],
   "source": [
    "from string import punctuation"
   ]
  },
  {
   "cell_type": "code",
   "execution_count": 41,
   "id": "a538aa32",
   "metadata": {},
   "outputs": [],
   "source": [
    "punct_num = np.array([len([word for word in text if word in list(punctuation)]) for text in X_train_tok])"
   ]
  },
  {
   "cell_type": "code",
   "execution_count": 42,
   "id": "c7473d65",
   "metadata": {},
   "outputs": [
    {
     "name": "stdout",
     "output_type": "stream",
     "text": [
      "Punctuations per text mean:  90.60\n",
      "Punctuations per text std:  647.97\n",
      "Punctuations per text max:  22145\n",
      "Punctuations per text min:  0\n"
     ]
    }
   ],
   "source": [
    "stats(\"Punctuations per text\", punct_num)"
   ]
  },
  {
   "cell_type": "code",
   "execution_count": 43,
   "id": "15e0c4b7",
   "metadata": {},
   "outputs": [],
   "source": [
    "# broj reci koje pocinju malim slovom (po tekstu)"
   ]
  },
  {
   "cell_type": "code",
   "execution_count": 44,
   "id": "15732a88",
   "metadata": {},
   "outputs": [],
   "source": [
    "lower_words = {word for word in vocab if word.islower()}"
   ]
  },
  {
   "cell_type": "code",
   "execution_count": 45,
   "id": "c2681a0f",
   "metadata": {},
   "outputs": [
    {
     "name": "stdout",
     "output_type": "stream",
     "text": [
      "67149\n"
     ]
    }
   ],
   "source": [
    "print(len(lower_words))"
   ]
  },
  {
   "cell_type": "code",
   "execution_count": 46,
   "id": "9221c839",
   "metadata": {},
   "outputs": [],
   "source": [
    "# broj reci koje pocinju velikim slovom, a jednake su nekoj reci koje pocinju malim slovom\n",
    "# npr. Tonight = tonight = TONIGHT\n",
    "\n",
    "# zasto je ovo bitno? \n",
    "# kad kasnije budemo filtrirali, mozda cemo preci na lowercase\n",
    "# time gubimo informacije npr. RAM (memorija) != ram (ovca, oruzje za opsadu, glagol, ...)\n",
    "# a posle lowercasing-a ce postati..."
   ]
  },
  {
   "cell_type": "code",
   "execution_count": 47,
   "id": "ef3627fe",
   "metadata": {},
   "outputs": [],
   "source": [
    "lower_and_upper = [word for text in X_train_tok for word in text if word.isupper() and word.lower() in lower_words]"
   ]
  },
  {
   "cell_type": "code",
   "execution_count": 48,
   "id": "1f53c64f",
   "metadata": {},
   "outputs": [
    {
     "name": "stdout",
     "output_type": "stream",
     "text": [
      "Lower-upper words in corpus:  174071\n",
      "Lower-upper words in corpus: 3.96%\n"
     ]
    }
   ],
   "source": [
    "print(\"Lower-upper words in corpus: \", len(lower_and_upper))\n",
    "print(f\"Lower-upper words in corpus: {100*len(lower_and_upper)/text_lens.sum():.2f}%\")"
   ]
  },
  {
   "cell_type": "code",
   "execution_count": 59,
   "id": "d328300c",
   "metadata": {},
   "outputs": [],
   "source": [
    "# dalje mozemo jos razne zanimljivosti izvlaciti..."
   ]
  },
  {
   "cell_type": "markdown",
   "id": "87129cf7",
   "metadata": {},
   "source": [
    "## Tokenizacija i filtriranje"
   ]
  },
  {
   "cell_type": "markdown",
   "id": "33dadad9",
   "metadata": {},
   "source": [
    "1. Tokenizujemo tekstove (koristicemo *nltk* biblioteku -  vec obavljeno).\n",
    "2. Zadrzimo samo reci koje sadrze slova, tacku, apostrof, i crticu (i bar jedno slovo - ne zelimo samo **.** npr.).\n",
    "3. Pripremimo vektorizator koji ce dodatno prebaciti sve reci u mala slova i izbaciti one koje se javljaju u manje od 2 dokumenta (pretpostavljamo da su to pogresno napisane reci).\n",
    "4. Iako nije navedeno, mozemo izbaciti i poznate stop-reci (*stopwords*) - ovo ce nam takodje vektorizator omoguciti."
   ]
  },
  {
   "cell_type": "markdown",
   "id": "6945ec61",
   "metadata": {},
   "source": [
    "### 1. Tokenizacija"
   ]
  },
  {
   "cell_type": "code",
   "execution_count": 50,
   "id": "f317da3d",
   "metadata": {},
   "outputs": [],
   "source": [
    "# obavljena"
   ]
  },
  {
   "cell_type": "markdown",
   "id": "259bc2e4",
   "metadata": {},
   "source": [
    "### 2. Filtriranje"
   ]
  },
  {
   "cell_type": "code",
   "execution_count": 51,
   "id": "d4beb0d1",
   "metadata": {},
   "outputs": [],
   "source": [
    "from string import ascii_letters"
   ]
  },
  {
   "cell_type": "code",
   "execution_count": 52,
   "id": "b30e2a3f",
   "metadata": {},
   "outputs": [],
   "source": [
    "retain_chars = list(ascii_letters) + list(\".-'\")"
   ]
  },
  {
   "cell_type": "code",
   "execution_count": 53,
   "id": "76f9c1f4",
   "metadata": {},
   "outputs": [],
   "source": [
    "def retain_word(word):\n",
    "    # sastoji se samo od slova . -  '\n",
    "    for c in list(word):\n",
    "        if c not in retain_chars:\n",
    "            return False\n",
    "    \n",
    "    # sadrzi bar jedno slovo\n",
    "    for c in list(word):\n",
    "        if c.isalpha():\n",
    "            return True\n",
    "        \n",
    "    return False"
   ]
  },
  {
   "cell_type": "code",
   "execution_count": 54,
   "id": "9e022cbe",
   "metadata": {},
   "outputs": [],
   "source": [
    "def filter_text(text):\n",
    "    text = [word for word in text if retain_word(word)]\n",
    "    return text"
   ]
  },
  {
   "cell_type": "code",
   "execution_count": 55,
   "id": "34cf0e60",
   "metadata": {},
   "outputs": [],
   "source": [
    "X_train_tok_filt = [filter_text(text) for text in X_train_tok] "
   ]
  },
  {
   "cell_type": "markdown",
   "id": "9b2d3017",
   "metadata": {},
   "source": [
    "### 3. Vektorizator"
   ]
  },
  {
   "cell_type": "code",
   "execution_count": 61,
   "id": "ac4932e4",
   "metadata": {},
   "outputs": [],
   "source": [
    "from sklearn.feature_extraction.text import TfidfVectorizer"
   ]
  },
  {
   "cell_type": "code",
   "execution_count": 58,
   "id": "29dfe815",
   "metadata": {},
   "outputs": [],
   "source": [
    "# pripremamo vektorizator (koristicemo kod SVM modela)\n",
    "#    - min_df=2 izbacuje reci koje se pojavljuju samo u jednom tekstu\n",
    "#    - tokenizator koji smo koristili (moramo vratiti recenice u sirov oblik)\n",
    "#    - radimo lowercasing\n",
    "#    - mozemo napravicemo jos jedan vektorizator koji izbacuje stop reci (eksperimentalno - nece biti prezentovano u ovom radu"
   ]
  },
  {
   "cell_type": "code",
   "execution_count": 62,
   "id": "d3b1dd2a",
   "metadata": {},
   "outputs": [],
   "source": [
    "vectorizer = TfidfVectorizer(min_df=2, tokenizer=nltk.tokenize.word_tokenize, lowercase=True)"
   ]
  },
  {
   "cell_type": "code",
   "execution_count": 59,
   "id": "9e11e042",
   "metadata": {},
   "outputs": [],
   "source": [
    "# ako zelimo da izbacimo stop-reci\n",
    "\n",
    "#filter_words = stopwords + list(punctuation)\n",
    "#vectorizer_filterstop = TfidfVectorizer(min_df=2, tokenizer=nltk.tokenize.word_tokenize, stop_words=filter_words)"
   ]
  },
  {
   "cell_type": "code",
   "execution_count": 60,
   "id": "da16dcc3",
   "metadata": {},
   "outputs": [],
   "source": [
    "# fit-ujemo vektorizator - samo na trening skupu (da informacije ne procure)"
   ]
  },
  {
   "cell_type": "code",
   "execution_count": 64,
   "id": "31568184",
   "metadata": {},
   "outputs": [],
   "source": [
    "X_train_filtered = [\" \".join(text) for text in X_train_tok_filt]"
   ]
  },
  {
   "cell_type": "code",
   "execution_count": 65,
   "id": "816c427b",
   "metadata": {},
   "outputs": [
    {
     "name": "stderr",
     "output_type": "stream",
     "text": [
      "C:\\Users\\vkova\\AppData\\Local\\Programs\\Python\\Python310\\lib\\site-packages\\sklearn\\feature_extraction\\text.py:524: UserWarning: The parameter 'token_pattern' will not be used since 'tokenizer' is not None'\n",
      "  warnings.warn(\n"
     ]
    },
    {
     "name": "stdout",
     "output_type": "stream",
     "text": [
      "CPU times: total: 6.64 s\n",
      "Wall time: 6.64 s\n"
     ]
    },
    {
     "data": {
      "text/html": [
       "<style>#sk-container-id-1 {color: black;background-color: white;}#sk-container-id-1 pre{padding: 0;}#sk-container-id-1 div.sk-toggleable {background-color: white;}#sk-container-id-1 label.sk-toggleable__label {cursor: pointer;display: block;width: 100%;margin-bottom: 0;padding: 0.3em;box-sizing: border-box;text-align: center;}#sk-container-id-1 label.sk-toggleable__label-arrow:before {content: \"▸\";float: left;margin-right: 0.25em;color: #696969;}#sk-container-id-1 label.sk-toggleable__label-arrow:hover:before {color: black;}#sk-container-id-1 div.sk-estimator:hover label.sk-toggleable__label-arrow:before {color: black;}#sk-container-id-1 div.sk-toggleable__content {max-height: 0;max-width: 0;overflow: hidden;text-align: left;background-color: #f0f8ff;}#sk-container-id-1 div.sk-toggleable__content pre {margin: 0.2em;color: black;border-radius: 0.25em;background-color: #f0f8ff;}#sk-container-id-1 input.sk-toggleable__control:checked~div.sk-toggleable__content {max-height: 200px;max-width: 100%;overflow: auto;}#sk-container-id-1 input.sk-toggleable__control:checked~label.sk-toggleable__label-arrow:before {content: \"▾\";}#sk-container-id-1 div.sk-estimator input.sk-toggleable__control:checked~label.sk-toggleable__label {background-color: #d4ebff;}#sk-container-id-1 div.sk-label input.sk-toggleable__control:checked~label.sk-toggleable__label {background-color: #d4ebff;}#sk-container-id-1 input.sk-hidden--visually {border: 0;clip: rect(1px 1px 1px 1px);clip: rect(1px, 1px, 1px, 1px);height: 1px;margin: -1px;overflow: hidden;padding: 0;position: absolute;width: 1px;}#sk-container-id-1 div.sk-estimator {font-family: monospace;background-color: #f0f8ff;border: 1px dotted black;border-radius: 0.25em;box-sizing: border-box;margin-bottom: 0.5em;}#sk-container-id-1 div.sk-estimator:hover {background-color: #d4ebff;}#sk-container-id-1 div.sk-parallel-item::after {content: \"\";width: 100%;border-bottom: 1px solid gray;flex-grow: 1;}#sk-container-id-1 div.sk-label:hover label.sk-toggleable__label {background-color: #d4ebff;}#sk-container-id-1 div.sk-serial::before {content: \"\";position: absolute;border-left: 1px solid gray;box-sizing: border-box;top: 0;bottom: 0;left: 50%;z-index: 0;}#sk-container-id-1 div.sk-serial {display: flex;flex-direction: column;align-items: center;background-color: white;padding-right: 0.2em;padding-left: 0.2em;position: relative;}#sk-container-id-1 div.sk-item {position: relative;z-index: 1;}#sk-container-id-1 div.sk-parallel {display: flex;align-items: stretch;justify-content: center;background-color: white;position: relative;}#sk-container-id-1 div.sk-item::before, #sk-container-id-1 div.sk-parallel-item::before {content: \"\";position: absolute;border-left: 1px solid gray;box-sizing: border-box;top: 0;bottom: 0;left: 50%;z-index: -1;}#sk-container-id-1 div.sk-parallel-item {display: flex;flex-direction: column;z-index: 1;position: relative;background-color: white;}#sk-container-id-1 div.sk-parallel-item:first-child::after {align-self: flex-end;width: 50%;}#sk-container-id-1 div.sk-parallel-item:last-child::after {align-self: flex-start;width: 50%;}#sk-container-id-1 div.sk-parallel-item:only-child::after {width: 0;}#sk-container-id-1 div.sk-dashed-wrapped {border: 1px dashed gray;margin: 0 0.4em 0.5em 0.4em;box-sizing: border-box;padding-bottom: 0.4em;background-color: white;}#sk-container-id-1 div.sk-label label {font-family: monospace;font-weight: bold;display: inline-block;line-height: 1.2em;}#sk-container-id-1 div.sk-label-container {text-align: center;}#sk-container-id-1 div.sk-container {/* jupyter's `normalize.less` sets `[hidden] { display: none; }` but bootstrap.min.css set `[hidden] { display: none !important; }` so we also need the `!important` here to be able to override the default hidden behavior on the sphinx rendered scikit-learn.org. See: https://github.com/scikit-learn/scikit-learn/issues/21755 */display: inline-block !important;position: relative;}#sk-container-id-1 div.sk-text-repr-fallback {display: none;}</style><div id=\"sk-container-id-1\" class=\"sk-top-container\"><div class=\"sk-text-repr-fallback\"><pre>TfidfVectorizer(min_df=2,\n",
       "                tokenizer=&lt;function word_tokenize at 0x000001F97A87BD00&gt;)</pre><b>In a Jupyter environment, please rerun this cell to show the HTML representation or trust the notebook. <br />On GitHub, the HTML representation is unable to render, please try loading this page with nbviewer.org.</b></div><div class=\"sk-container\" hidden><div class=\"sk-item\"><div class=\"sk-estimator sk-toggleable\"><input class=\"sk-toggleable__control sk-hidden--visually\" id=\"sk-estimator-id-1\" type=\"checkbox\" checked><label for=\"sk-estimator-id-1\" class=\"sk-toggleable__label sk-toggleable__label-arrow\">TfidfVectorizer</label><div class=\"sk-toggleable__content\"><pre>TfidfVectorizer(min_df=2,\n",
       "                tokenizer=&lt;function word_tokenize at 0x000001F97A87BD00&gt;)</pre></div></div></div></div></div>"
      ],
      "text/plain": [
       "TfidfVectorizer(min_df=2,\n",
       "                tokenizer=<function word_tokenize at 0x000001F97A87BD00>)"
      ]
     },
     "execution_count": 65,
     "metadata": {},
     "output_type": "execute_result"
    }
   ],
   "source": [
    "%%time\n",
    "vectorizer.fit(X_train_filtered)"
   ]
  },
  {
   "cell_type": "code",
   "execution_count": 67,
   "id": "8d8430c8",
   "metadata": {},
   "outputs": [],
   "source": [
    "# reci koje je vektorizator \"ostavio\" nalaze se u njegovom vokabularu\n",
    "# nadalje cemo pomocu njega filtrirati tekstove\n",
    "# pogledajmo opet statistike duzine tekstova - za tekstove sa i bez stop reci"
   ]
  },
  {
   "cell_type": "code",
   "execution_count": 68,
   "id": "d520c14d",
   "metadata": {},
   "outputs": [
    {
     "name": "stdout",
     "output_type": "stream",
     "text": [
      "Vocab len:  45740\n"
     ]
    }
   ],
   "source": [
    "print(\"Vocab len: \", len(vectorizer.vocabulary_))"
   ]
  },
  {
   "cell_type": "code",
   "execution_count": 69,
   "id": "ce2a74d4",
   "metadata": {},
   "outputs": [],
   "source": [
    "# filtrirajmo opet nas korpus\n",
    "# izbacujemo reci koje nisu u vokabularu\n",
    "\n",
    "# NAPOMENA: na ovaj nacin mozemo ubuduce filtrirati korpus (tokenizator nltk)\n",
    "# sacuvajmo zato vectorizer"
   ]
  },
  {
   "cell_type": "code",
   "execution_count": 70,
   "id": "34eff5dc",
   "metadata": {},
   "outputs": [],
   "source": [
    "with open(os.path.join(\"models\", \"vectorizer.pickle\"), \"wb\") as dump_file:\n",
    "    pickle.dump(vectorizer, dump_file)"
   ]
  },
  {
   "cell_type": "code",
   "execution_count": 71,
   "id": "5006dc01",
   "metadata": {},
   "outputs": [],
   "source": [
    "vocabulary = vectorizer.vocabulary_"
   ]
  },
  {
   "cell_type": "code",
   "execution_count": 72,
   "id": "5d573314",
   "metadata": {},
   "outputs": [],
   "source": [
    "X_train_final = [[word for word in text if word in vocabulary] for text in X_train_tok_filt ]"
   ]
  },
  {
   "cell_type": "code",
   "execution_count": 73,
   "id": "47db27cf",
   "metadata": {},
   "outputs": [],
   "source": [
    "# ispitajmo sada kolike su duzine tekstova"
   ]
  },
  {
   "cell_type": "code",
   "execution_count": 74,
   "id": "5e1d448a",
   "metadata": {},
   "outputs": [],
   "source": [
    "text_lens_final = np.array([len(text) for text in X_train_final])"
   ]
  },
  {
   "cell_type": "code",
   "execution_count": 75,
   "id": "9b224c9b",
   "metadata": {},
   "outputs": [
    {
     "name": "stdout",
     "output_type": "stream",
     "text": [
      "Text lengths after preprocessing mean:  198.76\n",
      "Text lengths after preprocessing std:  408.37\n",
      "Text lengths after preprocessing max:  10077\n",
      "Text lengths after preprocessing min:  0\n",
      "Number of words total:  2248803\n",
      "Number of distinct words:  45740\n"
     ]
    }
   ],
   "source": [
    "stats(\"Text lengths after preprocessing\", text_lens_final)\n",
    "print(\"Number of words total: \", text_lens_final.sum())\n",
    "print(\"Number of distinct words: \", len(vocabulary))"
   ]
  },
  {
   "cell_type": "code",
   "execution_count": 76,
   "id": "f0d746e3",
   "metadata": {},
   "outputs": [
    {
     "name": "stdout",
     "output_type": "stream",
     "text": [
      "Words dropped:  149573\n",
      "Words dropped %: 76.58%\n",
      "Total words dropped:  2146922\n",
      "Total words dropped %: 48.84%\n"
     ]
    }
   ],
   "source": [
    "# koliko smo reci (tokena) izgubili kroz ovaj proces:\n",
    "\n",
    "print(\"Words dropped: \", len(vocab) - len(vocabulary))\n",
    "print(f\"Words dropped %: {100*(len(vocab) - len(vocabulary))/len(vocab):.2f}%\")\n",
    "print(\"Total words dropped: \", text_lens.sum()-text_lens_final.sum())\n",
    "print(f\"Total words dropped %: {100*(text_lens.sum()-text_lens_final.sum())/text_lens.sum():.2f}%\")"
   ]
  },
  {
   "cell_type": "code",
   "execution_count": 77,
   "id": "aa874ace",
   "metadata": {},
   "outputs": [],
   "source": [
    "more_than_400 = len(text_lens_final[text_lens_final>400])"
   ]
  },
  {
   "cell_type": "code",
   "execution_count": 78,
   "id": "395b0eb3",
   "metadata": {},
   "outputs": [
    {
     "name": "stdout",
     "output_type": "stream",
     "text": [
      "Texts with more than 400 words:  1032\n",
      "Percentage: 9.12%\n"
     ]
    }
   ],
   "source": [
    "print(\"Texts with more than 400 words: \", more_than_400)\n",
    "print(f\"Percentage: {100*more_than_400/N_train:.2f}%\")"
   ]
  },
  {
   "cell_type": "code",
   "execution_count": 76,
   "id": "c5b607c6",
   "metadata": {},
   "outputs": [],
   "source": [
    "# broj tekstova po duzini"
   ]
  },
  {
   "cell_type": "code",
   "execution_count": 79,
   "id": "745af3fb",
   "metadata": {},
   "outputs": [
    {
     "data": {
      "image/png": "[encoded data removed]",
      "text/plain": [
       "<Figure size 1152x576 with 2 Axes>"
      ]
     },
     "metadata": {
      "needs_background": "light"
     },
     "output_type": "display_data"
    }
   ],
   "source": [
    "plt.figure(figsize=(16,8))\n",
    "\n",
    "plt.subplot(121)\n",
    "plt.title(\"Length of text\")\n",
    "plt.xlabel(xlabel=\"num_of_tokens\")\n",
    "plt.ylabel(ylabel='num_of_texts')\n",
    "plt.hist(text_lens_final)\n",
    "plt.grid(True)\n",
    "\n",
    "plt.subplot(122)\n",
    "plt.title(\"Length of text (less than 1000 words)\")\n",
    "plt.xlabel(xlabel=\"num_of_tokens\")\n",
    "plt.ylabel(ylabel='num_of_texts')\n",
    "plt.hist(text_lens_final, range=(0,1000), bins=20)\n",
    "plt.grid(True)\n",
    "\n",
    "plt.show()"
   ]
  },
  {
   "cell_type": "code",
   "execution_count": 82,
   "id": "c3e36818",
   "metadata": {},
   "outputs": [],
   "source": [
    "# zavrsili smo osnovnu analizu i preprocesiranje"
   ]
  },
  {
   "cell_type": "markdown",
   "id": "74fbb612",
   "metadata": {},
   "source": [
    "# CBOW (word2vec embedding)"
   ]
  },
  {
   "cell_type": "markdown",
   "id": "f96a1bb7",
   "metadata": {},
   "source": [
    "***word2vec*** je skup modela za **vektorizaciju reci** (***word embedding***). <br>\n",
    "Ovi modeli recima dodeljuju **vektor** na osnovu njihovog ***'konteksta'*** ***(veze sa drugim recima)***."
   ]
  },
  {
   "cell_type": "markdown",
   "id": "bf2c705b",
   "metadata": {},
   "source": [
    "U zavisnosti od toga **kako zelimo da modelujemo kontekst** reci, biramo jedan od 2 poznata modela:\n",
    "1. ***CBOW (Continuous Bag of Words)*** - brzi i bolji za veci skup reci, kada su reci frekventnije\n",
    "2. ***Skip-gram*** - bolje radi za manji skup reci, uspesno modeluje veze reci sa malom frekvencijom"
   ]
  },
  {
   "cell_type": "markdown",
   "id": "c881399c",
   "metadata": {},
   "source": [
    "*CBOW* na osnovu fiksiranog broja *(NAPOMENA: eksperimentise se i sa promenljivom velicinom - gensim dokumentacija)*  reci\n",
    "oko ciljne reci pokusava da modeluje znacenje ciljne reci (reci u sredini). <br>\n",
    "Za atribut se uzme npr. **prosek** okolnih reci."
   ]
  },
  {
   "cell_type": "code",
   "execution_count": 83,
   "id": "1efad34c",
   "metadata": {},
   "outputs": [],
   "source": [
    "# primer: \"The cat sat on the mat\"\n",
    "# neka je window_size=2 (okolina ciljne reci)\n",
    "# neka je ciljna rec \"sat\"\n",
    "# --->\n",
    "# mean([\"The\", \"cat\", \"on\", \"the\"]) - atribut\n",
    "# \"sat\" - ciljna rec"
   ]
  },
  {
   "cell_type": "markdown",
   "id": "2e2d3ce2",
   "metadata": {},
   "source": [
    "*Skip-gram* radi slicno, uzima okolinu ciljne reci i iz nje izdvaja par (ciljna_rec, rec_iz_okoline)."
   ]
  },
  {
   "cell_type": "code",
   "execution_count": 84,
   "id": "40f11e2a",
   "metadata": {},
   "outputs": [],
   "source": [
    "# iz prethodnog primera:\n",
    "# --->\n",
    "# parovi (atribut,ciljna_rec): (\"The\", \"sat\"), (\"cat\", \"sat\"), (\"on\", \"sat\"), (\"the\", \"sat\")"
   ]
  },
  {
   "cell_type": "markdown",
   "id": "ae758621",
   "metadata": {},
   "source": [
    "Mi cemo koristiti *CBOW* model."
   ]
  },
  {
   "cell_type": "markdown",
   "id": "5bb35289",
   "metadata": {},
   "source": [
    "Iako su ovo modeli **nenadgledanog ucenja** (nemamo ciljnu promenljivu u skupu reci), mi ih obucavamo kao modele **nadgledanog ucenja** - izdvojimo neke kombinacije ***atribut - ciljna_promenljiva*** iz skupa reci (kao ranije sto smo opisali). <br>"
   ]
  },
  {
   "cell_type": "markdown",
   "id": "7ad1a748",
   "metadata": {},
   "source": [
    "Dalje se model trenira kao neuronska mreza. Primer jedne arhitekture:"
   ]
  },
  {
   "cell_type": "code",
   "execution_count": 85,
   "id": "1c56d36a",
   "metadata": {},
   "outputs": [],
   "source": [
    "#Model: \"sequential\"\n",
    "#_________________________________________________________________\n",
    "# Layer (type)                Output Shape              Param #   \n",
    "#=================================================================\n",
    "# embedding (Embedding)       (None, 4, 300)            3000000   \n",
    "#                                                                 \n",
    "# lambda (Lambda)             (None, 300)               0         \n",
    "#                                                                 \n",
    "# flatten (Flatten)           (None, 300)               0         \n",
    "#                                                                 \n",
    "# dense (Dense)               (None, 10000)             3010000   \n",
    "                                                                 \n",
    "#=================================================================\n",
    "#Total params: 6,010,000\n",
    "#Trainable params: 6,010,000\n",
    "#on-trainable params: 0y"
   ]
  },
  {
   "cell_type": "markdown",
   "id": "7000e152",
   "metadata": {},
   "source": [
    "### gensim word2vec"
   ]
  },
  {
   "cell_type": "code",
   "execution_count": 87,
   "id": "1a4f7c41",
   "metadata": {},
   "outputs": [],
   "source": [
    "import gensim"
   ]
  },
  {
   "cell_type": "code",
   "execution_count": 88,
   "id": "e127f753",
   "metadata": {},
   "outputs": [],
   "source": [
    "X_test_tok = [nltk.tokenize.word_tokenize(text) for text in X_test]"
   ]
  },
  {
   "cell_type": "code",
   "execution_count": 89,
   "id": "591b7f44",
   "metadata": {},
   "outputs": [],
   "source": [
    "X_train_test_tok = X_train_tok + X_test_tok"
   ]
  },
  {
   "cell_type": "code",
   "execution_count": 90,
   "id": "44c8c97e",
   "metadata": {},
   "outputs": [],
   "source": [
    "# pravimo jedan w2v model:\n",
    "# - vector_size -> velicina vektora koji dobijemo\n",
    "# - min_count=1 -> izbacujemo reci koje se javljaju samo u jednom dokumentu\n",
    "# - sg=0        -> ne zelimo skip-grap, vec cbow model\n",
    "# - hs=0        -> zelimo negative sampling\n",
    "# - cbow_mean=1 -> zelimo sredinu okolnih reci"
   ]
  },
  {
   "cell_type": "code",
   "execution_count": 91,
   "id": "6fa97d96",
   "metadata": {},
   "outputs": [],
   "source": [
    "X_test_tok_filt = [filter_text(text) for text in X_test_tok]"
   ]
  },
  {
   "cell_type": "code",
   "execution_count": 92,
   "id": "23e3335e",
   "metadata": {},
   "outputs": [],
   "source": [
    "X_embedding_input = X_train_tok_filt + X_test_tok_filt"
   ]
  },
  {
   "cell_type": "code",
   "execution_count": 93,
   "id": "0eb78200",
   "metadata": {},
   "outputs": [
    {
     "name": "stdout",
     "output_type": "stream",
     "text": [
      "CPU times: total: 2min 16s\n",
      "Wall time: 47.2 s\n"
     ]
    }
   ],
   "source": [
    "%%time\n",
    "# ovo moze dugo potrajati (smanjiti broj epoha - inicijalno 20)\n",
    "# primetili smo kroz treniranja (poredeci slicnosti reci naseg i google-ovog modela)\n",
    "# da manji broj epoha efikasniji\n",
    "\n",
    "# na kraju ipak odustajemo od ovih vektora, google-ovi su mnogo efikasniji\n",
    "\n",
    "w2v_model = gensim.models.word2vec.Word2Vec(X_embedding_input,\n",
    "                                           vector_size=300,\n",
    "                                           min_count=1,\n",
    "                                           sg=0,\n",
    "                                           hs=0,\n",
    "                                           negative=10,\n",
    "                                           ns_exponent=0.75,\n",
    "                                           cbow_mean=1,\n",
    "                                           epochs=7,\n",
    "                                            compute_loss=True,\n",
    "                                            shrink_windows=False\n",
    "                                           )"
   ]
  },
  {
   "cell_type": "code",
   "execution_count": 210,
   "id": "0569ced5",
   "metadata": {},
   "outputs": [],
   "source": [
    "# sacuvajmo ovaj model - NECEMO CUVATI NI KORISTITI\n",
    "#w2v_model.save(os.path.join(\"models\", \"cbow2.wv\"))"
   ]
  },
  {
   "cell_type": "code",
   "execution_count": 306,
   "id": "1fd28769",
   "metadata": {},
   "outputs": [],
   "source": [
    "# model mozemo ponovo da ucitamo\n",
    "\n",
    "# gensim.models.word2vec.Word2Vec().load()\n",
    "# ili\n",
    "# gensim.models.word2vec.KeyedVectors().load()"
   ]
  },
  {
   "cell_type": "code",
   "execution_count": 109,
   "id": "117cbf7b",
   "metadata": {},
   "outputs": [],
   "source": [
    "w2v = w2v_model.wv"
   ]
  },
  {
   "cell_type": "markdown",
   "id": "fabd5624",
   "metadata": {},
   "source": [
    "***Slicnost*** dveju reci se definise kao kosinus ugla koji njihovi vektori zaklapaju (***cosine similarity***)."
   ]
  },
  {
   "cell_type": "code",
   "execution_count": 98,
   "id": "ab7ce602",
   "metadata": {},
   "outputs": [],
   "source": [
    "def cosine_similarity(w1, w2):\n",
    "    norm_w1 = np.linalg.norm(w1)\n",
    "    norm_w2 = np.linalg.norm(w2)\n",
    "    \n",
    "    return np.dot(w1, w2)/(norm_w1*norm_w2)\n",
    "\n",
    "# postoji funkcija modela word2vec klase gensim .similarity()"
   ]
  },
  {
   "cell_type": "code",
   "execution_count": 97,
   "id": "0be187c7",
   "metadata": {},
   "outputs": [
    {
     "name": "stdout",
     "output_type": "stream",
     "text": [
      "0.721863\n",
      "0.102985576\n",
      "0.16355476\n",
      "0.5914457\n",
      "0.24038072\n"
     ]
    }
   ],
   "source": [
    "# ispitajmo slicnosti nekih reci \n",
    "# otprilike treba da nam da uvid u kvalitet embedding-a, videcemo kad budemo poredili sa google-ovim\n",
    "\n",
    "print(w2v.similarity(\"motorcycle\", \"bike\"))\n",
    "\n",
    "print(w2v.similarity(\"supreme\", \"minor\"))\n",
    "\n",
    "print(w2v.similarity(\"modern\", \"horse\"))\n",
    "\n",
    "print(w2v.similarity(\"sun\", \"moon\"))\n",
    "\n",
    "print(w2v.similarity(\"bacteria\", \"war\"))"
   ]
  },
  {
   "cell_type": "code",
   "execution_count": 99,
   "id": "32fbd5d4",
   "metadata": {},
   "outputs": [],
   "source": [
    "# pogledajmo najslicnije reci datim recima"
   ]
  },
  {
   "cell_type": "code",
   "execution_count": 100,
   "id": "75ad21d7",
   "metadata": {},
   "outputs": [],
   "source": [
    "words = [\"king\", \"convolution\", \"neuron\", \"sun\", \"abstract\"]"
   ]
  },
  {
   "cell_type": "code",
   "execution_count": 102,
   "id": "78a8f1d3",
   "metadata": {},
   "outputs": [
    {
     "name": "stdout",
     "output_type": "stream",
     "text": [
      "word:  king\n",
      "prophet 0.6983389854431152\n",
      "ruler 0.6924521327018738\n",
      "dictator 0.6840476393699646\n",
      "Herod 0.6727970242500305\n",
      "actor 0.6652816534042358\n",
      "---------------\n",
      "word:  convolution\n",
      "user-defined 0.820295512676239\n",
      "Fourier 0.8120881915092468\n",
      "PBM 0.7780734896659851\n",
      ".jpg 0.7659785747528076\n",
      "navigation 0.7648289799690247\n",
      "---------------\n",
      "word:  neuron\n",
      "salivary 0.7208694815635681\n",
      "negatve 0.7192726731300354\n",
      "inhibit 0.7122418880462646\n",
      "Escherichia 0.7097477316856384\n",
      "flavoring 0.7087228298187256\n",
      "---------------\n",
      "word:  sun\n",
      "edge 0.6323005557060242\n",
      "rocky 0.6290854215621948\n",
      "dark 0.6272591352462769\n",
      "width 0.6264832615852356\n",
      "bar 0.6207994818687439\n",
      "---------------\n",
      "word:  abstract\n",
      "Aided 0.6965957880020142\n",
      "Piacenza 0.6763845682144165\n",
      "observation 0.6748239398002625\n",
      "introductory 0.6738742589950562\n",
      "Smokeless 0.6715380549430847\n",
      "---------------\n"
     ]
    }
   ],
   "source": [
    "for word in words:\n",
    "    similar = w2v.similar_by_key(word, topn=5)\n",
    "    print(\"word: \", word)\n",
    "    for sim_word in similar:\n",
    "        print(sim_word[0], sim_word[1])\n",
    "    print(\"---------------\")"
   ]
  },
  {
   "cell_type": "code",
   "execution_count": 103,
   "id": "6120d5b3",
   "metadata": {},
   "outputs": [],
   "source": [
    "# ispitajmo slicnost nekih reci\n",
    "\n",
    "words2 = [\"boat\", \"sail\", \"see\", \"one\", \"the\", \"white\", \"monument\", \"star\", \"we\", \"peculiar\", \"juicy\"]"
   ]
  },
  {
   "cell_type": "code",
   "execution_count": 106,
   "id": "f6ed1bb6",
   "metadata": {},
   "outputs": [],
   "source": [
    "def heatmap_similarities(words, cbow):\n",
    "    similarities = []\n",
    "    \n",
    "    words = [word if word in cbow.key_to_index else \".\" for word in words]\n",
    "    \n",
    "    for word1 in words:\n",
    "        similarities.append([cbow.similarity(word1, word2) for word2 in words])\n",
    "        \n",
    "    plt.figure(figsize=(8,8))\n",
    "\n",
    "\n",
    "    plt.imshow(similarities, cmap='hot')\n",
    "    plt.colorbar()\n",
    "\n",
    "    plt.xticks(range(len(words)), words, rotation=90)\n",
    "    plt.yticks(range(len(words)), words)\n",
    "\n",
    "    plt.show()"
   ]
  },
  {
   "cell_type": "code",
   "execution_count": 107,
   "id": "185c2528",
   "metadata": {},
   "outputs": [
    {
     "data": {
      "image/png": "[encoded data removed]",
      "text/plain": [
       "<Figure size 576x576 with 2 Axes>"
      ]
     },
     "metadata": {
      "needs_background": "light"
     },
     "output_type": "display_data"
    }
   ],
   "source": [
    "heatmap_similarities(words2, w2v)"
   ]
  },
  {
   "cell_type": "markdown",
   "id": "2ea23695",
   "metadata": {},
   "source": [
    "# Google word2vec"
   ]
  },
  {
   "cell_type": "markdown",
   "id": "b0112058",
   "metadata": {},
   "source": [
    "Kako nam se nasi istrenirani vektori nisu najbolje pokazali, probacemo i google-ov word2vec dostupan na <a href=\"https://code.google.com/archive/p/word2vec/\"> linku</a>."
   ]
  },
  {
   "cell_type": "markdown",
   "id": "db44028c",
   "metadata": {},
   "source": [
    "Kako nam on nudi 3 miliona vektora, iz memorijskih razloga zadrzacemo i sacuvati samo one koji se odnose na reci naseg trening i test skupa."
   ]
  },
  {
   "cell_type": "code",
   "execution_count": 110,
   "id": "c05db093",
   "metadata": {},
   "outputs": [],
   "source": [
    "# ucitavamo google-ov word2vec \n",
    "# velicine je 3GB\n",
    "# NE IZVRSAVATI (jednom izvrsavamo da filtriramo relevantne reci)\n",
    "\n",
    "#google_w2v = gensim.models.KeyedVectors.load_word2vec_format(os.path.join(\"data\", \"GoogleNews-vectors-negative300.bin\"), binary=True)"
   ]
  },
  {
   "cell_type": "code",
   "execution_count": 113,
   "id": "35c5fe42",
   "metadata": {},
   "outputs": [],
   "source": [
    "# reci i vektori koje cemo sacuvati, da ne bi opet ucitavali ceo model"
   ]
  },
  {
   "cell_type": "code",
   "execution_count": 111,
   "id": "efa131d8",
   "metadata": {},
   "outputs": [],
   "source": [
    "googlew2v_vocab = { key : google_w2v.key_to_index[key] for text in X_train_test_tok for key in text if key in google_w2v.key_to_index }"
   ]
  },
  {
   "cell_type": "code",
   "execution_count": 112,
   "id": "0e742fe3",
   "metadata": {},
   "outputs": [],
   "source": [
    "googlew2v_vectors = { key : google_w2v.get_vector(key) for key in googlew2v_vocab }"
   ]
  },
  {
   "cell_type": "code",
   "execution_count": 125,
   "id": "475d8a41",
   "metadata": {},
   "outputs": [],
   "source": [
    "with open(os.path.join(\"data\", \"googlew2v_vocab.pickle\"), \"wb\") as dump_file:\n",
    "    pickle.dump(googlew2v_vocab, dump_file)"
   ]
  },
  {
   "cell_type": "code",
   "execution_count": 129,
   "id": "e8cb40d8",
   "metadata": {},
   "outputs": [],
   "source": [
    "with open(os.path.join(\"data\", \"googlew2v_vectors.pickle\"), \"wb\") as dump_file:\n",
    "    pickle.dump(googlew2v_vectors, dump_file)"
   ]
  },
  {
   "cell_type": "markdown",
   "id": "0e90ff21",
   "metadata": {},
   "source": [
    "---"
   ]
  },
  {
   "cell_type": "code",
   "execution_count": null,
   "id": "a97b38ff",
   "metadata": {},
   "outputs": [],
   "source": [
    "# uporedimo sada ova dva modela"
   ]
  },
  {
   "cell_type": "code",
   "execution_count": 114,
   "id": "df3cfa05",
   "metadata": {},
   "outputs": [
    {
     "data": {
      "image/png": "[encoded data removed]",
      "text/plain": [
       "<Figure size 576x576 with 2 Axes>"
      ]
     },
     "metadata": {
      "needs_background": "light"
     },
     "output_type": "display_data"
    }
   ],
   "source": [
    "heatmap_similarities(words2, w2v)"
   ]
  },
  {
   "cell_type": "code",
   "execution_count": 115,
   "id": "1a565d08",
   "metadata": {},
   "outputs": [
    {
     "data": {
      "image/png": "[encoded data removed]",
      "text/plain": [
       "<Figure size 576x576 with 2 Axes>"
      ]
     },
     "metadata": {
      "needs_background": "light"
     },
     "output_type": "display_data"
    }
   ],
   "source": [
    "heatmap_similarities(words2, google_w2v)"
   ]
  },
  {
   "cell_type": "code",
   "execution_count": 116,
   "id": "fbe1439f",
   "metadata": {},
   "outputs": [],
   "source": [
    "words3 = [\"music\", \"guitar\", \"fly\", \"secondary\", \"magic\", \"float\", \"maintain\", \"hang\", \"formula\", \"absurd\"]"
   ]
  },
  {
   "cell_type": "code",
   "execution_count": 117,
   "id": "e5bb5751",
   "metadata": {},
   "outputs": [
    {
     "data": {
      "image/png": "[encoded data removed]",
      "text/plain": [
       "<Figure size 576x576 with 2 Axes>"
      ]
     },
     "metadata": {
      "needs_background": "light"
     },
     "output_type": "display_data"
    }
   ],
   "source": [
    "heatmap_similarities(words3, w2v)"
   ]
  },
  {
   "cell_type": "code",
   "execution_count": 118,
   "id": "8e453609",
   "metadata": {},
   "outputs": [
    {
     "data": {
      "image/png": "[encoded data removed]",
      "text/plain": [
       "<Figure size 576x576 with 2 Axes>"
      ]
     },
     "metadata": {
      "needs_background": "light"
     },
     "output_type": "display_data"
    }
   ],
   "source": [
    "heatmap_similarities(words3, google_w2v)"
   ]
  },
  {
   "cell_type": "code",
   "execution_count": 121,
   "id": "3776e67a",
   "metadata": {},
   "outputs": [
    {
     "name": "stdout",
     "output_type": "stream",
     "text": [
      "0.721863\n",
      "0.102985576\n",
      "0.16355476\n",
      "0.5914457\n",
      "0.24038072\n"
     ]
    }
   ],
   "source": [
    "# Nas w2v\n",
    "\n",
    "print(w2v.similarity(\"motorcycle\", \"bike\"))\n",
    "\n",
    "print(w2v.similarity(\"supreme\", \"minor\"))\n",
    "\n",
    "print(w2v.similarity(\"modern\", \"horse\"))\n",
    "\n",
    "print(w2v.similarity(\"sun\", \"moon\"))\n",
    "\n",
    "print(w2v.similarity(\"bacteria\", \"war\"))"
   ]
  },
  {
   "cell_type": "code",
   "execution_count": 122,
   "id": "05059665",
   "metadata": {},
   "outputs": [
    {
     "name": "stdout",
     "output_type": "stream",
     "text": [
      "0.70161587\n",
      "0.087841846\n",
      "0.06238736\n",
      "0.42628345\n",
      "-0.0086603975\n"
     ]
    }
   ],
   "source": [
    "# Google-ov google_w2v\n",
    "\n",
    "print(google_w2v.similarity(\"motorcycle\", \"bike\"))\n",
    "\n",
    "print(google_w2v.similarity(\"supreme\", \"minor\"))\n",
    "\n",
    "print(google_w2v.similarity(\"modern\", \"horse\"))\n",
    "\n",
    "print(google_w2v.similarity(\"sun\", \"moon\"))\n",
    "\n",
    "print(google_w2v.similarity(\"bacteria\", \"war\"))"
   ]
  },
  {
   "cell_type": "markdown",
   "id": "d86b61ee",
   "metadata": {},
   "source": [
    "Sta zakljucujemo?"
   ]
  },
  {
   "cell_type": "markdown",
   "id": "03f64759",
   "metadata": {},
   "source": [
    "Iako vidimo vidimo da priblizno slicno nasi i google-ovi vektori ocenjuju reci, <br>\n",
    "kasnije (kod treniranja neuronskih mreza) videcemo da su google-ovi vektori superiorniji. <br>\n",
    "Iz tog razloga od ovog trenutka napustamo nase vektorske reprezentacije."
   ]
  }
 ],
 "metadata": {
  "kernelspec": {
   "display_name": "Python 3 (ipykernel)",
   "language": "python",
   "name": "python3"
  },
  "language_info": {
   "codemirror_mode": {
    "name": "ipython",
    "version": 3
   },
   "file_extension": ".py",
   "mimetype": "text/x-python",
   "name": "python",
   "nbconvert_exporter": "python",
   "pygments_lexer": "ipython3",
   "version": "3.10.5"
  }
 },
 "nbformat": 4,
 "nbformat_minor": 5
}
