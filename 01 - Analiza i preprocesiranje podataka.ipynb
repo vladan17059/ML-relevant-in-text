{
 "cells": [
  {
   "cell_type": "markdown",
   "id": "031b1aa3",
   "metadata": {},
   "source": [
    "# Analiza i preprocesiranje podataka"
   ]
  },
  {
   "cell_type": "markdown",
   "id": "b920c748",
   "metadata": {},
   "source": [
    "NAPOMENA: neka filtriranja, treniranje i sl. se mogu dugo izvrsavati (od nekoliko sekundi, do nekoliko minuta)."
   ]
  },
  {
   "cell_type": "code",
   "execution_count": 1,
   "id": "5db532c9",
   "metadata": {},
   "outputs": [],
   "source": [
    "import numpy as np\n",
    "import pandas as pd"
   ]
  },
  {
   "cell_type": "code",
   "execution_count": 2,
   "id": "efb16a44",
   "metadata": {},
   "outputs": [],
   "source": [
    "from matplotlib import pyplot as plt"
   ]
  },
  {
   "cell_type": "code",
   "execution_count": 3,
   "id": "722c9f40",
   "metadata": {},
   "outputs": [],
   "source": [
    "import nltk\n",
    "from string import punctuation"
   ]
  },
  {
   "cell_type": "code",
   "execution_count": 4,
   "id": "9af44f09",
   "metadata": {},
   "outputs": [],
   "source": [
    "import pickle"
   ]
  },
  {
   "cell_type": "code",
   "execution_count": 5,
   "id": "2c9b8451",
   "metadata": {},
   "outputs": [],
   "source": [
    "import os"
   ]
  },
  {
   "cell_type": "code",
   "execution_count": 6,
   "id": "cee242ec",
   "metadata": {},
   "outputs": [],
   "source": [
    "from sklearn import datasets\n",
    "from sklearn import preprocessing"
   ]
  },
  {
   "cell_type": "code",
   "execution_count": 7,
   "id": "478cc5fa",
   "metadata": {},
   "outputs": [
    {
     "name": "stderr",
     "output_type": "stream",
     "text": [
      "[nltk_data] Downloading package stopwords to\n",
      "[nltk_data]     C:\\Users\\vkova\\AppData\\Roaming\\nltk_data...\n",
      "[nltk_data]   Package stopwords is already up-to-date!\n",
      "[nltk_data] Downloading package punkt to\n",
      "[nltk_data]     C:\\Users\\vkova\\AppData\\Roaming\\nltk_data...\n",
      "[nltk_data]   Package punkt is already up-to-date!\n"
     ]
    },
    {
     "data": {
      "text/plain": [
       "True"
      ]
     },
     "execution_count": 7,
     "metadata": {},
     "output_type": "execute_result"
    }
   ],
   "source": [
    "nltk.download('stopwords')\n",
    "nltk.download('punkt')"
   ]
  },
  {
   "cell_type": "markdown",
   "id": "5c7fe889",
   "metadata": {},
   "source": [
    "***newsgroup*** - kao neke prepiske na forumima na datu temu"
   ]
  },
  {
   "cell_type": "markdown",
   "id": "c4b4482b",
   "metadata": {},
   "source": [
    "1. Pripremamo podatke.\n",
    "2. Obucavamo 2 modela za klasifikaciju - SVM i CNN za klasifikaciju tekstova u jednu od 20 klasa.\n",
    "3. Odredjujemo u kojoj meri su reci teksta zasluzne za izlaz klasifikatora - odredicemo relevantnost reci."
   ]
  },
  {
   "cell_type": "code",
   "execution_count": 8,
   "id": "2775f76e",
   "metadata": {},
   "outputs": [],
   "source": [
    "# ucitavamo skupove za test i trening\n",
    "# uklanjamo samo header-e (korisno u preprocesiranju - dosta nebitnih informacija u header-ima)\n",
    "\n",
    "train_data = datasets.fetch_20newsgroups(random_state=61, remove=('headers'))\n",
    "test_data = datasets.fetch_20newsgroups(random_state=61, subset='test', remove=('headers'))"
   ]
  },
  {
   "cell_type": "code",
   "execution_count": 9,
   "id": "c2b0d99f",
   "metadata": {},
   "outputs": [],
   "source": [
    "# detaljan opis \"20ng\" skupa podataka\n",
    "\n",
    "#print(train_data.DESCR)"
   ]
  },
  {
   "cell_type": "code",
   "execution_count": 10,
   "id": "4f7531ab",
   "metadata": {
    "scrolled": true
   },
   "outputs": [],
   "source": [
    "X_train = train_data.data\n",
    "y_train = train_data.target\n",
    "X_test = test_data.data\n",
    "y_test = test_data.target\n",
    "feature_names = train_data.target_names\n",
    "num_of_features = len(feature_names)"
   ]
  },
  {
   "cell_type": "code",
   "execution_count": 11,
   "id": "5d220fb9",
   "metadata": {},
   "outputs": [],
   "source": [
    "# upoznajemo se bolje sa nasim skupom podataka\n",
    "\n",
    "#print(type(X_train))\n",
    "#print(len(X_train))\n",
    "#print(feature_names)"
   ]
  },
  {
   "cell_type": "code",
   "execution_count": 12,
   "id": "9dbf41f9",
   "metadata": {},
   "outputs": [],
   "source": [
    "# primer jedne istance (clanka), uz odgovarajucu klasu kojoj pripada\n",
    "\n",
    "#print(X_train[0])\n",
    "#print(y_train[0])\n",
    "#print(feature_names[y_train[0]])"
   ]
  },
  {
   "cell_type": "code",
   "execution_count": 13,
   "id": "21e37e7b",
   "metadata": {},
   "outputs": [
    {
     "name": "stdout",
     "output_type": "stream",
     "text": [
      "train:  11314\n",
      "test:  7532\n"
     ]
    }
   ],
   "source": [
    "# broj instanci skupova za treniranje i testiranje\n",
    "\n",
    "N_train = len(X_train)\n",
    "N_test = len(X_test)\n",
    "\n",
    "print(\"train: \", N_train)\n",
    "print(\"test: \", N_test)"
   ]
  },
  {
   "cell_type": "code",
   "execution_count": 14,
   "id": "8ced0609",
   "metadata": {},
   "outputs": [],
   "source": [
    "# ispitujemo balansiranost skupa za trening i test\n",
    "\n",
    "y_train = np.array(y_train)\n",
    "instances_per_class_train = [len(y_train[y_train == i]) for i in range(num_of_features)]"
   ]
  },
  {
   "cell_type": "code",
   "execution_count": 15,
   "id": "2e1ae46f",
   "metadata": {},
   "outputs": [
    {
     "data": {
      "image/png": "[encoded data removed]",
      "text/plain": [
       "<Figure size 576x432 with 1 Axes>"
      ]
     },
     "metadata": {
      "needs_background": "light"
     },
     "output_type": "display_data"
    }
   ],
   "source": [
    "plt.figure(figsize=(8,6))\n",
    "\n",
    "plt.title(\"Number of instances per class - train\")\n",
    "\n",
    "plt.xticks(range(num_of_features), labels=feature_names, rotation='vertical')\n",
    "plt.ylabel(ylabel=\"num_of_instances\")\n",
    "plt.bar(range(num_of_features), instances_per_class_train)\n",
    "\n",
    "plt.show()\n"
   ]
  },
  {
   "cell_type": "code",
   "execution_count": 16,
   "id": "3101f6c7",
   "metadata": {},
   "outputs": [],
   "source": [
    "# ispitujemo balansiranost skupa za trening i test\n",
    "\n",
    "y_test = np.array(y_test)\n",
    "instances_per_class_test = [len(y_test[y_test == i]) for i in range(num_of_features)]"
   ]
  },
  {
   "cell_type": "code",
   "execution_count": 17,
   "id": "a2c4f189",
   "metadata": {},
   "outputs": [
    {
     "data": {
      "image/png": "[encoded data removed]",
      "text/plain": [
       "<Figure size 576x432 with 1 Axes>"
      ]
     },
     "metadata": {
      "needs_background": "light"
     },
     "output_type": "display_data"
    }
   ],
   "source": [
    "plt.figure(figsize=(8,6))\n",
    "\n",
    "plt.title(\"Number of instances per class - test\")\n",
    "\n",
    "plt.xticks(range(num_of_features), labels=feature_names, rotation='vertical')\n",
    "plt.ylabel(ylabel=\"num_of_instances\")\n",
    "plt.bar(range(num_of_features), instances_per_class_test)\n",
    "\n",
    "plt.show()\n"
   ]
  },
  {
   "cell_type": "code",
   "execution_count": 18,
   "id": "e0ce1211",
   "metadata": {},
   "outputs": [],
   "source": [
    "# zakljucujemo da radimo sa balansiranim skupovima podataka.\n",
    "\n",
    "# dalje analizaramo nas trening skup\n",
    "\n",
    "# izvrsimo tokenizaciju kako bi lakse analizirali tekstove po recima"
   ]
  },
  {
   "cell_type": "code",
   "execution_count": 19,
   "id": "03989cd3",
   "metadata": {},
   "outputs": [],
   "source": [
    "def stats(about, X):\n",
    "    print(f\"{about} mean: \", f\"{X.mean():.2f}\")\n",
    "    print(f\"{about} std: \", f\"{X.std():.2f}\")\n",
    "    print(f\"{about} max: \", X.max())\n",
    "    print(f\"{about} min: \", X.min())"
   ]
  },
  {
   "cell_type": "code",
   "execution_count": 20,
   "id": "a800e7c4",
   "metadata": {},
   "outputs": [],
   "source": [
    "X_train_tok = [nltk.tokenize.word_tokenize(text) for text in X_train]"
   ]
  },
  {
   "cell_type": "code",
   "execution_count": 21,
   "id": "7a9c80a6",
   "metadata": {},
   "outputs": [],
   "source": [
    "# recnik (sve razlicite reci)"
   ]
  },
  {
   "cell_type": "code",
   "execution_count": 22,
   "id": "bbe5e149",
   "metadata": {},
   "outputs": [],
   "source": [
    "vocab = {word for text in X_train_tok for word in text}"
   ]
  },
  {
   "cell_type": "code",
   "execution_count": 23,
   "id": "06d47ccc",
   "metadata": {},
   "outputs": [],
   "source": [
    "# broj reci po tekstu\n",
    "\n",
    "text_lens = np.array([len(text) for text in X_train_tok])"
   ]
  },
  {
   "cell_type": "code",
   "execution_count": 24,
   "id": "4850d2ed",
   "metadata": {},
   "outputs": [
    {
     "name": "stdout",
     "output_type": "stream",
     "text": [
      "Number of word mean:  388.52\n",
      "Number of word std:  1342.51\n",
      "Number of word max:  35955\n",
      "Number of word min:  0\n",
      "Number of words total:  4395725\n",
      "Number of distinct words:  195313\n"
     ]
    }
   ],
   "source": [
    "stats(\"Number of word\", text_lens)\n",
    "print(\"Number of words total: \", text_lens.sum())\n",
    "print(\"Number of distinct words: \", len(vocab))\n",
    "# kasnije cemo odsecati (i filtrirati)"
   ]
  },
  {
   "cell_type": "code",
   "execution_count": 25,
   "id": "ce8ec679",
   "metadata": {},
   "outputs": [],
   "source": [
    "# broj reci koje pocinju velikim slovom (po tekstu)"
   ]
  },
  {
   "cell_type": "code",
   "execution_count": 26,
   "id": "cd463adb",
   "metadata": {},
   "outputs": [],
   "source": [
    "upper_case = np.array([len([word for word in text if word.isupper()]) for text in X_train_tok])"
   ]
  },
  {
   "cell_type": "code",
   "execution_count": 27,
   "id": "e5b4ac42",
   "metadata": {},
   "outputs": [
    {
     "name": "stdout",
     "output_type": "stream",
     "text": [
      "Upper case per text mean:  32.14\n",
      "Upper case per text std:  448.99\n",
      "Upper case per text max:  13853\n",
      "Upper case per text min:  0\n"
     ]
    }
   ],
   "source": [
    "stats(\"Upper case per text\", upper_case)"
   ]
  },
  {
   "cell_type": "code",
   "execution_count": 28,
   "id": "7caad0c5",
   "metadata": {},
   "outputs": [],
   "source": [
    "# broj reci koje pocinju brojem (po tekstu)"
   ]
  },
  {
   "cell_type": "code",
   "execution_count": 29,
   "id": "b9725c9e",
   "metadata": {},
   "outputs": [],
   "source": [
    "from string import digits"
   ]
  },
  {
   "cell_type": "code",
   "execution_count": 30,
   "id": "7636176c",
   "metadata": {},
   "outputs": [],
   "source": [
    "startswith_num = lambda x : True in [x.startswith(num) for num in list(digits)]"
   ]
  },
  {
   "cell_type": "code",
   "execution_count": 31,
   "id": "8b030364",
   "metadata": {},
   "outputs": [],
   "source": [
    "numstart = np.array([len([word for word in text if startswith_num(word)]) for text in X_train_tok])"
   ]
  },
  {
   "cell_type": "code",
   "execution_count": 32,
   "id": "ff915126",
   "metadata": {},
   "outputs": [
    {
     "name": "stdout",
     "output_type": "stream",
     "text": [
      "Starts with num per text mean:  11.92\n",
      "Starts with num per text std:  104.25\n",
      "Starts with num per text max:  5169\n",
      "Starts with num per text min:  0\n"
     ]
    }
   ],
   "source": [
    "stats(\"Starts with num per text\", numstart)"
   ]
  },
  {
   "cell_type": "code",
   "execution_count": 33,
   "id": "d9499164",
   "metadata": {},
   "outputs": [],
   "source": [
    "# broj stop reci (stopwords) (po tekstu)"
   ]
  },
  {
   "cell_type": "code",
   "execution_count": 34,
   "id": "f7a305ca",
   "metadata": {},
   "outputs": [],
   "source": [
    "stopwords = nltk.corpus.stopwords.words('english')"
   ]
  },
  {
   "cell_type": "code",
   "execution_count": 35,
   "id": "0378e2b8",
   "metadata": {},
   "outputs": [],
   "source": [
    "stopwords_num = np.array([len([word for word in text if word in stopwords]) for text in X_train_tok])"
   ]
  },
  {
   "cell_type": "code",
   "execution_count": 36,
   "id": "63a37a0c",
   "metadata": {},
   "outputs": [
    {
     "name": "stdout",
     "output_type": "stream",
     "text": [
      "Stopwords per text mean:  97.25\n",
      "Stopwords per text std:  202.22\n",
      "Stopwords per text max:  5343\n",
      "Stopwords per text min:  0\n"
     ]
    }
   ],
   "source": [
    "stats(\"Stopwords per text\", stopwords_num)"
   ]
  },
  {
   "cell_type": "code",
   "execution_count": 37,
   "id": "5e388562",
   "metadata": {},
   "outputs": [
    {
     "name": "stdout",
     "output_type": "stream",
     "text": [
      "Stopwords in corpus: 25.03%\n"
     ]
    }
   ],
   "source": [
    "print(f\"Stopwords in corpus: {100*(stopwords_num.sum()/text_lens.sum()):.2f}%\")"
   ]
  },
  {
   "cell_type": "code",
   "execution_count": 38,
   "id": "5cfba3ee",
   "metadata": {},
   "outputs": [],
   "source": [
    "# primecujemo da stop reci (ocekivano) predstavljaju znacajan deo naseg korpusa, treba doneti odluku da li da se uklone ili ne\n",
    "# obicno se uklanjaju, medjutim, zbog LRP moramo razmisliti"
   ]
  },
  {
   "cell_type": "code",
   "execution_count": 39,
   "id": "d37e1850",
   "metadata": {},
   "outputs": [],
   "source": [
    "# broj znakova . , ! # ? i sl. (znakova iz string.punctuation) (po tekstu)"
   ]
  },
  {
   "cell_type": "code",
   "execution_count": 40,
   "id": "44fd0087",
   "metadata": {},
   "outputs": [],
   "source": [
    "from string import punctuation"
   ]
  },
  {
   "cell_type": "code",
   "execution_count": 41,
   "id": "a538aa32",
   "metadata": {},
   "outputs": [],
   "source": [
    "punct_num = np.array([len([word for word in text if word in list(punctuation)]) for text in X_train_tok])"
   ]
  },
  {
   "cell_type": "code",
   "execution_count": 42,
   "id": "c7473d65",
   "metadata": {},
   "outputs": [
    {
     "name": "stdout",
     "output_type": "stream",
     "text": [
      "Punctuations per text mean:  90.60\n",
      "Punctuations per text std:  647.97\n",
      "Punctuations per text max:  22145\n",
      "Punctuations per text min:  0\n"
     ]
    }
   ],
   "source": [
    "stats(\"Punctuations per text\", punct_num)"
   ]
  },
  {
   "cell_type": "code",
   "execution_count": 43,
   "id": "15e0c4b7",
   "metadata": {},
   "outputs": [],
   "source": [
    "# broj reci koje pocinju malim slovom (po tekstu)"
   ]
  },
  {
   "cell_type": "code",
   "execution_count": 44,
   "id": "15732a88",
   "metadata": {},
   "outputs": [],
   "source": [
    "lower_words = {word for word in vocab if word.islower()}"
   ]
  },
  {
   "cell_type": "code",
   "execution_count": 45,
   "id": "c2681a0f",
   "metadata": {},
   "outputs": [
    {
     "name": "stdout",
     "output_type": "stream",
     "text": [
      "67149\n"
     ]
    }
   ],
   "source": [
    "print(len(lower_words))"
   ]
  },
  {
   "cell_type": "code",
   "execution_count": 46,
   "id": "9221c839",
   "metadata": {},
   "outputs": [],
   "source": [
    "# broj reci koje pocinju velikim slovom, a jednake su nekoj reci koje pocinju malim slovom\n",
    "# npr. Tonight = tonight = TONIGHT\n",
    "\n",
    "# zasto je ovo bitno? \n",
    "# kad kasnije budemo filtrirali, mozda cemo preci na lowercase\n",
    "# time gubimo informacije npr. RAM (memorija) != ram (ovca, oruzje za opsadu, glagol, ...)\n",
    "# a posle lowercasing-a ce postati..."
   ]
  },
  {
   "cell_type": "code",
   "execution_count": 47,
   "id": "ef3627fe",
   "metadata": {},
   "outputs": [],
   "source": [
    "lower_and_upper = [word for text in X_train_tok for word in text if word.isupper() and word.lower() in lower_words]"
   ]
  },
  {
   "cell_type": "code",
   "execution_count": 48,
   "id": "1f53c64f",
   "metadata": {},
   "outputs": [
    {
     "name": "stdout",
     "output_type": "stream",
     "text": [
      "Lower-upper words in corpus:  174071\n",
      "Lower-upper words in corpus: 3.96%\n"
     ]
    }
   ],
   "source": [
    "print(\"Lower-upper words in corpus: \", len(lower_and_upper))\n",
    "print(f\"Lower-upper words in corpus: {100*len(lower_and_upper)/text_lens.sum():.2f}%\")"
   ]
  },
  {
   "cell_type": "code",
   "execution_count": 49,
   "id": "d328300c",
   "metadata": {},
   "outputs": [],
   "source": [
    "# dalje mozemo jos razne zanimljivosti izvlaciti..."
   ]
  },
  {
   "cell_type": "markdown",
   "id": "87129cf7",
   "metadata": {},
   "source": [
    "## Tokenizacija i filtriranje"
   ]
  },
  {
   "cell_type": "markdown",
   "id": "33dadad9",
   "metadata": {},
   "source": [
    "1. Tokenizujemo tekstove (koristicemo *nltk* biblioteku -  vec obavljeno).\n",
    "2. Zadrzimo samo reci koje sadrze slova, tacku, apostrof, i crticu (i bar jedno slovo - ne zelimo samo **.** npr.).\n",
    "3. Pripremimo vektorizator koji ce dodatno prebaciti sve reci u mala slova i izbaciti one koje se javljaju u manje od 2 dokumenta (pretpostavljamo da su to pogresno napisane reci).\n",
    "4. Iako nije navedeno, mozemo izbaciti i poznate stop-reci (*stopwords*) - ovo ce nam takodje vektorizator omoguciti."
   ]
  },
  {
   "cell_type": "markdown",
   "id": "6945ec61",
   "metadata": {},
   "source": [
    "### 1. Tokenizacija"
   ]
  },
  {
   "cell_type": "code",
   "execution_count": 50,
   "id": "f317da3d",
   "metadata": {},
   "outputs": [],
   "source": [
    "# obavljena"
   ]
  },
  {
   "cell_type": "markdown",
   "id": "259bc2e4",
   "metadata": {},
   "source": [
    "### 2. Filtriranje"
   ]
  },
  {
   "cell_type": "code",
   "execution_count": 51,
   "id": "d4beb0d1",
   "metadata": {},
   "outputs": [],
   "source": [
    "from string import ascii_letters"
   ]
  },
  {
   "cell_type": "code",
   "execution_count": 52,
   "id": "b30e2a3f",
   "metadata": {},
   "outputs": [],
   "source": [
    "retain_chars = list(ascii_letters) + list(\".-'\")"
   ]
  },
  {
   "cell_type": "code",
   "execution_count": 54,
   "id": "76f9c1f4",
   "metadata": {},
   "outputs": [],
   "source": [
    "def retain_word(word):\n",
    "    # sastoji se samo od slova . -  '\n",
    "    for c in list(word):\n",
    "        if c not in retain_chars:\n",
    "            return False\n",
    "    \n",
    "    # sadrzi bar jedno slovo\n",
    "    for c in list(word):\n",
    "        if c.isalpha():\n",
    "            return True\n",
    "        \n",
    "    return False"
   ]
  },
  {
   "cell_type": "code",
   "execution_count": 55,
   "id": "9e022cbe",
   "metadata": {},
   "outputs": [],
   "source": [
    "def filter_text(text):\n",
    "    text = [word for word in text if retain_word(word)]\n",
    "    return text"
   ]
  },
  {
   "cell_type": "code",
   "execution_count": 56,
   "id": "34cf0e60",
   "metadata": {},
   "outputs": [],
   "source": [
    "X_train_tok_filt = [filter_text(text) for text in X_train_tok] "
   ]
  },
  {
   "cell_type": "markdown",
   "id": "9b2d3017",
   "metadata": {},
   "source": [
    "### 3. Vektorizator"
   ]
  },
  {
   "cell_type": "code",
   "execution_count": 57,
   "id": "ac4932e4",
   "metadata": {},
   "outputs": [],
   "source": [
    "from sklearn.feature_extraction.text import TfidfVectorizer"
   ]
  },
  {
   "cell_type": "code",
   "execution_count": 58,
   "id": "29dfe815",
   "metadata": {},
   "outputs": [],
   "source": [
    "# pripremamo vektorizator \n",
    "#    - min_df=2 izbacuje reci koje se pojavljuju samo u jednom tekstu\n",
    "#    - tokenizator koji smo koristili (moramo vratiti recenice u sirov oblik)\n",
    "#    - NECEMO raditi lowercasing\n",
    "#    - napravicemo jos jedan vektorizator koji izbacuje stop reci (eksperimentalno)"
   ]
  },
  {
   "cell_type": "code",
   "execution_count": 59,
   "id": "d3b1dd2a",
   "metadata": {},
   "outputs": [],
   "source": [
    "vectorizer = TfidfVectorizer(min_df=2, tokenizer=nltk.tokenize.word_tokenize, lowercase=False)"
   ]
  },
  {
   "cell_type": "code",
   "execution_count": 60,
   "id": "9e11e042",
   "metadata": {},
   "outputs": [],
   "source": [
    "# ako zelimo da izbacimo stop-reci\n",
    "\n",
    "#filter_words = stopwords + list(punctuation)\n",
    "#vectorizer_filterstop = TfidfVectorizer(min_df=2, tokenizer=nltk.tokenize.word_tokenize, stop_words=filter_words)"
   ]
  },
  {
   "cell_type": "code",
   "execution_count": 61,
   "id": "da16dcc3",
   "metadata": {},
   "outputs": [],
   "source": [
    "# fit-ujemo vektorizator - samo na trening skupu (da informacije ne procure)"
   ]
  },
  {
   "cell_type": "code",
   "execution_count": 62,
   "id": "31568184",
   "metadata": {},
   "outputs": [],
   "source": [
    "X_train_filtered = [\" \".join(text) for text in X_train_tok_filt]"
   ]
  },
  {
   "cell_type": "code",
   "execution_count": 63,
   "id": "816c427b",
   "metadata": {},
   "outputs": [
    {
     "name": "stderr",
     "output_type": "stream",
     "text": [
      "C:\\Users\\vkova\\AppData\\Local\\Programs\\Python\\Python310\\lib\\site-packages\\sklearn\\feature_extraction\\text.py:524: UserWarning: The parameter 'token_pattern' will not be used since 'tokenizer' is not None'\n",
      "  warnings.warn(\n"
     ]
    },
    {
     "name": "stdout",
     "output_type": "stream",
     "text": [
      "CPU times: total: 6.45 s\n",
      "Wall time: 6.47 s\n"
     ]
    },
    {
     "data": {
      "text/html": [
       "<style>#sk-container-id-1 {color: black;background-color: white;}#sk-container-id-1 pre{padding: 0;}#sk-container-id-1 div.sk-toggleable {background-color: white;}#sk-container-id-1 label.sk-toggleable__label {cursor: pointer;display: block;width: 100%;margin-bottom: 0;padding: 0.3em;box-sizing: border-box;text-align: center;}#sk-container-id-1 label.sk-toggleable__label-arrow:before {content: \"▸\";float: left;margin-right: 0.25em;color: #696969;}#sk-container-id-1 label.sk-toggleable__label-arrow:hover:before {color: black;}#sk-container-id-1 div.sk-estimator:hover label.sk-toggleable__label-arrow:before {color: black;}#sk-container-id-1 div.sk-toggleable__content {max-height: 0;max-width: 0;overflow: hidden;text-align: left;background-color: #f0f8ff;}#sk-container-id-1 div.sk-toggleable__content pre {margin: 0.2em;color: black;border-radius: 0.25em;background-color: #f0f8ff;}#sk-container-id-1 input.sk-toggleable__control:checked~div.sk-toggleable__content {max-height: 200px;max-width: 100%;overflow: auto;}#sk-container-id-1 input.sk-toggleable__control:checked~label.sk-toggleable__label-arrow:before {content: \"▾\";}#sk-container-id-1 div.sk-estimator input.sk-toggleable__control:checked~label.sk-toggleable__label {background-color: #d4ebff;}#sk-container-id-1 div.sk-label input.sk-toggleable__control:checked~label.sk-toggleable__label {background-color: #d4ebff;}#sk-container-id-1 input.sk-hidden--visually {border: 0;clip: rect(1px 1px 1px 1px);clip: rect(1px, 1px, 1px, 1px);height: 1px;margin: -1px;overflow: hidden;padding: 0;position: absolute;width: 1px;}#sk-container-id-1 div.sk-estimator {font-family: monospace;background-color: #f0f8ff;border: 1px dotted black;border-radius: 0.25em;box-sizing: border-box;margin-bottom: 0.5em;}#sk-container-id-1 div.sk-estimator:hover {background-color: #d4ebff;}#sk-container-id-1 div.sk-parallel-item::after {content: \"\";width: 100%;border-bottom: 1px solid gray;flex-grow: 1;}#sk-container-id-1 div.sk-label:hover label.sk-toggleable__label {background-color: #d4ebff;}#sk-container-id-1 div.sk-serial::before {content: \"\";position: absolute;border-left: 1px solid gray;box-sizing: border-box;top: 0;bottom: 0;left: 50%;z-index: 0;}#sk-container-id-1 div.sk-serial {display: flex;flex-direction: column;align-items: center;background-color: white;padding-right: 0.2em;padding-left: 0.2em;position: relative;}#sk-container-id-1 div.sk-item {position: relative;z-index: 1;}#sk-container-id-1 div.sk-parallel {display: flex;align-items: stretch;justify-content: center;background-color: white;position: relative;}#sk-container-id-1 div.sk-item::before, #sk-container-id-1 div.sk-parallel-item::before {content: \"\";position: absolute;border-left: 1px solid gray;box-sizing: border-box;top: 0;bottom: 0;left: 50%;z-index: -1;}#sk-container-id-1 div.sk-parallel-item {display: flex;flex-direction: column;z-index: 1;position: relative;background-color: white;}#sk-container-id-1 div.sk-parallel-item:first-child::after {align-self: flex-end;width: 50%;}#sk-container-id-1 div.sk-parallel-item:last-child::after {align-self: flex-start;width: 50%;}#sk-container-id-1 div.sk-parallel-item:only-child::after {width: 0;}#sk-container-id-1 div.sk-dashed-wrapped {border: 1px dashed gray;margin: 0 0.4em 0.5em 0.4em;box-sizing: border-box;padding-bottom: 0.4em;background-color: white;}#sk-container-id-1 div.sk-label label {font-family: monospace;font-weight: bold;display: inline-block;line-height: 1.2em;}#sk-container-id-1 div.sk-label-container {text-align: center;}#sk-container-id-1 div.sk-container {/* jupyter's `normalize.less` sets `[hidden] { display: none; }` but bootstrap.min.css set `[hidden] { display: none !important; }` so we also need the `!important` here to be able to override the default hidden behavior on the sphinx rendered scikit-learn.org. See: https://github.com/scikit-learn/scikit-learn/issues/21755 */display: inline-block !important;position: relative;}#sk-container-id-1 div.sk-text-repr-fallback {display: none;}</style><div id=\"sk-container-id-1\" class=\"sk-top-container\"><div class=\"sk-text-repr-fallback\"><pre>TfidfVectorizer(lowercase=False, min_df=2,\n",
       "                tokenizer=&lt;function word_tokenize at 0x00000219423ABD00&gt;)</pre><b>In a Jupyter environment, please rerun this cell to show the HTML representation or trust the notebook. <br />On GitHub, the HTML representation is unable to render, please try loading this page with nbviewer.org.</b></div><div class=\"sk-container\" hidden><div class=\"sk-item\"><div class=\"sk-estimator sk-toggleable\"><input class=\"sk-toggleable__control sk-hidden--visually\" id=\"sk-estimator-id-1\" type=\"checkbox\" checked><label for=\"sk-estimator-id-1\" class=\"sk-toggleable__label sk-toggleable__label-arrow\">TfidfVectorizer</label><div class=\"sk-toggleable__content\"><pre>TfidfVectorizer(lowercase=False, min_df=2,\n",
       "                tokenizer=&lt;function word_tokenize at 0x00000219423ABD00&gt;)</pre></div></div></div></div></div>"
      ],
      "text/plain": [
       "TfidfVectorizer(lowercase=False, min_df=2,\n",
       "                tokenizer=<function word_tokenize at 0x00000219423ABD00>)"
      ]
     },
     "execution_count": 63,
     "metadata": {},
     "output_type": "execute_result"
    }
   ],
   "source": [
    "%%time\n",
    "vectorizer.fit(X_train_filtered)"
   ]
  },
  {
   "cell_type": "code",
   "execution_count": 64,
   "id": "f28a9780",
   "metadata": {},
   "outputs": [],
   "source": [
    "#vectorizer_filterstop.fit(X_train_filtered)"
   ]
  },
  {
   "cell_type": "code",
   "execution_count": 65,
   "id": "8d8430c8",
   "metadata": {},
   "outputs": [],
   "source": [
    "# reci koje je vektorizator \"ostavio\" nalaze se u njegovom vokabularu\n",
    "# nadalje cemo pomocu njega filtrirati tekstove\n",
    "# pogledajmo opet statistike duzine tekstova - za tekstove sa i bez stop reci"
   ]
  },
  {
   "cell_type": "code",
   "execution_count": 66,
   "id": "d520c14d",
   "metadata": {},
   "outputs": [
    {
     "name": "stdout",
     "output_type": "stream",
     "text": [
      "Vocab len:  55505\n"
     ]
    }
   ],
   "source": [
    "print(\"Vocab len: \", len(vectorizer.vocabulary_))"
   ]
  },
  {
   "cell_type": "code",
   "execution_count": 67,
   "id": "ce2a74d4",
   "metadata": {},
   "outputs": [],
   "source": [
    "# filtrirajmo opet nas korpus\n",
    "# izbacujemo reci koje nisu u vokabularu\n",
    "\n",
    "# NAPOMENA: na ovaj nacin mozemo ubuduce filtrirati korpus (tokenizator nltk)\n",
    "# sacuvajmo zato vectorizer"
   ]
  },
  {
   "cell_type": "code",
   "execution_count": 69,
   "id": "34eff5dc",
   "metadata": {},
   "outputs": [],
   "source": [
    "with open(os.path.join(\"models\", \"vectorizer.pickle\"), \"wb\") as dump_file:\n",
    "    pickle.dump(vectorizer, dump_file)"
   ]
  },
  {
   "cell_type": "code",
   "execution_count": 78,
   "id": "5006dc01",
   "metadata": {},
   "outputs": [],
   "source": [
    "vocabulary = vectorizer.vocabulary_"
   ]
  },
  {
   "cell_type": "code",
   "execution_count": 79,
   "id": "5d573314",
   "metadata": {},
   "outputs": [],
   "source": [
    "X_train_final = [[word for word in text if word in vocabulary] for text in X_train_tok_filt ]"
   ]
  },
  {
   "cell_type": "code",
   "execution_count": 80,
   "id": "47db27cf",
   "metadata": {},
   "outputs": [],
   "source": [
    "# ispitajmo sada kolike su duzine tekstova"
   ]
  },
  {
   "cell_type": "code",
   "execution_count": 81,
   "id": "5e1d448a",
   "metadata": {},
   "outputs": [],
   "source": [
    "text_lens_final = np.array([len(text) for text in X_train_final])"
   ]
  },
  {
   "cell_type": "code",
   "execution_count": 83,
   "id": "9b224c9b",
   "metadata": {},
   "outputs": [
    {
     "name": "stdout",
     "output_type": "stream",
     "text": [
      "Text lengths after preprocessing mean:  254.23\n",
      "Text lengths after preprocessing std:  570.90\n",
      "Text lengths after preprocessing max:  12783\n",
      "Text lengths after preprocessing min:  0\n",
      "Number of words total:  2876341\n",
      "Number of distinct words:  55505\n"
     ]
    }
   ],
   "source": [
    "stats(\"Text lengths after preprocessing\", text_lens_final)\n",
    "print(\"Number of words total: \", text_lens_final.sum())\n",
    "print(\"Number of distinct words: \", len(vocabulary))"
   ]
  },
  {
   "cell_type": "code",
   "execution_count": 90,
   "id": "f0d746e3",
   "metadata": {},
   "outputs": [
    {
     "name": "stdout",
     "output_type": "stream",
     "text": [
      "Words dropped:  139808\n",
      "Words dropped %: 71.58%\n",
      "Total words dropped:  1519384\n",
      "Total words dropped %: 34.57%\n"
     ]
    }
   ],
   "source": [
    "# koliko smo reci (tokena) izgubili kroz ovaj proces:\n",
    "\n",
    "print(\"Words dropped: \", len(vocab) - len(vocabulary))\n",
    "print(f\"Words dropped %: {100*(len(vocab) - len(vocabulary))/len(vocab):.2f}%\")\n",
    "print(\"Total words dropped: \", text_lens.sum()-text_lens_final.sum())\n",
    "print(f\"Total words dropped %: {100*(text_lens.sum()-text_lens_final.sum())/text_lens.sum():.2f}%\")"
   ]
  },
  {
   "cell_type": "code",
   "execution_count": 91,
   "id": "aa874ace",
   "metadata": {},
   "outputs": [],
   "source": [
    "more_than_400 = len(text_lens_final[text_lens_final>400])"
   ]
  },
  {
   "cell_type": "code",
   "execution_count": 92,
   "id": "395b0eb3",
   "metadata": {},
   "outputs": [
    {
     "name": "stdout",
     "output_type": "stream",
     "text": [
      "Texts with more than 400 words:  1381\n",
      "Percentage: 12.21%\n"
     ]
    }
   ],
   "source": [
    "print(\"Texts with more than 400 words: \", more_than_400)\n",
    "print(f\"Percentage: {100*more_than_400/N_train:.2f}%\")"
   ]
  },
  {
   "cell_type": "code",
   "execution_count": 93,
   "id": "c5b607c6",
   "metadata": {},
   "outputs": [],
   "source": [
    "# broj tekstova po duzini"
   ]
  },
  {
   "cell_type": "code",
   "execution_count": 94,
   "id": "745af3fb",
   "metadata": {},
   "outputs": [
    {
     "data": {
      "image/png": "[encoded data removed]",
      "text/plain": [
       "<Figure size 1152x576 with 2 Axes>"
      ]
     },
     "metadata": {
      "needs_background": "light"
     },
     "output_type": "display_data"
    }
   ],
   "source": [
    "plt.figure(figsize=(16,8))\n",
    "\n",
    "plt.subplot(121)\n",
    "plt.title(\"Length of text\")\n",
    "plt.xlabel(xlabel=\"num_of_tokens\")\n",
    "plt.ylabel(ylabel='num_of_texts')\n",
    "plt.hist(text_lens_final)\n",
    "plt.grid(True)\n",
    "\n",
    "plt.subplot(122)\n",
    "plt.title(\"Length of text (less than 1000 words)\")\n",
    "plt.xlabel(xlabel=\"num_of_tokens\")\n",
    "plt.ylabel(ylabel='num_of_texts')\n",
    "plt.hist(text_lens_final, range=(0,1000), bins=20)\n",
    "plt.grid(True)\n",
    "\n",
    "plt.show()"
   ]
  },
  {
   "cell_type": "code",
   "execution_count": 284,
   "id": "c3e36818",
   "metadata": {},
   "outputs": [],
   "source": [
    "# zavrsili smo osnovnu analizu i preprocesiranje"
   ]
  },
  {
   "cell_type": "markdown",
   "id": "74fbb612",
   "metadata": {},
   "source": [
    "# CBOW (word2vec embedding)"
   ]
  },
  {
   "cell_type": "markdown",
   "id": "f96a1bb7",
   "metadata": {},
   "source": [
    "***word2vec*** je skup modela za **vektorizaciju reci** (***word embedding***). <br>\n",
    "Ovi modeli recima dodeljuju **vektor** na osnovu njihovog ***'konteksta'*** ***(veze sa drugim recima)***."
   ]
  },
  {
   "cell_type": "markdown",
   "id": "bf2c705b",
   "metadata": {},
   "source": [
    "U zavisnosti od toga **kako zelimo da modelujemo kontekst** reci, biramo jedan od 2 poznata modela:\n",
    "1. ***CBOW (Continuous Bag of Words)*** - brzi i bolji za veci skup reci, kada su reci frekventnije\n",
    "2. ***Skip-gram*** - bolje radi za manji skup reci, uspesno modeluje veze reci sa malom frekvencijom"
   ]
  },
  {
   "cell_type": "markdown",
   "id": "c881399c",
   "metadata": {},
   "source": [
    "*CBOW* na osnovu fiksiranog broja *(NAPOMENA: eksperimentise se i sa promenljivom velicinom - gensim dokumentacija)*  reci\n",
    "oko ciljne reci pokusava da modeluje znacenje ciljne reci (reci u sredini). <br>\n",
    "Za atribut se uzme npr. **prosek** okolnih reci."
   ]
  },
  {
   "cell_type": "code",
   "execution_count": 95,
   "id": "1efad34c",
   "metadata": {},
   "outputs": [],
   "source": [
    "# primer: \"The cat sat on the mat\"\n",
    "# neka je window_size=2 (okolina ciljne reci)\n",
    "# neka je ciljna rec \"sat\"\n",
    "# --->\n",
    "# mean([\"The\", \"cat\", \"on\", \"the\"]) - atribut\n",
    "# \"sat\" - ciljna rec"
   ]
  },
  {
   "cell_type": "markdown",
   "id": "2e2d3ce2",
   "metadata": {},
   "source": [
    "*Skip-gram* radi slicno, uzima okolinu ciljne reci i iz nje izdvaja par (ciljna_rec, rec_iz_okoline)."
   ]
  },
  {
   "cell_type": "code",
   "execution_count": 96,
   "id": "40f11e2a",
   "metadata": {},
   "outputs": [],
   "source": [
    "# iz prethodnog primera:\n",
    "# --->\n",
    "# parovi (atribut,ciljna_rec): (\"The\", \"sat\"), (\"cat\", \"sat\"), (\"on\", \"sat\"), (\"the\", \"sat\")"
   ]
  },
  {
   "cell_type": "markdown",
   "id": "ae758621",
   "metadata": {},
   "source": [
    "Mi cemo koristiti *CBOW* model."
   ]
  },
  {
   "cell_type": "markdown",
   "id": "5bb35289",
   "metadata": {},
   "source": [
    "Iako su ovo modeli **nenadgledanog ucenja** (nemamo ciljnu promenljivu u skupu reci), mi ih obucavamo kao modele **nadgledanog ucenja** - izdvojimo neke kombinacije ***atribut - ciljna_promenljiva*** iz skupa reci (kao ranije sto smo opisali). <br>"
   ]
  },
  {
   "cell_type": "markdown",
   "id": "7ad1a748",
   "metadata": {},
   "source": [
    "Dalje se model trenira kao neuronska mreza. Primer jedne arhitekture:"
   ]
  },
  {
   "cell_type": "code",
   "execution_count": 97,
   "id": "1c56d36a",
   "metadata": {},
   "outputs": [],
   "source": [
    "#Model: \"sequential\"\n",
    "#_________________________________________________________________\n",
    "# Layer (type)                Output Shape              Param #   \n",
    "#=================================================================\n",
    "# embedding (Embedding)       (None, 4, 300)            3000000   \n",
    "#                                                                 \n",
    "# lambda (Lambda)             (None, 300)               0         \n",
    "#                                                                 \n",
    "# flatten (Flatten)           (None, 300)               0         \n",
    "#                                                                 \n",
    "# dense (Dense)               (None, 10000)             3010000   \n",
    "                                                                 \n",
    "#=================================================================\n",
    "#Total params: 6,010,000\n",
    "#Trainable params: 6,010,000\n",
    "#on-trainable params: 0y"
   ]
  },
  {
   "cell_type": "markdown",
   "id": "7000e152",
   "metadata": {},
   "source": [
    "Koristicemo vec postojeci ***word2vec*** model biblioteke ***gensim***."
   ]
  },
  {
   "cell_type": "code",
   "execution_count": 98,
   "id": "1a4f7c41",
   "metadata": {},
   "outputs": [],
   "source": [
    "import gensim"
   ]
  },
  {
   "cell_type": "code",
   "execution_count": 99,
   "id": "44c8c97e",
   "metadata": {},
   "outputs": [],
   "source": [
    "# pravimo jedan w2v model:\n",
    "# - vector_size -> velicina vektora koji dobijemo\n",
    "# - min_count=0 -> ne zelimo dalje filtriranje po frekvenciji reci\n",
    "# - sg=0        -> ne zelimo skip-grap, vec cbow model\n",
    "# - hs=0        -> zelimo negative sampling\n",
    "# - cbow_mean=1 -> zelimo sredinu okolnih reci"
   ]
  },
  {
   "cell_type": "code",
   "execution_count": 101,
   "id": "0eb78200",
   "metadata": {},
   "outputs": [
    {
     "name": "stdout",
     "output_type": "stream",
     "text": [
      "CPU times: total: 3min 3s\n",
      "Wall time: 1min 2s\n"
     ]
    }
   ],
   "source": [
    "%%time\n",
    "# ovo moze dugo potrajati (smanjiti broj epoha - inicijalno 20)\n",
    "\n",
    "w2v_model = gensim.models.word2vec.Word2Vec(X_train_final,\n",
    "                                           vector_size=300,\n",
    "                                           min_count=0,\n",
    "                                           sg=0,\n",
    "                                           hs=0,\n",
    "                                           negative=10,\n",
    "                                           ns_exponent=0.75,\n",
    "                                           cbow_mean=1,\n",
    "                                           epochs=20,\n",
    "                                            compute_loss=True\n",
    "                                           )"
   ]
  },
  {
   "cell_type": "code",
   "execution_count": 102,
   "id": "0569ced5",
   "metadata": {},
   "outputs": [],
   "source": [
    "# sacuvajmo ovaj model\n",
    "w2v_model.save(os.path.join(\"models\", \"cbow.wv\"))"
   ]
  },
  {
   "cell_type": "code",
   "execution_count": 306,
   "id": "1fd28769",
   "metadata": {},
   "outputs": [],
   "source": [
    "# model mozemo ponovo da ucitamo\n",
    "\n",
    "# gensim.models.word2vec.Word2Vec().load()\n",
    "# ili\n",
    "# gensim.models.word2vec.KeyedVectors().load()"
   ]
  },
  {
   "cell_type": "code",
   "execution_count": 103,
   "id": "55b2e40e",
   "metadata": {},
   "outputs": [],
   "source": [
    "cbow = w2v_model.wv"
   ]
  },
  {
   "cell_type": "markdown",
   "id": "0b7d13cf",
   "metadata": {},
   "source": [
    "***Slicnost*** dveju reci se definise kao kosinus ugla koji njihovi vektori zaklapaju (***cosine similarity***)."
   ]
  },
  {
   "cell_type": "code",
   "execution_count": 104,
   "id": "35d67487",
   "metadata": {},
   "outputs": [],
   "source": [
    "def cosine_similarity(w1, w2):\n",
    "    norm_w1 = np.linalg.norm(w1)\n",
    "    norm_w2 = np.linalg.norm(w2)\n",
    "    \n",
    "    return np.dot(w1, w2)/(norm_w1*norm_w2)"
   ]
  },
  {
   "cell_type": "code",
   "execution_count": 350,
   "id": "f3cf627c",
   "metadata": {},
   "outputs": [],
   "source": [
    "# pogledajmo slicnosti nekih reci"
   ]
  },
  {
   "cell_type": "code",
   "execution_count": 105,
   "id": "aa26b8a3",
   "metadata": {},
   "outputs": [
    {
     "name": "stdout",
     "output_type": "stream",
     "text": [
      "0.5860116\n",
      "-0.1066406\n",
      "-0.01931891\n"
     ]
    }
   ],
   "source": [
    "print(cbow.similarity(\"motorcycle\", \"bike\"))\n",
    "\n",
    "print(cbow.similarity(\"supreme\", \"minor\"))\n",
    "\n",
    "print(cbow.similarity(\"modern\", \"horse\"))"
   ]
  },
  {
   "cell_type": "code",
   "execution_count": 351,
   "id": "32fbd5d4",
   "metadata": {},
   "outputs": [],
   "source": [
    "# pogledajmo najslicnije reci datim recima"
   ]
  },
  {
   "cell_type": "code",
   "execution_count": 106,
   "id": "75ad21d7",
   "metadata": {},
   "outputs": [],
   "source": [
    "words = [\"king\", \"convolution\", \"neuron\", \"sun\", \"abstract\"]"
   ]
  },
  {
   "cell_type": "code",
   "execution_count": 107,
   "id": "6e2d27fe",
   "metadata": {
    "collapsed": true
   },
   "outputs": [
    {
     "name": "stdout",
     "output_type": "stream",
     "text": [
      "word:  king\n",
      "Solomon 0.5540077090263367\n",
      "Herod 0.5271088480949402\n",
      "Isaac 0.5002740621566772\n",
      "King 0.49667027592658997\n",
      "Constantinople 0.4850626289844513\n",
      "---------------\n",
      "word:  convolution\n",
      "Fourier 0.8425139784812927\n",
      "transforms 0.8080564737319946\n",
      "user-defined 0.7925676107406616\n",
      "canned 0.7830947637557983\n",
      "semilog 0.768878698348999\n",
      "---------------\n",
      "word:  neuron\n",
      "humidity 0.5850765109062195\n",
      "MUHAMMED 0.5682938694953918\n",
      "gleaned 0.5652386546134949\n",
      "MIFF 0.561920702457428\n",
      "obtaining 0.5593813061714172\n",
      "---------------\n",
      "word:  sun\n",
      "sky 0.4931747019290924\n",
      "Jupiter 0.4763827621936798\n",
      "comet 0.4712870419025421\n",
      "moon 0.46211889386177063\n",
      "orbit 0.4572937786579132\n",
      "---------------\n",
      "word:  abstract\n",
      "introduction 0.5229272842407227\n",
      "introductory 0.5037308931350708\n",
      "overview 0.4965915083885193\n",
      "asteroid 0.4890320599079132\n",
      "manifests 0.45610108971595764\n",
      "---------------\n"
     ]
    }
   ],
   "source": [
    "for word in words:\n",
    "    similar = cbow.similar_by_key(word, topn=5)\n",
    "    print(\"word: \", word)\n",
    "    for sim_word in similar:\n",
    "        print(sim_word[0], sim_word[1])\n",
    "    print(\"---------------\")"
   ]
  },
  {
   "cell_type": "code",
   "execution_count": 108,
   "id": "6120d5b3",
   "metadata": {},
   "outputs": [],
   "source": [
    "# ispitajmo slicnost nekih reci\n",
    "\n",
    "words2 = [\"boat\", \"sail\", \"of\", \"one\", \"the\", \"white\", \"monument\", \"star\", \"we\", \"peculiar\", \"juicy\"]"
   ]
  },
  {
   "cell_type": "code",
   "execution_count": 109,
   "id": "f6ed1bb6",
   "metadata": {},
   "outputs": [],
   "source": [
    "def heatmap_similarities(words):\n",
    "    similarities = []\n",
    "    \n",
    "    words = [word if word in cbow.key_to_index else \".\" for word in words]\n",
    "    \n",
    "    for word1 in words:\n",
    "        similarities.append([cbow.similarity(word1, word2) for word2 in words])\n",
    "        \n",
    "    plt.figure(figsize=(8,8))\n",
    "\n",
    "\n",
    "    plt.imshow(similarities, cmap='hot')\n",
    "    plt.colorbar()\n",
    "\n",
    "    plt.xticks(range(len(words)), words, rotation=90)\n",
    "    plt.yticks(range(len(words)), words)\n",
    "\n",
    "    plt.show()"
   ]
  },
  {
   "cell_type": "code",
   "execution_count": 110,
   "id": "d3ae56c4",
   "metadata": {},
   "outputs": [
    {
     "data": {
      "image/png": "[encoded data removed]",
      "text/plain": [
       "<Figure size 576x576 with 2 Axes>"
      ]
     },
     "metadata": {
      "needs_background": "light"
     },
     "output_type": "display_data"
    }
   ],
   "source": [
    "heatmap_similarities(words2)"
   ]
  },
  {
   "cell_type": "code",
   "execution_count": 111,
   "id": "c3c53d42",
   "metadata": {},
   "outputs": [],
   "source": [
    "# primecujemo znacajan uticaj stop reci..."
   ]
  },
  {
   "cell_type": "code",
   "execution_count": null,
   "id": "a97b38ff",
   "metadata": {},
   "outputs": [],
   "source": []
  },
  {
   "cell_type": "code",
   "execution_count": 116,
   "id": "df3cfa05",
   "metadata": {},
   "outputs": [],
   "source": [
    "# ostaje jos:\n",
    "# 1) priprema korpusa za svm \n",
    "# - transformiasanje pomocu TdIdf vektorizatora - pozeljno lowercase\n",
    "\n",
    "# 2) priprema korpusa za cnn\n",
    "# - priprema matrice embeddinga \n",
    "# ! MORAMO PAZITI NA 0 KAO SPECIJALNU VREDNOST ZA PADDING !\n",
    "# ne zelimo da 0 zbog padding igra ogromnu ulogu (0 treba da je prazna rec...)\n",
    "\n",
    "\n"
   ]
  }
 ],
 "metadata": {
  "kernelspec": {
   "display_name": "Python 3 (ipykernel)",
   "language": "python",
   "name": "python3"
  },
  "language_info": {
   "codemirror_mode": {
    "name": "ipython",
    "version": 3
   },
   "file_extension": ".py",
   "mimetype": "text/x-python",
   "name": "python",
   "nbconvert_exporter": "python",
   "pygments_lexer": "ipython3",
   "version": "3.10.5"
  }
 },
 "nbformat": 4,
 "nbformat_minor": 5
}
