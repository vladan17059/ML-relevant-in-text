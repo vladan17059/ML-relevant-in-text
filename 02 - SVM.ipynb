{
 "cells": [
  {
   "cell_type": "markdown",
   "id": "f16d1b77",
   "metadata": {},
   "source": [
    "# Viseklasna klasifikacija koriscenjem SVM modela (OneVsRest)"
   ]
  },
  {
   "cell_type": "markdown",
   "id": "599a7f8a",
   "metadata": {},
   "source": [
    "Napravicemo jedan *OneVsRest SVM* model (klasifikator), zatim ispitati odredjena svojstva kao sto su *f1 ocena*, *matrica konfuzije*, *najrelevantnije reci* (koristeci *Tf-Idf*) i sl."
   ]
  },
  {
   "cell_type": "code",
   "execution_count": 1,
   "id": "bf4bfb44",
   "metadata": {},
   "outputs": [],
   "source": [
    "import numpy as np\n",
    "import pandas as pd\n",
    "from matplotlib import pyplot as plt"
   ]
  },
  {
   "cell_type": "code",
   "execution_count": 2,
   "id": "bf5bf1a1",
   "metadata": {},
   "outputs": [],
   "source": [
    "from sklearn import datasets\n",
    "from sklearn import metrics\n",
    "from sklearn import feature_extraction\n",
    "from sklearn import preprocessing\n",
    "from sklearn import svm\n",
    "from sklearn import multiclass\n",
    "from sklearn import model_selection\n",
    "from sklearn import pipeline"
   ]
  },
  {
   "cell_type": "code",
   "execution_count": 3,
   "id": "085acf14",
   "metadata": {},
   "outputs": [],
   "source": [
    "import nltk"
   ]
  },
  {
   "cell_type": "code",
   "execution_count": 4,
   "id": "d8248dd7",
   "metadata": {},
   "outputs": [],
   "source": [
    "import pickle"
   ]
  },
  {
   "cell_type": "code",
   "execution_count": 5,
   "id": "b4c88327",
   "metadata": {},
   "outputs": [],
   "source": [
    "import os"
   ]
  },
  {
   "cell_type": "markdown",
   "id": "32747d11",
   "metadata": {},
   "source": [
    "### Ucitavanje i priprema podataka"
   ]
  },
  {
   "cell_type": "code",
   "execution_count": 6,
   "id": "819a52b1",
   "metadata": {},
   "outputs": [],
   "source": [
    "train_data = datasets.fetch_20newsgroups(random_state=61, remove=('headers'))\n",
    "test_data = datasets.fetch_20newsgroups(random_state=61, subset='test', remove=('headers'))\n",
    "X_train = train_data.data\n",
    "y_train = train_data.target\n",
    "X_test = test_data.data\n",
    "y_test = test_data.target\n",
    "feature_names = train_data.target_names\n",
    "num_of_features = len(feature_names)\n",
    "N_train = len(X_train)\n",
    "N_test = len(X_test)"
   ]
  },
  {
   "cell_type": "code",
   "execution_count": 7,
   "id": "d995ffbc",
   "metadata": {},
   "outputs": [],
   "source": [
    "# ucitajmo vectorizer koji smo sacuvali da bi lakse filtrirali"
   ]
  },
  {
   "cell_type": "code",
   "execution_count": 8,
   "id": "683a64ec",
   "metadata": {},
   "outputs": [],
   "source": [
    "with open(os.path.join(\"models\", \"vectorizer.pickle\"), \"rb\") as load_file:\n",
    "    vectorizer = pickle.load(load_file)"
   ]
  },
  {
   "cell_type": "code",
   "execution_count": 9,
   "id": "d78685b3",
   "metadata": {
    "scrolled": true
   },
   "outputs": [
    {
     "name": "stdout",
     "output_type": "stream",
     "text": [
      "CPU times: total: 16.5 s\n",
      "Wall time: 16.5 s\n"
     ]
    }
   ],
   "source": [
    "%%time\n",
    "X_train_tfidf = vectorizer.transform(X_train)"
   ]
  },
  {
   "cell_type": "code",
   "execution_count": 10,
   "id": "412e5dd1",
   "metadata": {},
   "outputs": [
    {
     "name": "stdout",
     "output_type": "stream",
     "text": [
      "CPU times: total: 10.3 s\n",
      "Wall time: 10.3 s\n"
     ]
    }
   ],
   "source": [
    "%%time\n",
    "X_test_tfidf = vectorizer.transform(X_test)"
   ]
  },
  {
   "cell_type": "markdown",
   "id": "126920c5",
   "metadata": {},
   "source": [
    "U osnovi viseklasnog klasifikatora ce nam biti linearni SVM klasifikator, sa *hinge* funkcijom greske."
   ]
  },
  {
   "cell_type": "code",
   "execution_count": 12,
   "id": "f345de29",
   "metadata": {},
   "outputs": [],
   "source": [
    "svmodel = svm.LinearSVC(loss='hinge', multi_class='ovr')"
   ]
  },
  {
   "cell_type": "code",
   "execution_count": 13,
   "id": "9f9262e1",
   "metadata": {},
   "outputs": [],
   "source": [
    "#Hiperparametar C - sto je manji regularizacija je veca (default je l2 regularizacija)\n",
    "\n",
    "Cs = [10**i for i in range(-4, 5)]"
   ]
  },
  {
   "cell_type": "markdown",
   "id": "412e665d",
   "metadata": {},
   "source": [
    "Pomocu unakrsne validacije odredicemo hiperparametar C, zatim model testirati na test skupu."
   ]
  },
  {
   "cell_type": "code",
   "execution_count": 14,
   "id": "c0462a0e",
   "metadata": {},
   "outputs": [],
   "source": [
    "grid = model_selection.GridSearchCV(svmodel, param_grid={\"C\" : Cs}, scoring='accuracy', cv=5, return_train_score=True, verbose=1)"
   ]
  },
  {
   "cell_type": "code",
   "execution_count": 15,
   "id": "ca6e66ca",
   "metadata": {
    "collapsed": true
   },
   "outputs": [
    {
     "name": "stdout",
     "output_type": "stream",
     "text": [
      "Fitting 5 folds for each of 9 candidates, totalling 45 fits\n"
     ]
    },
    {
     "name": "stderr",
     "output_type": "stream",
     "text": [
      "C:\\Users\\vkova\\AppData\\Local\\Programs\\Python\\Python310\\lib\\site-packages\\sklearn\\svm\\_base.py:1225: ConvergenceWarning: Liblinear failed to converge, increase the number of iterations.\n",
      "  warnings.warn(\n",
      "C:\\Users\\vkova\\AppData\\Local\\Programs\\Python\\Python310\\lib\\site-packages\\sklearn\\svm\\_base.py:1225: ConvergenceWarning: Liblinear failed to converge, increase the number of iterations.\n",
      "  warnings.warn(\n",
      "C:\\Users\\vkova\\AppData\\Local\\Programs\\Python\\Python310\\lib\\site-packages\\sklearn\\svm\\_base.py:1225: ConvergenceWarning: Liblinear failed to converge, increase the number of iterations.\n",
      "  warnings.warn(\n",
      "C:\\Users\\vkova\\AppData\\Local\\Programs\\Python\\Python310\\lib\\site-packages\\sklearn\\svm\\_base.py:1225: ConvergenceWarning: Liblinear failed to converge, increase the number of iterations.\n",
      "  warnings.warn(\n",
      "C:\\Users\\vkova\\AppData\\Local\\Programs\\Python\\Python310\\lib\\site-packages\\sklearn\\svm\\_base.py:1225: ConvergenceWarning: Liblinear failed to converge, increase the number of iterations.\n",
      "  warnings.warn(\n",
      "C:\\Users\\vkova\\AppData\\Local\\Programs\\Python\\Python310\\lib\\site-packages\\sklearn\\svm\\_base.py:1225: ConvergenceWarning: Liblinear failed to converge, increase the number of iterations.\n",
      "  warnings.warn(\n",
      "C:\\Users\\vkova\\AppData\\Local\\Programs\\Python\\Python310\\lib\\site-packages\\sklearn\\svm\\_base.py:1225: ConvergenceWarning: Liblinear failed to converge, increase the number of iterations.\n",
      "  warnings.warn(\n",
      "C:\\Users\\vkova\\AppData\\Local\\Programs\\Python\\Python310\\lib\\site-packages\\sklearn\\svm\\_base.py:1225: ConvergenceWarning: Liblinear failed to converge, increase the number of iterations.\n",
      "  warnings.warn(\n",
      "C:\\Users\\vkova\\AppData\\Local\\Programs\\Python\\Python310\\lib\\site-packages\\sklearn\\svm\\_base.py:1225: ConvergenceWarning: Liblinear failed to converge, increase the number of iterations.\n",
      "  warnings.warn(\n",
      "C:\\Users\\vkova\\AppData\\Local\\Programs\\Python\\Python310\\lib\\site-packages\\sklearn\\svm\\_base.py:1225: ConvergenceWarning: Liblinear failed to converge, increase the number of iterations.\n",
      "  warnings.warn(\n",
      "C:\\Users\\vkova\\AppData\\Local\\Programs\\Python\\Python310\\lib\\site-packages\\sklearn\\svm\\_base.py:1225: ConvergenceWarning: Liblinear failed to converge, increase the number of iterations.\n",
      "  warnings.warn(\n",
      "C:\\Users\\vkova\\AppData\\Local\\Programs\\Python\\Python310\\lib\\site-packages\\sklearn\\svm\\_base.py:1225: ConvergenceWarning: Liblinear failed to converge, increase the number of iterations.\n",
      "  warnings.warn(\n",
      "C:\\Users\\vkova\\AppData\\Local\\Programs\\Python\\Python310\\lib\\site-packages\\sklearn\\svm\\_base.py:1225: ConvergenceWarning: Liblinear failed to converge, increase the number of iterations.\n",
      "  warnings.warn(\n",
      "C:\\Users\\vkova\\AppData\\Local\\Programs\\Python\\Python310\\lib\\site-packages\\sklearn\\svm\\_base.py:1225: ConvergenceWarning: Liblinear failed to converge, increase the number of iterations.\n",
      "  warnings.warn(\n",
      "C:\\Users\\vkova\\AppData\\Local\\Programs\\Python\\Python310\\lib\\site-packages\\sklearn\\svm\\_base.py:1225: ConvergenceWarning: Liblinear failed to converge, increase the number of iterations.\n",
      "  warnings.warn(\n",
      "C:\\Users\\vkova\\AppData\\Local\\Programs\\Python\\Python310\\lib\\site-packages\\sklearn\\svm\\_base.py:1225: ConvergenceWarning: Liblinear failed to converge, increase the number of iterations.\n",
      "  warnings.warn(\n",
      "C:\\Users\\vkova\\AppData\\Local\\Programs\\Python\\Python310\\lib\\site-packages\\sklearn\\svm\\_base.py:1225: ConvergenceWarning: Liblinear failed to converge, increase the number of iterations.\n",
      "  warnings.warn(\n",
      "C:\\Users\\vkova\\AppData\\Local\\Programs\\Python\\Python310\\lib\\site-packages\\sklearn\\svm\\_base.py:1225: ConvergenceWarning: Liblinear failed to converge, increase the number of iterations.\n",
      "  warnings.warn(\n",
      "C:\\Users\\vkova\\AppData\\Local\\Programs\\Python\\Python310\\lib\\site-packages\\sklearn\\svm\\_base.py:1225: ConvergenceWarning: Liblinear failed to converge, increase the number of iterations.\n",
      "  warnings.warn(\n",
      "C:\\Users\\vkova\\AppData\\Local\\Programs\\Python\\Python310\\lib\\site-packages\\sklearn\\svm\\_base.py:1225: ConvergenceWarning: Liblinear failed to converge, increase the number of iterations.\n",
      "  warnings.warn(\n",
      "C:\\Users\\vkova\\AppData\\Local\\Programs\\Python\\Python310\\lib\\site-packages\\sklearn\\svm\\_base.py:1225: ConvergenceWarning: Liblinear failed to converge, increase the number of iterations.\n",
      "  warnings.warn(\n",
      "C:\\Users\\vkova\\AppData\\Local\\Programs\\Python\\Python310\\lib\\site-packages\\sklearn\\svm\\_base.py:1225: ConvergenceWarning: Liblinear failed to converge, increase the number of iterations.\n",
      "  warnings.warn(\n",
      "C:\\Users\\vkova\\AppData\\Local\\Programs\\Python\\Python310\\lib\\site-packages\\sklearn\\svm\\_base.py:1225: ConvergenceWarning: Liblinear failed to converge, increase the number of iterations.\n",
      "  warnings.warn(\n",
      "C:\\Users\\vkova\\AppData\\Local\\Programs\\Python\\Python310\\lib\\site-packages\\sklearn\\svm\\_base.py:1225: ConvergenceWarning: Liblinear failed to converge, increase the number of iterations.\n",
      "  warnings.warn(\n",
      "C:\\Users\\vkova\\AppData\\Local\\Programs\\Python\\Python310\\lib\\site-packages\\sklearn\\svm\\_base.py:1225: ConvergenceWarning: Liblinear failed to converge, increase the number of iterations.\n",
      "  warnings.warn(\n"
     ]
    },
    {
     "name": "stdout",
     "output_type": "stream",
     "text": [
      "CPU times: total: 4min 39s\n",
      "Wall time: 4min 39s\n"
     ]
    },
    {
     "name": "stderr",
     "output_type": "stream",
     "text": [
      "C:\\Users\\vkova\\AppData\\Local\\Programs\\Python\\Python310\\lib\\site-packages\\sklearn\\svm\\_base.py:1225: ConvergenceWarning: Liblinear failed to converge, increase the number of iterations.\n",
      "  warnings.warn(\n"
     ]
    },
    {
     "data": {
      "text/html": [
       "<style>#sk-container-id-1 {color: black;background-color: white;}#sk-container-id-1 pre{padding: 0;}#sk-container-id-1 div.sk-toggleable {background-color: white;}#sk-container-id-1 label.sk-toggleable__label {cursor: pointer;display: block;width: 100%;margin-bottom: 0;padding: 0.3em;box-sizing: border-box;text-align: center;}#sk-container-id-1 label.sk-toggleable__label-arrow:before {content: \"▸\";float: left;margin-right: 0.25em;color: #696969;}#sk-container-id-1 label.sk-toggleable__label-arrow:hover:before {color: black;}#sk-container-id-1 div.sk-estimator:hover label.sk-toggleable__label-arrow:before {color: black;}#sk-container-id-1 div.sk-toggleable__content {max-height: 0;max-width: 0;overflow: hidden;text-align: left;background-color: #f0f8ff;}#sk-container-id-1 div.sk-toggleable__content pre {margin: 0.2em;color: black;border-radius: 0.25em;background-color: #f0f8ff;}#sk-container-id-1 input.sk-toggleable__control:checked~div.sk-toggleable__content {max-height: 200px;max-width: 100%;overflow: auto;}#sk-container-id-1 input.sk-toggleable__control:checked~label.sk-toggleable__label-arrow:before {content: \"▾\";}#sk-container-id-1 div.sk-estimator input.sk-toggleable__control:checked~label.sk-toggleable__label {background-color: #d4ebff;}#sk-container-id-1 div.sk-label input.sk-toggleable__control:checked~label.sk-toggleable__label {background-color: #d4ebff;}#sk-container-id-1 input.sk-hidden--visually {border: 0;clip: rect(1px 1px 1px 1px);clip: rect(1px, 1px, 1px, 1px);height: 1px;margin: -1px;overflow: hidden;padding: 0;position: absolute;width: 1px;}#sk-container-id-1 div.sk-estimator {font-family: monospace;background-color: #f0f8ff;border: 1px dotted black;border-radius: 0.25em;box-sizing: border-box;margin-bottom: 0.5em;}#sk-container-id-1 div.sk-estimator:hover {background-color: #d4ebff;}#sk-container-id-1 div.sk-parallel-item::after {content: \"\";width: 100%;border-bottom: 1px solid gray;flex-grow: 1;}#sk-container-id-1 div.sk-label:hover label.sk-toggleable__label {background-color: #d4ebff;}#sk-container-id-1 div.sk-serial::before {content: \"\";position: absolute;border-left: 1px solid gray;box-sizing: border-box;top: 0;bottom: 0;left: 50%;z-index: 0;}#sk-container-id-1 div.sk-serial {display: flex;flex-direction: column;align-items: center;background-color: white;padding-right: 0.2em;padding-left: 0.2em;position: relative;}#sk-container-id-1 div.sk-item {position: relative;z-index: 1;}#sk-container-id-1 div.sk-parallel {display: flex;align-items: stretch;justify-content: center;background-color: white;position: relative;}#sk-container-id-1 div.sk-item::before, #sk-container-id-1 div.sk-parallel-item::before {content: \"\";position: absolute;border-left: 1px solid gray;box-sizing: border-box;top: 0;bottom: 0;left: 50%;z-index: -1;}#sk-container-id-1 div.sk-parallel-item {display: flex;flex-direction: column;z-index: 1;position: relative;background-color: white;}#sk-container-id-1 div.sk-parallel-item:first-child::after {align-self: flex-end;width: 50%;}#sk-container-id-1 div.sk-parallel-item:last-child::after {align-self: flex-start;width: 50%;}#sk-container-id-1 div.sk-parallel-item:only-child::after {width: 0;}#sk-container-id-1 div.sk-dashed-wrapped {border: 1px dashed gray;margin: 0 0.4em 0.5em 0.4em;box-sizing: border-box;padding-bottom: 0.4em;background-color: white;}#sk-container-id-1 div.sk-label label {font-family: monospace;font-weight: bold;display: inline-block;line-height: 1.2em;}#sk-container-id-1 div.sk-label-container {text-align: center;}#sk-container-id-1 div.sk-container {/* jupyter's `normalize.less` sets `[hidden] { display: none; }` but bootstrap.min.css set `[hidden] { display: none !important; }` so we also need the `!important` here to be able to override the default hidden behavior on the sphinx rendered scikit-learn.org. See: https://github.com/scikit-learn/scikit-learn/issues/21755 */display: inline-block !important;position: relative;}#sk-container-id-1 div.sk-text-repr-fallback {display: none;}</style><div id=\"sk-container-id-1\" class=\"sk-top-container\"><div class=\"sk-text-repr-fallback\"><pre>GridSearchCV(cv=5, estimator=LinearSVC(loss=&#x27;hinge&#x27;),\n",
       "             param_grid={&#x27;C&#x27;: [0.0001, 0.001, 0.01, 0.1, 1, 10, 100, 1000,\n",
       "                               10000]},\n",
       "             return_train_score=True, scoring=&#x27;accuracy&#x27;, verbose=1)</pre><b>In a Jupyter environment, please rerun this cell to show the HTML representation or trust the notebook. <br />On GitHub, the HTML representation is unable to render, please try loading this page with nbviewer.org.</b></div><div class=\"sk-container\" hidden><div class=\"sk-item sk-dashed-wrapped\"><div class=\"sk-label-container\"><div class=\"sk-label sk-toggleable\"><input class=\"sk-toggleable__control sk-hidden--visually\" id=\"sk-estimator-id-1\" type=\"checkbox\" ><label for=\"sk-estimator-id-1\" class=\"sk-toggleable__label sk-toggleable__label-arrow\">GridSearchCV</label><div class=\"sk-toggleable__content\"><pre>GridSearchCV(cv=5, estimator=LinearSVC(loss=&#x27;hinge&#x27;),\n",
       "             param_grid={&#x27;C&#x27;: [0.0001, 0.001, 0.01, 0.1, 1, 10, 100, 1000,\n",
       "                               10000]},\n",
       "             return_train_score=True, scoring=&#x27;accuracy&#x27;, verbose=1)</pre></div></div></div><div class=\"sk-parallel\"><div class=\"sk-parallel-item\"><div class=\"sk-item\"><div class=\"sk-label-container\"><div class=\"sk-label sk-toggleable\"><input class=\"sk-toggleable__control sk-hidden--visually\" id=\"sk-estimator-id-2\" type=\"checkbox\" ><label for=\"sk-estimator-id-2\" class=\"sk-toggleable__label sk-toggleable__label-arrow\">estimator: LinearSVC</label><div class=\"sk-toggleable__content\"><pre>LinearSVC(loss=&#x27;hinge&#x27;)</pre></div></div></div><div class=\"sk-serial\"><div class=\"sk-item\"><div class=\"sk-estimator sk-toggleable\"><input class=\"sk-toggleable__control sk-hidden--visually\" id=\"sk-estimator-id-3\" type=\"checkbox\" ><label for=\"sk-estimator-id-3\" class=\"sk-toggleable__label sk-toggleable__label-arrow\">LinearSVC</label><div class=\"sk-toggleable__content\"><pre>LinearSVC(loss=&#x27;hinge&#x27;)</pre></div></div></div></div></div></div></div></div></div></div>"
      ],
      "text/plain": [
       "GridSearchCV(cv=5, estimator=LinearSVC(loss='hinge'),\n",
       "             param_grid={'C': [0.0001, 0.001, 0.01, 0.1, 1, 10, 100, 1000,\n",
       "                               10000]},\n",
       "             return_train_score=True, scoring='accuracy', verbose=1)"
      ]
     },
     "execution_count": 15,
     "metadata": {},
     "output_type": "execute_result"
    }
   ],
   "source": [
    "%%time\n",
    "grid.fit(X_train_tfidf, y_train)"
   ]
  },
  {
   "cell_type": "code",
   "execution_count": 16,
   "id": "fb3d945b",
   "metadata": {},
   "outputs": [],
   "source": [
    "#Zanimljive statistike unakrsne validacije\n",
    "\n",
    "grid_results = pd.DataFrame(grid.cv_results_)\n",
    "\n",
    "#grid_results.shape\n",
    "#grid_results.columns"
   ]
  },
  {
   "cell_type": "code",
   "execution_count": 17,
   "id": "65791368",
   "metadata": {},
   "outputs": [
    {
     "name": "stdout",
     "output_type": "stream",
     "text": [
      "Best score:  0.8896939697661962\n"
     ]
    }
   ],
   "source": [
    "print(\"Best score: \", grid.best_score_)"
   ]
  },
  {
   "cell_type": "code",
   "execution_count": 18,
   "id": "d500795b",
   "metadata": {},
   "outputs": [
    {
     "data": {
      "image/png": "[encoded data removed]",
      "text/plain": [
       "<Figure size 576x576 with 1 Axes>"
      ]
     },
     "metadata": {
      "needs_background": "light"
     },
     "output_type": "display_data"
    }
   ],
   "source": [
    "plt.figure(figsize=(8,8))\n",
    "\n",
    "plt.title(\"accuracy/C without stopwords\")\n",
    "plt.plot(range(9), grid_results['mean_test_score'])\n",
    "plt.plot(range(9), grid_results['mean_train_score'])\n",
    "plt.legend([\"val\", \"train\"], loc='best')\n",
    "plt.xlabel(\"C\")\n",
    "plt.ylabel(\"f1 macro\")\n",
    "plt.xticks(range(9), Cs, rotation='vertical')\n",
    "\n",
    "plt.show()"
   ]
  },
  {
   "cell_type": "code",
   "execution_count": 19,
   "id": "8f9989de",
   "metadata": {},
   "outputs": [],
   "source": [
    "best_C = grid.best_params_['C']"
   ]
  },
  {
   "cell_type": "code",
   "execution_count": 20,
   "id": "68e06cf5",
   "metadata": {},
   "outputs": [
    {
     "name": "stdout",
     "output_type": "stream",
     "text": [
      "Best C:  10\n"
     ]
    }
   ],
   "source": [
    "print(\"Best C: \", best_C)"
   ]
  },
  {
   "cell_type": "markdown",
   "id": "a428af6f",
   "metadata": {},
   "source": [
    "Kako skup za treniranje i validaciju nije prevelik, mozemo da konacni model istreniramo na celom skupu (a ne samo na trening skupu jednog sloja unakrsne validacije)."
   ]
  },
  {
   "cell_type": "code",
   "execution_count": 21,
   "id": "1003220a",
   "metadata": {},
   "outputs": [],
   "source": [
    "%%capture\n",
    "model = svm.LinearSVC(loss='hinge', C=best_C)\n",
    "model.fit(X_train_tfidf, y_train)"
   ]
  },
  {
   "cell_type": "code",
   "execution_count": 22,
   "id": "5b34ca74",
   "metadata": {},
   "outputs": [],
   "source": [
    "y_predicted = model.predict(X_test_tfidf)"
   ]
  },
  {
   "cell_type": "code",
   "execution_count": 23,
   "id": "8a5b8ed4",
   "metadata": {},
   "outputs": [
    {
     "name": "stdout",
     "output_type": "stream",
     "text": [
      "Vocab size:  45740\n",
      "Test accuracy:  0.7943441317047265\n"
     ]
    }
   ],
   "source": [
    "#Zanimljivo, u [1] je acc=0.801, V=70631\n",
    "#V - velicina vokabulara\n",
    "\n",
    "print(\"Vocab size: \", len(vectorizer.vocabulary_))\n",
    "print(\"Test accuracy: \", metrics.accuracy_score(y_test, y_predicted))"
   ]
  },
  {
   "cell_type": "code",
   "execution_count": 28,
   "id": "58c537f1",
   "metadata": {},
   "outputs": [],
   "source": [
    "# zasto nam se razlikuju sirine vokabulara ? \n",
    "# za razliku od clanka po kojem radimo, mi filtriramo reci frekvencije manje od 1"
   ]
  },
  {
   "cell_type": "code",
   "execution_count": 29,
   "id": "e0e677f7",
   "metadata": {},
   "outputs": [],
   "source": [
    "# sacuvamo model"
   ]
  },
  {
   "cell_type": "code",
   "execution_count": 25,
   "id": "856dbb8f",
   "metadata": {},
   "outputs": [],
   "source": [
    "with open(os.path.join(\"models\", \"svm2.model.pickle\"), \"wb\") as dump_file:\n",
    "    pickle.dump(model, dump_file)"
   ]
  },
  {
   "cell_type": "markdown",
   "id": "286da05a",
   "metadata": {},
   "source": [
    "# Ocenjivanje relevantnosti reci u dokumentu"
   ]
  },
  {
   "cell_type": "markdown",
   "id": "0b5c60e1",
   "metadata": {},
   "source": [
    "***Relevenantnost*** reci dokumenta predstavlja ocenu ***vaznosti*** reci dokumenta pri klasifikaciji datog dokumenta - u kojoj meri je neka rec uticala (pozitivno ili negativno) na donetu odluku klasifikatora. "
   ]
  },
  {
   "cell_type": "code",
   "execution_count": 30,
   "id": "1d599bfd",
   "metadata": {},
   "outputs": [],
   "source": [
    "# relevantnost u slucaju SVM klasifikatora dobijamo u odnosu na klasifikovanu klasu\n",
    "# - tezine vezane za tu klasu predstavljaju relevantnost reci (+ bias_klase/)"
   ]
  },
  {
   "cell_type": "code",
   "execution_count": 31,
   "id": "dfdbea50",
   "metadata": {},
   "outputs": [],
   "source": [
    "vocabulary = vectorizer.vocabulary_"
   ]
  },
  {
   "cell_type": "code",
   "execution_count": 32,
   "id": "108c8b21",
   "metadata": {},
   "outputs": [],
   "source": [
    "def word_relevance_coefs(text, category):\n",
    "    text_tfidf = vectorizer.transform([text]).toarray()[0]\n",
    "    D = text_tfidf.nonzero()[0].shape[0]\n",
    "    relev = []\n",
    "    coefs = model.coef_[category]\n",
    "    b = model.intercept_[category]\n",
    "    \n",
    "    text = vectorizer.tokenizer(text)\n",
    "    \n",
    "    for word in text:\n",
    "        if word not in vocabulary:\n",
    "            relev.append(0)\n",
    "        else:\n",
    "            word_index = vocabulary[word]\n",
    "            relev.append(coefs[word_index] + b/D)\n",
    "        \n",
    "    return relev"
   ]
  },
  {
   "cell_type": "code",
   "execution_count": 33,
   "id": "7f1894ef",
   "metadata": {},
   "outputs": [],
   "source": [
    "# KOMENTAR: ispraviti da prikazuje po 10 RAZLICITIH RECI\n",
    "def visualize_relevance(text, category, num_of_words=10):\n",
    "    relevances = word_relevance_coefs(text, category)\n",
    "    relevances = np.array(relevances)\n",
    "    \n",
    "    \n",
    "    positive_index = np.argsort(relevances)[-num_of_words:]\n",
    "    negative_index = np.argsort(relevances)[:num_of_words]\n",
    "    \n",
    "    text = np.array(vectorizer.tokenizer(text))\n",
    "    \n",
    "    most_positively_relevant = relevances[positive_index]\n",
    "    most_negatively_relevant = relevances[negative_index]\n",
    "    positively_rel_words = text[positive_index]\n",
    "    negatively_rel_words = text[negative_index]\n",
    "    \n",
    "    plt.figure(figsize=(8,8))\n",
    "    \n",
    "    plt.xticks(rotation=90)\n",
    "    \n",
    "    X = np.hstack([negatively_rel_words, positively_rel_words])\n",
    "    y = np.hstack([most_negatively_relevant, most_positively_relevant])\n",
    "    \n",
    "    plt.title(feature_names[category])\n",
    "    \n",
    "    plt.bar(X, y)\n",
    "    \n",
    "    "
   ]
  },
  {
   "cell_type": "code",
   "execution_count": 34,
   "id": "936de82f",
   "metadata": {},
   "outputs": [
    {
     "data": {
      "image/png": "[encoded data removed]",
      "text/plain": [
       "<Figure size 576x576 with 1 Axes>"
      ]
     },
     "metadata": {
      "needs_background": "light"
     },
     "output_type": "display_data"
    }
   ],
   "source": [
    "visualize_relevance(X_test[0], y_test[0], num_of_words=10)"
   ]
  },
  {
   "cell_type": "code",
   "execution_count": 36,
   "id": "a506a4ed",
   "metadata": {},
   "outputs": [
    {
     "data": {
      "image/png": "[encoded data removed]",
      "text/plain": [
       "<Figure size 576x576 with 1 Axes>"
      ]
     },
     "metadata": {
      "needs_background": "light"
     },
     "output_type": "display_data"
    }
   ],
   "source": [
    "visualize_relevance(X_test[17], y_test[17], num_of_words=15)"
   ]
  },
  {
   "cell_type": "code",
   "execution_count": 43,
   "id": "72ed0a8b",
   "metadata": {},
   "outputs": [],
   "source": [
    "confusion_matrix = metrics.confusion_matrix(y_test, y_predicted)"
   ]
  },
  {
   "cell_type": "code",
   "execution_count": 38,
   "id": "b5a6517d",
   "metadata": {},
   "outputs": [],
   "source": [
    "#print(confusion_matrix)"
   ]
  },
  {
   "cell_type": "code",
   "execution_count": 44,
   "id": "eca28cab",
   "metadata": {},
   "outputs": [
    {
     "data": {
      "text/plain": [
       "array([[238,   2,   0,   0,   1,   0,   2,   0,   0,   0,   2,   1,   1],\n",
       "       [  2, 277,  21,  10,  10,  21,   9,   1,   2,   6,   0,   8,  11],\n",
       "       [  0,  18, 263,  32,  19,  13,   6,   4,   0,   2,   4,   3,   8],\n",
       "       [  0,  14,  26, 271,  26,   6,  16,   2,   2,   0,   0,   2,  20],\n",
       "       [  0,   8,   7,  33, 291,   3,  12,   3,   1,   2,   3,   0,  16],\n",
       "       [  0,  39,  24,  10,   6, 290,   4,   2,   1,   0,   2,   1,   5],\n",
       "       [  0,   5,   2,  11,  15,   1, 325,   4,   4,   4,   6,   3,   7],\n",
       "       [  0,   4,   4,   4,   2,   0,  10, 337,  10,   3,   1,   0,  12],\n",
       "       [  1,   0,   0,   0,   2,   1,   4,  16, 365,   2,   0,   0,   2],\n",
       "       [  1,   0,   0,   1,   1,   0,   4,   0,   2, 364,  13,   0,   1],\n",
       "       [  1,   3,   0,   0,   2,   0,   1,   0,   0,   8, 376,   0,   0],\n",
       "       [  0,   3,   2,   3,   5,   1,   5,   1,   4,   1,   0, 353,   5],\n",
       "       [  0,   4,  12,  30,   7,   2,  15,   8,   5,   3,   0,  11, 274]],\n",
       "      dtype=int64)"
      ]
     },
     "execution_count": 44,
     "metadata": {},
     "output_type": "execute_result"
    }
   ],
   "source": [
    "# deo matrice konfuzije \n",
    "confusion_matrix[:13,:13]"
   ]
  },
  {
   "cell_type": "code",
   "execution_count": 45,
   "id": "ebd7f8c9",
   "metadata": {},
   "outputs": [],
   "source": [
    "matrix_to_plot = np.fill_diagonal(confusion_matrix, 0)"
   ]
  },
  {
   "cell_type": "code",
   "execution_count": 46,
   "id": "98cdce86",
   "metadata": {},
   "outputs": [
    {
     "data": {
      "image/png": "[encoded data removed]",
      "text/plain": [
       "<Figure size 864x864 with 2 Axes>"
      ]
     },
     "metadata": {
      "needs_background": "light"
     },
     "output_type": "display_data"
    }
   ],
   "source": [
    "plt.figure(figsize=(12,12))\n",
    "\n",
    "plt.xticks(ticks=range(len(feature_names)), labels=feature_names, rotation=90)\n",
    "plt.yticks(ticks=range(len(feature_names)), labels=feature_names)\n",
    "\n",
    "plt.title(\"Confusion matrix (diagonal is 0)\")\n",
    "plt.imshow(confusion_matrix)\n",
    "plt.colorbar()\n",
    "\n",
    "plt.show()"
   ]
  },
  {
   "cell_type": "code",
   "execution_count": 208,
   "id": "1c9a8966",
   "metadata": {},
   "outputs": [],
   "source": [
    "# mozemo primetiti koje se klase najvise mesaju:\n",
    "# npr. talk.politics.guns - talk.politics.misc\n",
    "# npr. sco.religion.christion - talk.religion.misc\n",
    "# npr. comp.windows.x - com.graphics"
   ]
  },
  {
   "cell_type": "code",
   "execution_count": 47,
   "id": "c8724126",
   "metadata": {},
   "outputs": [
    {
     "name": "stdout",
     "output_type": "stream",
     "text": [
      "              precision    recall  f1-score   support\n",
      "\n",
      "           0       0.76      0.75      0.75       319\n",
      "           1       0.70      0.71      0.71       389\n",
      "           2       0.72      0.67      0.69       394\n",
      "           3       0.65      0.69      0.67       392\n",
      "           4       0.74      0.76      0.75       385\n",
      "           5       0.83      0.73      0.78       395\n",
      "           6       0.76      0.83      0.79       390\n",
      "           7       0.87      0.85      0.86       396\n",
      "           8       0.91      0.92      0.91       398\n",
      "           9       0.90      0.92      0.91       397\n",
      "          10       0.91      0.94      0.92       399\n",
      "          11       0.88      0.89      0.89       396\n",
      "          12       0.72      0.70      0.71       393\n",
      "          13       0.86      0.82      0.84       396\n",
      "          14       0.87      0.86      0.87       394\n",
      "          15       0.75      0.88      0.81       398\n",
      "          16       0.72      0.83      0.77       364\n",
      "          17       0.93      0.83      0.88       376\n",
      "          18       0.74      0.59      0.66       310\n",
      "          19       0.59      0.57      0.58       251\n",
      "\n",
      "    accuracy                           0.79      7532\n",
      "   macro avg       0.79      0.79      0.79      7532\n",
      "weighted avg       0.80      0.79      0.79      7532\n",
      "\n"
     ]
    }
   ],
   "source": [
    "print(metrics.classification_report(y_test, y_predicted))"
   ]
  }
 ],
 "metadata": {
  "kernelspec": {
   "display_name": "Python 3 (ipykernel)",
   "language": "python",
   "name": "python3"
  },
  "language_info": {
   "codemirror_mode": {
    "name": "ipython",
    "version": 3
   },
   "file_extension": ".py",
   "mimetype": "text/x-python",
   "name": "python",
   "nbconvert_exporter": "python",
   "pygments_lexer": "ipython3",
   "version": "3.10.5"
  }
 },
 "nbformat": 4,
 "nbformat_minor": 5
}
