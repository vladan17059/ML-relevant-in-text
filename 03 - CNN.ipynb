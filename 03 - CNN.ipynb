{
 "cells": [
  {
   "cell_type": "markdown",
   "id": "538bb253",
   "metadata": {},
   "source": [
    "#  CNN "
   ]
  },
  {
   "cell_type": "markdown",
   "id": "caacd291",
   "metadata": {},
   "source": [
    "## NE IZVRSAVATI OVU SVESKU"
   ]
  },
  {
   "cell_type": "markdown",
   "id": "908479da",
   "metadata": {},
   "source": [
    "Sveska u kojoj eksperimentisemo sa **CNN** modelima.\n",
    "Za pregledanje ce biti ostavljeni samo neki od najuspesnijih."
   ]
  },
  {
   "cell_type": "code",
   "execution_count": 1,
   "id": "29b66944",
   "metadata": {},
   "outputs": [],
   "source": [
    "import numpy as np\n",
    "import pandas as pd\n",
    "from matplotlib import pyplot as plt"
   ]
  },
  {
   "cell_type": "code",
   "execution_count": 12,
   "id": "ea3e3845",
   "metadata": {},
   "outputs": [],
   "source": [
    "import tensorflow as tf\n",
    "from tensorflow.keras.layers import Dense, GlobalMaxPool1D, Conv1D, Embedding, Dropout, MaxPool1D, Flatten\n",
    "from tensorflow.keras import losses\n",
    "from tensorflow.keras import preprocessing\n",
    "from tensorflow.keras.optimizers import Adam\n",
    "from tensorflow.keras.models import Sequential, load_model\n",
    "from tensorflow.keras import backend\n",
    "from tensorflow.keras.utils import to_categorical\n",
    "from tensorflow.keras.preprocessing.sequence import pad_sequences\n",
    "from tensorflow.keras.regularizers import L2"
   ]
  },
  {
   "cell_type": "code",
   "execution_count": 13,
   "id": "f5beec4e",
   "metadata": {},
   "outputs": [],
   "source": [
    "from sklearn import feature_extraction\n",
    "from sklearn import metrics\n",
    "from sklearn import datasets"
   ]
  },
  {
   "cell_type": "code",
   "execution_count": 14,
   "id": "270ec156",
   "metadata": {},
   "outputs": [],
   "source": [
    "import nltk\n",
    "import pickle"
   ]
  },
  {
   "cell_type": "code",
   "execution_count": 15,
   "id": "a05bf5a8",
   "metadata": {},
   "outputs": [],
   "source": [
    "import string"
   ]
  },
  {
   "cell_type": "code",
   "execution_count": 16,
   "id": "6c1bc42e",
   "metadata": {},
   "outputs": [],
   "source": [
    "import gensim"
   ]
  },
  {
   "cell_type": "code",
   "execution_count": 17,
   "id": "7e85dbb6",
   "metadata": {},
   "outputs": [],
   "source": [
    "import os"
   ]
  },
  {
   "cell_type": "code",
   "execution_count": 18,
   "id": "027333d5",
   "metadata": {},
   "outputs": [],
   "source": [
    "import graphviz\n",
    "import pydot"
   ]
  },
  {
   "cell_type": "code",
   "execution_count": 19,
   "id": "7cdfdf8f",
   "metadata": {},
   "outputs": [],
   "source": [
    "max_doc_len = 400"
   ]
  },
  {
   "cell_type": "markdown",
   "id": "565fb3b2",
   "metadata": {},
   "source": [
    "## Ucitavanje i priprema podataka"
   ]
  },
  {
   "cell_type": "code",
   "execution_count": 20,
   "id": "9389c59f",
   "metadata": {},
   "outputs": [],
   "source": [
    "train_data = datasets.fetch_20newsgroups(random_state=61, remove=('headers'))\n",
    "test_data = datasets.fetch_20newsgroups(random_state=61, subset='test', remove=('headers'))\n",
    "X_train = train_data.data\n",
    "y_train = train_data.target\n",
    "X_test = test_data.data\n",
    "y_test = test_data.target\n",
    "feature_names = train_data.target_names\n",
    "num_of_features = len(feature_names)\n",
    "N_train = len(X_train)\n",
    "N_test = len(X_test)"
   ]
  },
  {
   "cell_type": "code",
   "execution_count": 29,
   "id": "5b860084",
   "metadata": {},
   "outputs": [],
   "source": [
    "X_train_tok = [nltk.tokenize.word_tokenize(text) for text in X_train]\n",
    "X_test_tok = [nltk.tokenize.word_tokenize(text) for text in X_test] "
   ]
  },
  {
   "cell_type": "markdown",
   "id": "f53aa4b5",
   "metadata": {},
   "source": [
    "1. Koristimo nase istrenirane embedding-e:"
   ]
  },
  {
   "cell_type": "markdown",
   "id": "dd133093",
   "metadata": {},
   "source": [
    "NAPOMENA - kao sto je naglaseno u 01 svesci, ovo necemo koristiti, lose se pokazalo."
   ]
  },
  {
   "cell_type": "code",
   "execution_count": 11,
   "id": "326e87ae",
   "metadata": {
    "collapsed": true
   },
   "outputs": [],
   "source": [
    "# ucitavamo vec istrenirane embedding-e\n",
    "\n",
    "cbow_model_full = gensim.models.word2vec.Word2Vec.load(os.path.join(\"models\", \"cbow2.wv\"))"
   ]
  },
  {
   "cell_type": "code",
   "execution_count": 12,
   "id": "3798023b",
   "metadata": {
    "collapsed": true
   },
   "outputs": [],
   "source": [
    "cbow = cbow_model_full.wv"
   ]
  },
  {
   "cell_type": "code",
   "execution_count": 18,
   "id": "0f731b1c",
   "metadata": {},
   "outputs": [],
   "source": [
    "# vidimo da nam fale neke reci iz originalnog vokabulara koje smo hteli da naucimo\n",
    "# verovatno su se retko pojavljivale pa nisu uzete u obzir"
   ]
  },
  {
   "cell_type": "code",
   "execution_count": 16,
   "id": "aca4edd0",
   "metadata": {
    "collapsed": true
   },
   "outputs": [],
   "source": [
    "# 0 cemo koristiti kao indeks za padding i nikako ne bi trebalo da predstavlja smislenu rec\n",
    "# pomericemo vokabular za jedno mesto napred, a atribut maske_zero postaviti na True pri treniranju"
   ]
  },
  {
   "cell_type": "code",
   "execution_count": 17,
   "id": "31145e87",
   "metadata": {
    "collapsed": true
   },
   "outputs": [],
   "source": [
    "cbow_vocab_plus1 = { word : cbow.key_to_index[word] + 1 for word in cbow.key_to_index}\n",
    "cbow_key_to_index = cbow_vocab_plus1\n",
    "cbow_index_to_key = { cbow_key_to_index[word] : word for word in cbow_key_to_index }"
   ]
  },
  {
   "cell_type": "code",
   "execution_count": 18,
   "id": "dea1be06",
   "metadata": {
    "collapsed": true
   },
   "outputs": [],
   "source": [
    "# pripremamo matricu w2v (cbow) vektora (vektor 0-te - nepostojece reci je 0 vektor - uopste nema uticaj)"
   ]
  },
  {
   "cell_type": "code",
   "execution_count": 19,
   "id": "4463a38b",
   "metadata": {
    "collapsed": true
   },
   "outputs": [],
   "source": [
    "cbow_matrix = np.vstack([np.zeros(300), cbow.vectors])"
   ]
  },
  {
   "cell_type": "code",
   "execution_count": 21,
   "id": "73611091",
   "metadata": {
    "collapsed": true
   },
   "outputs": [],
   "source": [
    "# pripremamo trening i test skup\n",
    "\n",
    "X_train_idx = [[cbow_key_to_index[word] if word in cbow_key_to_index else 0 for word in text ] for text in X_train_tok_filt]\n",
    "#X_train_idx = [[cbow_key_to_index[word] for word in text if word in cbow_key_to_index] for text in X_train_tok_filt]"
   ]
  },
  {
   "cell_type": "code",
   "execution_count": 22,
   "id": "f128a320",
   "metadata": {
    "collapsed": true
   },
   "outputs": [],
   "source": [
    "X_test_idx = [[cbow_key_to_index[word] for word in text if word in cbow_key_to_index ] for text in X_test_tok_filt]"
   ]
  },
  {
   "cell_type": "code",
   "execution_count": 27,
   "id": "41cf15d1",
   "metadata": {},
   "outputs": [],
   "source": [
    "# vrsimo odsecanje na 400 reci i pre-padding nulama"
   ]
  },
  {
   "cell_type": "code",
   "execution_count": 23,
   "id": "2955032d",
   "metadata": {
    "collapsed": true
   },
   "outputs": [],
   "source": [
    "X_train_input = pad_sequences(X_train_idx, maxlen=max_doc_len)\n",
    "X_test_input = pad_sequences(X_test_idx, maxlen=max_doc_len)"
   ]
  },
  {
   "cell_type": "code",
   "execution_count": 29,
   "id": "72282a44",
   "metadata": {
    "collapsed": true
   },
   "outputs": [],
   "source": [
    "V_cbow = len(cbow_key_to_index)"
   ]
  },
  {
   "cell_type": "markdown",
   "id": "50472f22",
   "metadata": {},
   "source": [
    "---"
   ]
  },
  {
   "cell_type": "markdown",
   "id": "5d27cb26",
   "metadata": {},
   "source": [
    "2. Koristimo google-ov word2vec:"
   ]
  },
  {
   "cell_type": "code",
   "execution_count": 30,
   "id": "5671df22",
   "metadata": {},
   "outputs": [],
   "source": [
    "# kako je izuzetno velik (3GB) koristicemo nase ranije istrenirane embedding-e"
   ]
  },
  {
   "cell_type": "code",
   "execution_count": 21,
   "id": "ee9feb9b",
   "metadata": {},
   "outputs": [],
   "source": [
    "with open(os.path.join(\"data\", \"googlew2v_vocab.pickle\"), \"rb\") as load_file:\n",
    "    googlew2v_vocab = pickle.load(load_file)\n",
    "with open(os.path.join(\"data\", \"googlew2v_vectors.pickle\"), \"rb\") as load_file:\n",
    "    googlew2v_vectors = pickle.load(load_file)"
   ]
  },
  {
   "cell_type": "code",
   "execution_count": 22,
   "id": "201edbc5",
   "metadata": {},
   "outputs": [],
   "source": [
    "googlew2v_index_to_key = { index : key for (key,index) in zip(list(googlew2v_vocab.keys()), range(1,len(googlew2v_vocab)+1))}"
   ]
  },
  {
   "cell_type": "code",
   "execution_count": 23,
   "id": "553031ab",
   "metadata": {},
   "outputs": [],
   "source": [
    "googlew2v_key_to_index = { googlew2v_index_to_key[index] : index for index in googlew2v_index_to_key }"
   ]
  },
  {
   "cell_type": "code",
   "execution_count": 24,
   "id": "6ce6426c",
   "metadata": {},
   "outputs": [],
   "source": [
    "V_googlew2v = len(googlew2v_key_to_index)"
   ]
  },
  {
   "cell_type": "code",
   "execution_count": 31,
   "id": "5001d0bc",
   "metadata": {},
   "outputs": [],
   "source": [
    "X_train_tok_filt = [[word for word in text if word in googlew2v_key_to_index] for text in X_train_tok]\n",
    "X_test_tok_filt = [[word for word in text if word in googlew2v_key_to_index] for text in X_test_tok]"
   ]
  },
  {
   "cell_type": "code",
   "execution_count": 32,
   "id": "b163089d",
   "metadata": {},
   "outputs": [],
   "source": [
    "googlew2v_matrix = np.zeros((V_googlew2v+1,300))"
   ]
  },
  {
   "cell_type": "code",
   "execution_count": 33,
   "id": "da9d0ed0",
   "metadata": {},
   "outputs": [],
   "source": [
    "for i in range(1, V_googlew2v):\n",
    "    googlew2v_matrix[i] = googlew2v_vectors[googlew2v_index_to_key[i]]"
   ]
  },
  {
   "cell_type": "code",
   "execution_count": 34,
   "id": "83698ba9",
   "metadata": {},
   "outputs": [],
   "source": [
    "X_google_train_idx = [[googlew2v_key_to_index[word] for word in text if word in googlew2v_key_to_index] for text in X_train_tok_filt]\n",
    "\n",
    "X_google_test_idx = [[googlew2v_key_to_index[word] for word in text if word in googlew2v_key_to_index] for text in X_test_tok_filt]"
   ]
  },
  {
   "cell_type": "code",
   "execution_count": 36,
   "id": "28eef107",
   "metadata": {},
   "outputs": [],
   "source": [
    "X_train_google_input = pad_sequences(X_google_train_idx, maxlen=max_doc_len)\n",
    "X_test_google_input = pad_sequences(X_google_test_idx, maxlen=max_doc_len)"
   ]
  },
  {
   "cell_type": "code",
   "execution_count": 37,
   "id": "f7af6cae",
   "metadata": {},
   "outputs": [],
   "source": [
    "y_train_cat = to_categorical(y_train)\n",
    "y_test_cat = to_categorical(y_test)"
   ]
  },
  {
   "cell_type": "markdown",
   "id": "589b7b81",
   "metadata": {},
   "source": [
    "## CNN"
   ]
  },
  {
   "cell_type": "markdown",
   "id": "2c2270ab",
   "metadata": {},
   "source": [
    "### CNN modeli\n",
    "\n",
    "Modeli sa vec spremnim embedingom (word2vec)\n",
    "1. CNN1 (filter_size=1, num_of_filters=600)\n",
    "2. CNN2 (filter_size=2, num_of_filters=800) **<--- ova je ispala najbolje na kraju**\n",
    "3. CNN3 (filter_size=3, num_of_filters=600)\n",
    "\n",
    "Modeli kod kojih treniramo i embeding\n",
    "\n",
    "4. CNN1e (filter_size=1, num_of_filters=600)\n",
    "5. CNN2e (filter_size=2, num_of_filters=800)\n",
    "6. CNN3e (filter_size=3, num_of_filters=600)\n",
    "\n",
    "Eksperimentalni modeli (sa i bez ranije treniranog embedinga)\n",
    "\n",
    "7. CNN5 (filter_size=5, num_of_filters=600)\n",
    "8. CNN5e (filter_size=5, num_of_filters=600)"
   ]
  },
  {
   "cell_type": "code",
   "execution_count": 50,
   "id": "bce17483",
   "metadata": {},
   "outputs": [],
   "source": [
    "def plot_train_val_performance(history):\n",
    "\n",
    "    plt.figure(figsize=(10, 4))\n",
    "\n",
    "    plt.subplot(121)\n",
    "    plt.title('Loss')\n",
    "    plt.plot(history.epoch, history.history['loss'], label='train')\n",
    "    plt.plot(history.epoch, history.history['val_loss'], label='val')\n",
    "    plt.legend(loc='best')\n",
    "\n",
    "    plt.subplot(122)\n",
    "    plt.title('Accuracy')\n",
    "    plt.plot(history.epoch, history.history['accuracy'], label='train')\n",
    "    plt.plot(history.epoch, history.history['val_accuracy'], label='val')\n",
    "    plt.legend(loc='best')\n",
    "\n",
    "    plt.show()"
   ]
  },
  {
   "cell_type": "code",
   "execution_count": 51,
   "id": "516b55d5",
   "metadata": {},
   "outputs": [],
   "source": [
    "embedding_dim = 300"
   ]
  },
  {
   "cell_type": "code",
   "execution_count": 52,
   "id": "472d0ca5",
   "metadata": {},
   "outputs": [],
   "source": [
    "def train_model(X, y, V_size, filter_size=1, filters=600,\n",
    "                batch_size=128, epochs=20, learning_rate=0.0001,\n",
    "                dropout_rate=0.25, val_split=0.1, l2=0,\n",
    "                embedding_trainable=False, embedding_matrix=[]):\n",
    "    \n",
    "    embedding_layer = Embedding(input_dim=V_size, output_dim=embedding_dim, input_length=max_doc_len, mask_zero=True,\n",
    "                               trainable=embedding_trainable, weights=[embedding_matrix])\n",
    "    dropout_layer = Dropout(dropout_rate)\n",
    "    conv_layer = Conv1D(filters, filter_size, activation='relu', kernel_regularizer=L2(l2))\n",
    "    global_max_pool_layer = GlobalMaxPool1D()\n",
    "    dense_layer = Dense(20, activation='softmax', activity_regularizer=L2(l2))\n",
    "    \n",
    "        \n",
    "        \n",
    "    cnn = Sequential([\n",
    "        embedding_layer,\n",
    "        dropout_layer,\n",
    "        conv_layer,\n",
    "        global_max_pool_layer,\n",
    "        #Dropout(0.5),\n",
    "        dense_layer\n",
    "    ])\n",
    "    \n",
    "    cnn.compile(optimizer=Adam(learning_rate=learning_rate), loss=losses.CategoricalCrossentropy(), metrics=['accuracy'])\n",
    "    \n",
    "    print(cnn.summary(), \"\\n\")\n",
    "    \n",
    "    history = cnn.fit(X, y, batch_size=batch_size, epochs=epochs, validation_split=val_split, verbose=1)\n",
    "    \n",
    "    return cnn, history\n",
    "    \n",
    "    \n",
    "        \n",
    "        \n",
    "        "
   ]
  },
  {
   "cell_type": "code",
   "execution_count": 53,
   "id": "6ba777b6",
   "metadata": {},
   "outputs": [],
   "source": [
    "def test_model(cnn, history, x_test):\n",
    "    print(cnn.summary())\n",
    "    plot_train_val_performance(history)\n",
    "    \n",
    "    score = cnn.evaluate(x_test, y_test_cat)\n",
    "    test_loss = score[0]\n",
    "    #Ovo je bitno\n",
    "    test_accuracy = score[1]\n",
    "    \n",
    "    print(\"Test loss: \", test_loss)\n",
    "    print(\"Test accuracy: \", test_accuracy, \"\\n\")\n",
    "    \n",
    "    \n",
    "    y_predicted = cnn.predict(x_test)\n",
    "    y_predicted_int = np.array([yp.argmax() for yp in y_predicted])\n",
    "                                                        #uvezi feature_names.txt i dodaj target_names=feature_names\n",
    "    print(\"Classification report: \", metrics.classification_report(y_test, y_predicted_int))\n",
    "    \n",
    "    \n",
    "    confusion_matrix = metrics.confusion_matrix(y_test, y_predicted_int)\n",
    "    \n",
    "    #poigraj se tu malo sa matricom konfuzije\n",
    "    #print(confusion_matrix)"
   ]
  },
  {
   "cell_type": "code",
   "execution_count": 44,
   "id": "e9f3ea05",
   "metadata": {},
   "outputs": [],
   "source": [
    "# namerno ostavljen primer modela gde koristimo nase embedding-e\n",
    "# najbolji moguci parametri, preciznost jedva 60% na test skupu"
   ]
  },
  {
   "cell_type": "code",
   "execution_count": 55,
   "id": "5d93606a",
   "metadata": {},
   "outputs": [
    {
     "name": "stdout",
     "output_type": "stream",
     "text": [
      "Model: \"sequential_6\"\n",
      "_________________________________________________________________\n",
      " Layer (type)                Output Shape              Param #   \n",
      "=================================================================\n",
      " embedding_6 (Embedding)     (None, 400, 300)          44123100  \n",
      "                                                                 \n",
      " dropout_6 (Dropout)         (None, 400, 300)          0         \n",
      "                                                                 \n",
      " conv1d_6 (Conv1D)           (None, 399, 800)          480800    \n",
      "                                                                 \n",
      " global_max_pooling1d_6 (Glo  (None, 800)              0         \n",
      " balMaxPooling1D)                                                \n",
      "                                                                 \n",
      " dense_6 (Dense)             (None, 20)                16020     \n",
      "                                                                 \n",
      "=================================================================\n",
      "Total params: 44,619,920\n",
      "Trainable params: 496,820\n",
      "Non-trainable params: 44,123,100\n",
      "_________________________________________________________________\n",
      "None \n",
      "\n",
      "Epoch 1/25\n",
      "160/160 [==============================] - 40s 245ms/step - loss: 3.0633 - accuracy: 0.1235 - val_loss: 2.5960 - val_accuracy: 0.2279\n",
      "Epoch 2/25\n",
      "160/160 [==============================] - 40s 247ms/step - loss: 2.4958 - accuracy: 0.2474 - val_loss: 2.2511 - val_accuracy: 0.3507\n",
      "Epoch 3/25\n",
      "160/160 [==============================] - 39s 246ms/step - loss: 2.1862 - accuracy: 0.3456 - val_loss: 2.0459 - val_accuracy: 0.3816\n",
      "Epoch 4/25\n",
      "160/160 [==============================] - 39s 244ms/step - loss: 1.9166 - accuracy: 0.4291 - val_loss: 1.8318 - val_accuracy: 0.4514\n",
      "Epoch 5/25\n",
      "160/160 [==============================] - 39s 244ms/step - loss: 1.7015 - accuracy: 0.4983 - val_loss: 1.6924 - val_accuracy: 0.4726\n",
      "Epoch 6/25\n",
      "160/160 [==============================] - 39s 244ms/step - loss: 1.5549 - accuracy: 0.5381 - val_loss: 1.5727 - val_accuracy: 0.5283\n",
      "Epoch 7/25\n",
      "160/160 [==============================] - 39s 244ms/step - loss: 1.4184 - accuracy: 0.5752 - val_loss: 1.4929 - val_accuracy: 0.5521\n",
      "Epoch 8/25\n",
      "160/160 [==============================] - 39s 244ms/step - loss: 1.3183 - accuracy: 0.6133 - val_loss: 1.4320 - val_accuracy: 0.5521\n",
      "Epoch 9/25\n",
      "160/160 [==============================] - 39s 246ms/step - loss: 1.2337 - accuracy: 0.6408 - val_loss: 1.3674 - val_accuracy: 0.5866\n",
      "Epoch 10/25\n",
      "160/160 [==============================] - 39s 247ms/step - loss: 1.1492 - accuracy: 0.6705 - val_loss: 1.2938 - val_accuracy: 0.6025\n",
      "Epoch 11/25\n",
      "160/160 [==============================] - 40s 249ms/step - loss: 1.0924 - accuracy: 0.6914 - val_loss: 1.2561 - val_accuracy: 0.6272\n",
      "Epoch 12/25\n",
      "160/160 [==============================] - 40s 248ms/step - loss: 1.0314 - accuracy: 0.7078 - val_loss: 1.2214 - val_accuracy: 0.6299\n",
      "Epoch 13/25\n",
      "160/160 [==============================] - 39s 246ms/step - loss: 0.9899 - accuracy: 0.7213 - val_loss: 1.1924 - val_accuracy: 0.6519\n",
      "Epoch 14/25\n",
      "160/160 [==============================] - 39s 246ms/step - loss: 0.9398 - accuracy: 0.7385 - val_loss: 1.1593 - val_accuracy: 0.6546\n",
      "Epoch 15/25\n",
      "160/160 [==============================] - 39s 245ms/step - loss: 0.9094 - accuracy: 0.7412 - val_loss: 1.1527 - val_accuracy: 0.6546\n",
      "Epoch 16/25\n",
      "160/160 [==============================] - 39s 245ms/step - loss: 0.8596 - accuracy: 0.7609 - val_loss: 1.1488 - val_accuracy: 0.6555\n",
      "Epoch 17/25\n",
      "160/160 [==============================] - 39s 246ms/step - loss: 0.8343 - accuracy: 0.7676 - val_loss: 1.1252 - val_accuracy: 0.6625\n",
      "Epoch 18/25\n",
      "160/160 [==============================] - 39s 246ms/step - loss: 0.7965 - accuracy: 0.7809 - val_loss: 1.1239 - val_accuracy: 0.6484\n",
      "Epoch 19/25\n",
      "160/160 [==============================] - 42s 262ms/step - loss: 0.7644 - accuracy: 0.7918 - val_loss: 1.0801 - val_accuracy: 0.6714\n",
      "Epoch 20/25\n",
      "160/160 [==============================] - 40s 250ms/step - loss: 0.7410 - accuracy: 0.8022 - val_loss: 1.0636 - val_accuracy: 0.6705\n",
      "Epoch 21/25\n",
      "160/160 [==============================] - 40s 247ms/step - loss: 0.7135 - accuracy: 0.8070 - val_loss: 1.0634 - val_accuracy: 0.6811\n",
      "Epoch 22/25\n",
      "160/160 [==============================] - 40s 248ms/step - loss: 0.6830 - accuracy: 0.8221 - val_loss: 1.0538 - val_accuracy: 0.6873\n",
      "Epoch 23/25\n",
      "160/160 [==============================] - 40s 247ms/step - loss: 0.6581 - accuracy: 0.8288 - val_loss: 1.0389 - val_accuracy: 0.6855\n",
      "Epoch 24/25\n",
      "160/160 [==============================] - 40s 248ms/step - loss: 0.6414 - accuracy: 0.8362 - val_loss: 1.0370 - val_accuracy: 0.6899\n",
      "Epoch 25/25\n",
      "160/160 [==============================] - 40s 247ms/step - loss: 0.6166 - accuracy: 0.8446 - val_loss: 1.0138 - val_accuracy: 0.6943\n"
     ]
    }
   ],
   "source": [
    "model3, history = train_model(X_train_input, y_train_cat, filter_size=2, V_size=V_cbow+1,\n",
    "                              filters=800, batch_size=64, epochs=25, \n",
    "                              learning_rate=0.0001, dropout_rate=0.25, l2=0.0001,\n",
    "                             embedding_trainable=False, embedding_matrix=cbow_matrix)"
   ]
  },
  {
   "cell_type": "code",
   "execution_count": 56,
   "id": "0f22b1a6",
   "metadata": {},
   "outputs": [
    {
     "name": "stdout",
     "output_type": "stream",
     "text": [
      "Model: \"sequential_6\"\n",
      "_________________________________________________________________\n",
      " Layer (type)                Output Shape              Param #   \n",
      "=================================================================\n",
      " embedding_6 (Embedding)     (None, 400, 300)          44123100  \n",
      "                                                                 \n",
      " dropout_6 (Dropout)         (None, 400, 300)          0         \n",
      "                                                                 \n",
      " conv1d_6 (Conv1D)           (None, 399, 800)          480800    \n",
      "                                                                 \n",
      " global_max_pooling1d_6 (Glo  (None, 800)              0         \n",
      " balMaxPooling1D)                                                \n",
      "                                                                 \n",
      " dense_6 (Dense)             (None, 20)                16020     \n",
      "                                                                 \n",
      "=================================================================\n",
      "Total params: 44,619,920\n",
      "Trainable params: 496,820\n",
      "Non-trainable params: 44,123,100\n",
      "_________________________________________________________________\n",
      "None\n"
     ]
    },
    {
     "data": {
      "image/png": "[encoded data removed]",
      "text/plain": [
       "<Figure size 720x288 with 2 Axes>"
      ]
     },
     "metadata": {
      "needs_background": "light"
     },
     "output_type": "display_data"
    },
    {
     "name": "stdout",
     "output_type": "stream",
     "text": [
      "236/236 [==============================] - 10s 40ms/step - loss: 1.2714 - accuracy: 0.6097\n",
      "Test loss:  1.271366834640503\n",
      "Test accuracy:  0.6096654534339905 \n",
      "\n",
      "236/236 [==============================] - 9s 40ms/step\n",
      "Classification report:                precision    recall  f1-score   support\n",
      "\n",
      "           0       0.49      0.47      0.48       319\n",
      "           1       0.54      0.46      0.49       389\n",
      "           2       0.62      0.55      0.58       394\n",
      "           3       0.46      0.44      0.45       392\n",
      "           4       0.51      0.49      0.50       385\n",
      "           5       0.65      0.71      0.68       395\n",
      "           6       0.68      0.81      0.74       390\n",
      "           7       0.69      0.65      0.67       396\n",
      "           8       0.79      0.74      0.77       398\n",
      "           9       0.67      0.49      0.57       397\n",
      "          10       0.65      0.83      0.73       399\n",
      "          11       0.75      0.72      0.74       396\n",
      "          12       0.44      0.49      0.46       393\n",
      "          13       0.65      0.64      0.64       396\n",
      "          14       0.68      0.77      0.72       394\n",
      "          15       0.65      0.72      0.68       398\n",
      "          16       0.56      0.66      0.60       364\n",
      "          17       0.88      0.67      0.76       376\n",
      "          18       0.47      0.36      0.41       310\n",
      "          19       0.28      0.34      0.31       251\n",
      "\n",
      "    accuracy                           0.61      7532\n",
      "   macro avg       0.61      0.60      0.60      7532\n",
      "weighted avg       0.61      0.61      0.61      7532\n",
      "\n"
     ]
    }
   ],
   "source": [
    "test_model(model3, history, X_test_input)"
   ]
  },
  {
   "cell_type": "code",
   "execution_count": 45,
   "id": "206c7375",
   "metadata": {},
   "outputs": [],
   "source": [
    "# model koji inicijalno koristi google vektore, a jos ih dalje trenira (dobar rezultat)"
   ]
  },
  {
   "cell_type": "code",
   "execution_count": 46,
   "id": "027806f3",
   "metadata": {},
   "outputs": [
    {
     "name": "stdout",
     "output_type": "stream",
     "text": [
      "Model: \"sequential_2\"\n",
      "_________________________________________________________________\n",
      " Layer (type)                Output Shape              Param #   \n",
      "=================================================================\n",
      " embedding_2 (Embedding)     (None, 400, 300)          25938300  \n",
      "                                                                 \n",
      " dropout_2 (Dropout)         (None, 400, 300)          0         \n",
      "                                                                 \n",
      " conv1d_2 (Conv1D)           (None, 399, 800)          480800    \n",
      "                                                                 \n",
      " global_max_pooling1d_2 (Glo  (None, 800)              0         \n",
      " balMaxPooling1D)                                                \n",
      "                                                                 \n",
      " dense_2 (Dense)             (None, 20)                16020     \n",
      "                                                                 \n",
      "=================================================================\n",
      "Total params: 26,435,120\n",
      "Trainable params: 26,435,120\n",
      "Non-trainable params: 0\n",
      "_________________________________________________________________\n",
      "None \n",
      "\n",
      "Epoch 1/15\n",
      "160/160 [==============================] - 68s 424ms/step - loss: 2.8197 - accuracy: 0.2970 - val_loss: 2.6026 - val_accuracy: 0.5380\n",
      "Epoch 2/15\n",
      "160/160 [==============================] - 69s 431ms/step - loss: 2.3092 - accuracy: 0.6346 - val_loss: 2.0489 - val_accuracy: 0.6617\n",
      "Epoch 3/15\n",
      "160/160 [==============================] - 70s 435ms/step - loss: 1.7326 - accuracy: 0.7196 - val_loss: 1.5696 - val_accuracy: 0.7058\n",
      "Epoch 4/15\n",
      "160/160 [==============================] - 69s 432ms/step - loss: 1.3162 - accuracy: 0.7523 - val_loss: 1.2828 - val_accuracy: 0.7253\n",
      "Epoch 5/15\n",
      "160/160 [==============================] - 69s 434ms/step - loss: 1.0728 - accuracy: 0.7708 - val_loss: 1.1206 - val_accuracy: 0.7385\n",
      "Epoch 6/15\n",
      "160/160 [==============================] - 69s 431ms/step - loss: 0.9189 - accuracy: 0.7908 - val_loss: 1.0133 - val_accuracy: 0.7447\n",
      "Epoch 7/15\n",
      "160/160 [==============================] - 69s 431ms/step - loss: 0.8053 - accuracy: 0.8100 - val_loss: 0.9262 - val_accuracy: 0.7624\n",
      "Epoch 8/15\n",
      "160/160 [==============================] - 70s 438ms/step - loss: 0.7176 - accuracy: 0.8284 - val_loss: 0.8671 - val_accuracy: 0.7633\n",
      "Epoch 9/15\n",
      "160/160 [==============================] - 81s 509ms/step - loss: 0.6461 - accuracy: 0.8463 - val_loss: 0.8147 - val_accuracy: 0.7747\n",
      "Epoch 10/15\n",
      "160/160 [==============================] - 76s 478ms/step - loss: 0.5842 - accuracy: 0.8618 - val_loss: 0.7711 - val_accuracy: 0.7862\n",
      "Epoch 11/15\n",
      "160/160 [==============================] - 74s 462ms/step - loss: 0.5295 - accuracy: 0.8768 - val_loss: 0.7413 - val_accuracy: 0.7898\n",
      "Epoch 12/15\n",
      "160/160 [==============================] - 74s 462ms/step - loss: 0.4807 - accuracy: 0.8943 - val_loss: 0.7084 - val_accuracy: 0.8039\n",
      "Epoch 13/15\n",
      "160/160 [==============================] - 80s 500ms/step - loss: 0.4370 - accuracy: 0.9076 - val_loss: 0.6769 - val_accuracy: 0.8136\n",
      "Epoch 14/15\n",
      "160/160 [==============================] - 81s 504ms/step - loss: 0.3957 - accuracy: 0.9186 - val_loss: 0.6567 - val_accuracy: 0.8118\n",
      "Epoch 15/15\n",
      "160/160 [==============================] - 79s 495ms/step - loss: 0.3595 - accuracy: 0.9289 - val_loss: 0.6285 - val_accuracy: 0.8216\n"
     ]
    }
   ],
   "source": [
    "model_google2, historyg2 = train_model(X_train_google_input, y_train_cat,V_size=V_googlew2v+1,\n",
    "                                    filter_size=2, filters=800, batch_size=64,\n",
    "                                    epochs=15, learning_rate=0.0001, dropout_rate=0.1, \n",
    "                                    l2=0.00001,\n",
    "                                    embedding_trainable=True, embedding_matrix=googlew2v_matrix)"
   ]
  },
  {
   "cell_type": "code",
   "execution_count": 50,
   "id": "60afacda",
   "metadata": {},
   "outputs": [
    {
     "name": "stdout",
     "output_type": "stream",
     "text": [
      "Model: \"sequential_2\"\n",
      "_________________________________________________________________\n",
      " Layer (type)                Output Shape              Param #   \n",
      "=================================================================\n",
      " embedding_2 (Embedding)     (None, 400, 300)          25938300  \n",
      "                                                                 \n",
      " dropout_2 (Dropout)         (None, 400, 300)          0         \n",
      "                                                                 \n",
      " conv1d_2 (Conv1D)           (None, 399, 800)          480800    \n",
      "                                                                 \n",
      " global_max_pooling1d_2 (Glo  (None, 800)              0         \n",
      " balMaxPooling1D)                                                \n",
      "                                                                 \n",
      " dense_2 (Dense)             (None, 20)                16020     \n",
      "                                                                 \n",
      "=================================================================\n",
      "Total params: 26,435,120\n",
      "Trainable params: 26,435,120\n",
      "Non-trainable params: 0\n",
      "_________________________________________________________________\n",
      "None\n"
     ]
    },
    {
     "data": {
      "image/png": "[encoded data removed]",
      "text/plain": [
       "<Figure size 720x288 with 2 Axes>"
      ]
     },
     "metadata": {
      "needs_background": "light"
     },
     "output_type": "display_data"
    },
    {
     "name": "stdout",
     "output_type": "stream",
     "text": [
      "236/236 [==============================] - 10s 44ms/step - loss: 0.8171 - accuracy: 0.7612\n",
      "Test loss:  0.8171089887619019\n",
      "Test accuracy:  0.7611523866653442 \n",
      "\n",
      "236/236 [==============================] - 10s 43ms/step\n",
      "Classification report:                precision    recall  f1-score   support\n",
      "\n",
      "           0       0.59      0.59      0.59       319\n",
      "           1       0.70      0.72      0.71       389\n",
      "           2       0.64      0.72      0.68       394\n",
      "           3       0.66      0.66      0.66       392\n",
      "           4       0.74      0.71      0.73       385\n",
      "           5       0.82      0.70      0.75       395\n",
      "           6       0.76      0.81      0.78       390\n",
      "           7       0.85      0.84      0.85       396\n",
      "           8       0.92      0.88      0.90       398\n",
      "           9       0.90      0.92      0.91       397\n",
      "          10       0.95      0.95      0.95       399\n",
      "          11       0.83      0.81      0.82       396\n",
      "          12       0.64      0.64      0.64       393\n",
      "          13       0.82      0.87      0.84       396\n",
      "          14       0.84      0.83      0.84       394\n",
      "          15       0.71      0.88      0.79       398\n",
      "          16       0.64      0.78      0.70       364\n",
      "          17       0.92      0.82      0.87       376\n",
      "          18       0.61      0.52      0.56       310\n",
      "          19       0.54      0.31      0.40       251\n",
      "\n",
      "    accuracy                           0.76      7532\n",
      "   macro avg       0.75      0.75      0.75      7532\n",
      "weighted avg       0.76      0.76      0.76      7532\n",
      "\n"
     ]
    }
   ],
   "source": [
    "test_model(model_google2, historyg2, X_test_google_input)"
   ]
  },
  {
   "cell_type": "code",
   "execution_count": 47,
   "id": "7d67041a",
   "metadata": {},
   "outputs": [],
   "source": [
    "# najbolji model"
   ]
  },
  {
   "cell_type": "code",
   "execution_count": 54,
   "id": "34837033",
   "metadata": {},
   "outputs": [
    {
     "name": "stdout",
     "output_type": "stream",
     "text": [
      "Model: \"sequential_1\"\n",
      "_________________________________________________________________\n",
      " Layer (type)                Output Shape              Param #   \n",
      "=================================================================\n",
      " embedding_1 (Embedding)     (None, 400, 300)          25938300  \n",
      "                                                                 \n",
      " dropout_1 (Dropout)         (None, 400, 300)          0         \n",
      "                                                                 \n",
      " conv1d_1 (Conv1D)           (None, 399, 800)          480800    \n",
      "                                                                 \n",
      " global_max_pooling1d_1 (Glo  (None, 800)              0         \n",
      " balMaxPooling1D)                                                \n",
      "                                                                 \n",
      " dense_1 (Dense)             (None, 20)                16020     \n",
      "                                                                 \n",
      "=================================================================\n",
      "Total params: 26,435,120\n",
      "Trainable params: 496,820\n",
      "Non-trainable params: 25,938,300\n",
      "_________________________________________________________________\n",
      "None \n",
      "\n",
      "Epoch 1/40\n",
      "160/160 [==============================] - 38s 238ms/step - loss: 2.9048 - accuracy: 0.2535 - val_loss: 2.7254 - val_accuracy: 0.4620\n",
      "Epoch 2/40\n",
      "160/160 [==============================] - 38s 239ms/step - loss: 2.5260 - accuracy: 0.5338 - val_loss: 2.2957 - val_accuracy: 0.5813\n",
      "Epoch 3/40\n",
      "160/160 [==============================] - 40s 249ms/step - loss: 2.0717 - accuracy: 0.6405 - val_loss: 1.8643 - val_accuracy: 0.6396\n",
      "Epoch 4/40\n",
      "160/160 [==============================] - 39s 246ms/step - loss: 1.6817 - accuracy: 0.6859 - val_loss: 1.5636 - val_accuracy: 0.6723\n",
      "Epoch 5/40\n",
      "160/160 [==============================] - 39s 243ms/step - loss: 1.4191 - accuracy: 0.7074 - val_loss: 1.3746 - val_accuracy: 0.6943\n",
      "Epoch 6/40\n",
      "160/160 [==============================] - 39s 244ms/step - loss: 1.2524 - accuracy: 0.7260 - val_loss: 1.2532 - val_accuracy: 0.7067\n",
      "Epoch 7/40\n",
      "160/160 [==============================] - 39s 244ms/step - loss: 1.1389 - accuracy: 0.7361 - val_loss: 1.1693 - val_accuracy: 0.7067\n",
      "Epoch 8/40\n",
      "160/160 [==============================] - 39s 243ms/step - loss: 1.0585 - accuracy: 0.7486 - val_loss: 1.1044 - val_accuracy: 0.7200\n",
      "Epoch 9/40\n",
      "160/160 [==============================] - 39s 243ms/step - loss: 0.9924 - accuracy: 0.7586 - val_loss: 1.0562 - val_accuracy: 0.7253\n",
      "Epoch 10/40\n",
      "160/160 [==============================] - 42s 261ms/step - loss: 0.9400 - accuracy: 0.7698 - val_loss: 1.0119 - val_accuracy: 0.7244\n",
      "Epoch 11/40\n",
      "160/160 [==============================] - 42s 259ms/step - loss: 0.8971 - accuracy: 0.7761 - val_loss: 0.9720 - val_accuracy: 0.7394\n",
      "Epoch 12/40\n",
      "160/160 [==============================] - 40s 250ms/step - loss: 0.8599 - accuracy: 0.7847 - val_loss: 0.9477 - val_accuracy: 0.7420\n",
      "Epoch 13/40\n",
      "160/160 [==============================] - 41s 256ms/step - loss: 0.8244 - accuracy: 0.7948 - val_loss: 0.9230 - val_accuracy: 0.7403\n",
      "Epoch 14/40\n",
      "160/160 [==============================] - 41s 254ms/step - loss: 0.7957 - accuracy: 0.8012 - val_loss: 0.8972 - val_accuracy: 0.7473\n",
      "Epoch 15/40\n",
      "160/160 [==============================] - 39s 246ms/step - loss: 0.7691 - accuracy: 0.8075 - val_loss: 0.8804 - val_accuracy: 0.7571\n",
      "Epoch 16/40\n",
      "160/160 [==============================] - 39s 245ms/step - loss: 0.7428 - accuracy: 0.8159 - val_loss: 0.8630 - val_accuracy: 0.7597\n",
      "Epoch 17/40\n",
      "160/160 [==============================] - 39s 246ms/step - loss: 0.7198 - accuracy: 0.8232 - val_loss: 0.8438 - val_accuracy: 0.7659\n",
      "Epoch 18/40\n",
      "160/160 [==============================] - 39s 244ms/step - loss: 0.7000 - accuracy: 0.8260 - val_loss: 0.8267 - val_accuracy: 0.7677\n",
      "Epoch 19/40\n",
      "160/160 [==============================] - 40s 252ms/step - loss: 0.6796 - accuracy: 0.8333 - val_loss: 0.8132 - val_accuracy: 0.7730\n",
      "Epoch 20/40\n",
      "160/160 [==============================] - 40s 247ms/step - loss: 0.6588 - accuracy: 0.8376 - val_loss: 0.7991 - val_accuracy: 0.7809\n",
      "Epoch 21/40\n",
      "160/160 [==============================] - 40s 248ms/step - loss: 0.6408 - accuracy: 0.8453 - val_loss: 0.7901 - val_accuracy: 0.7809\n",
      "Epoch 22/40\n",
      "160/160 [==============================] - 39s 246ms/step - loss: 0.6249 - accuracy: 0.8488 - val_loss: 0.7772 - val_accuracy: 0.7880\n",
      "Epoch 23/40\n",
      "160/160 [==============================] - 39s 244ms/step - loss: 0.6059 - accuracy: 0.8594 - val_loss: 0.7670 - val_accuracy: 0.7862\n",
      "Epoch 24/40\n",
      "160/160 [==============================] - 39s 245ms/step - loss: 0.5928 - accuracy: 0.8625 - val_loss: 0.7579 - val_accuracy: 0.7977\n",
      "Epoch 25/40\n",
      "160/160 [==============================] - 39s 245ms/step - loss: 0.5761 - accuracy: 0.8663 - val_loss: 0.7447 - val_accuracy: 0.7933\n",
      "Epoch 26/40\n",
      "160/160 [==============================] - 39s 244ms/step - loss: 0.5645 - accuracy: 0.8690 - val_loss: 0.7374 - val_accuracy: 0.7986\n",
      "Epoch 27/40\n",
      "160/160 [==============================] - 39s 244ms/step - loss: 0.5510 - accuracy: 0.8749 - val_loss: 0.7281 - val_accuracy: 0.8039\n",
      "Epoch 28/40\n",
      "160/160 [==============================] - 39s 244ms/step - loss: 0.5363 - accuracy: 0.8819 - val_loss: 0.7249 - val_accuracy: 0.8074\n",
      "Epoch 29/40\n",
      "160/160 [==============================] - 39s 244ms/step - loss: 0.5217 - accuracy: 0.8875 - val_loss: 0.7147 - val_accuracy: 0.8083\n",
      "Epoch 30/40\n",
      "160/160 [==============================] - 39s 244ms/step - loss: 0.5105 - accuracy: 0.8899 - val_loss: 0.7056 - val_accuracy: 0.8074\n",
      "Epoch 31/40\n",
      "160/160 [==============================] - 39s 245ms/step - loss: 0.4966 - accuracy: 0.8973 - val_loss: 0.7027 - val_accuracy: 0.8065\n",
      "Epoch 32/40\n",
      "160/160 [==============================] - 39s 244ms/step - loss: 0.4880 - accuracy: 0.8979 - val_loss: 0.6949 - val_accuracy: 0.8118\n",
      "Epoch 33/40\n",
      "160/160 [==============================] - 39s 244ms/step - loss: 0.4744 - accuracy: 0.9045 - val_loss: 0.6896 - val_accuracy: 0.8136\n",
      "Epoch 34/40\n",
      "160/160 [==============================] - 39s 245ms/step - loss: 0.4618 - accuracy: 0.9106 - val_loss: 0.6874 - val_accuracy: 0.8136\n",
      "Epoch 35/40\n",
      "160/160 [==============================] - 39s 244ms/step - loss: 0.4519 - accuracy: 0.9152 - val_loss: 0.6785 - val_accuracy: 0.8216\n",
      "Epoch 36/40\n",
      "160/160 [==============================] - 39s 244ms/step - loss: 0.4419 - accuracy: 0.9178 - val_loss: 0.6711 - val_accuracy: 0.8242\n",
      "Epoch 37/40\n",
      "160/160 [==============================] - 39s 244ms/step - loss: 0.4330 - accuracy: 0.9214 - val_loss: 0.6646 - val_accuracy: 0.8224\n",
      "Epoch 38/40\n",
      "160/160 [==============================] - 39s 244ms/step - loss: 0.4231 - accuracy: 0.9226 - val_loss: 0.6635 - val_accuracy: 0.8171\n",
      "Epoch 39/40\n",
      "160/160 [==============================] - 39s 244ms/step - loss: 0.4148 - accuracy: 0.9263 - val_loss: 0.6574 - val_accuracy: 0.8251\n",
      "Epoch 40/40\n",
      "160/160 [==============================] - 39s 244ms/step - loss: 0.4017 - accuracy: 0.9313 - val_loss: 0.6519 - val_accuracy: 0.8260\n",
      "CPU times: total: 2h 59min 40s\n",
      "Wall time: 26min 14s\n"
     ]
    }
   ],
   "source": [
    "%%time\n",
    "model_google4, historyg4 = train_model(X_train_google_input, y_train_cat,V_size=V_googlew2v+1,\n",
    "                                    filter_size=2, filters=800, batch_size=64,\n",
    "                                    epochs=40, learning_rate=0.0001, dropout_rate=0.25, \n",
    "                                    l2=0.0001,\n",
    "                                    embedding_trainable=False, embedding_matrix=googlew2v_matrix)"
   ]
  },
  {
   "cell_type": "code",
   "execution_count": 55,
   "id": "fee0aef9",
   "metadata": {},
   "outputs": [
    {
     "name": "stdout",
     "output_type": "stream",
     "text": [
      "Model: \"sequential_1\"\n",
      "_________________________________________________________________\n",
      " Layer (type)                Output Shape              Param #   \n",
      "=================================================================\n",
      " embedding_1 (Embedding)     (None, 400, 300)          25938300  \n",
      "                                                                 \n",
      " dropout_1 (Dropout)         (None, 400, 300)          0         \n",
      "                                                                 \n",
      " conv1d_1 (Conv1D)           (None, 399, 800)          480800    \n",
      "                                                                 \n",
      " global_max_pooling1d_1 (Glo  (None, 800)              0         \n",
      " balMaxPooling1D)                                                \n",
      "                                                                 \n",
      " dense_1 (Dense)             (None, 20)                16020     \n",
      "                                                                 \n",
      "=================================================================\n",
      "Total params: 26,435,120\n",
      "Trainable params: 496,820\n",
      "Non-trainable params: 25,938,300\n",
      "_________________________________________________________________\n",
      "None\n"
     ]
    },
    {
     "data": {
      "image/png": "[encoded data removed]",
      "text/plain": [
       "<Figure size 720x288 with 2 Axes>"
      ]
     },
     "metadata": {
      "needs_background": "light"
     },
     "output_type": "display_data"
    },
    {
     "name": "stdout",
     "output_type": "stream",
     "text": [
      "236/236 [==============================] - 10s 40ms/step - loss: 0.8750 - accuracy: 0.7639\n",
      "Test loss:  0.8750002980232239\n",
      "Test accuracy:  0.7639405131340027 \n",
      "\n",
      "236/236 [==============================] - 10s 41ms/step\n",
      "Classification report:                precision    recall  f1-score   support\n",
      "\n",
      "           0       0.58      0.61      0.59       319\n",
      "           1       0.75      0.69      0.72       389\n",
      "           2       0.65      0.73      0.69       394\n",
      "           3       0.65      0.71      0.68       392\n",
      "           4       0.74      0.74      0.74       385\n",
      "           5       0.80      0.69      0.74       395\n",
      "           6       0.79      0.83      0.81       390\n",
      "           7       0.85      0.84      0.85       396\n",
      "           8       0.93      0.89      0.91       398\n",
      "           9       0.89      0.93      0.91       397\n",
      "          10       0.94      0.96      0.95       399\n",
      "          11       0.85      0.79      0.82       396\n",
      "          12       0.66      0.65      0.65       393\n",
      "          13       0.83      0.85      0.84       396\n",
      "          14       0.80      0.84      0.82       394\n",
      "          15       0.72      0.88      0.79       398\n",
      "          16       0.64      0.76      0.69       364\n",
      "          17       0.91      0.85      0.88       376\n",
      "          18       0.60      0.49      0.54       310\n",
      "          19       0.52      0.31      0.39       251\n",
      "\n",
      "    accuracy                           0.76      7532\n",
      "   macro avg       0.76      0.75      0.75      7532\n",
      "weighted avg       0.76      0.76      0.76      7532\n",
      "\n"
     ]
    }
   ],
   "source": [
    "test_model(model_google4, historyg4, X_test_google_input)"
   ]
  },
  {
   "cell_type": "code",
   "execution_count": 56,
   "id": "a22990ea",
   "metadata": {},
   "outputs": [],
   "source": [
    "model_path = os.path.join(\"models\", \"best_cnn.hdf5\")"
   ]
  },
  {
   "cell_type": "code",
   "execution_count": 57,
   "id": "a60d704d",
   "metadata": {},
   "outputs": [],
   "source": [
    "model_google4.save(model_path)"
   ]
  }
 ],
 "metadata": {
  "kernelspec": {
   "display_name": "Python 3 (ipykernel)",
   "language": "python",
   "name": "python3"
  },
  "language_info": {
   "codemirror_mode": {
    "name": "ipython",
    "version": 3
   },
   "file_extension": ".py",
   "mimetype": "text/x-python",
   "name": "python",
   "nbconvert_exporter": "python",
   "pygments_lexer": "ipython3",
   "version": "3.10.5"
  }
 },
 "nbformat": 4,
 "nbformat_minor": 5
}
