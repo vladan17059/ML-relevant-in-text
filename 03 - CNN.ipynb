{
 "cells": [
  {
   "cell_type": "markdown",
   "id": "538bb253",
   "metadata": {},
   "source": [
    "#  CNN "
   ]
  },
  {
   "cell_type": "code",
   "execution_count": 1,
   "id": "29b66944",
   "metadata": {},
   "outputs": [],
   "source": [
    "import numpy as np\n",
    "import pandas as pd\n",
    "from matplotlib import pyplot as plt"
   ]
  },
  {
   "cell_type": "code",
   "execution_count": 2,
   "id": "ea3e3845",
   "metadata": {},
   "outputs": [],
   "source": [
    "import tensorflow as tf\n",
    "from tensorflow.keras.layers import Dense, GlobalMaxPool1D, Conv1D, Embedding, Dropout, MaxPool1D, Flatten\n",
    "from tensorflow.keras import losses\n",
    "from tensorflow.keras import preprocessing\n",
    "from tensorflow.keras.optimizers import Adam\n",
    "from tensorflow.keras.models import Sequential, load_model\n",
    "from tensorflow.keras import backend\n",
    "from tensorflow.keras.utils import to_categorical\n",
    "from tensorflow.keras.preprocessing.sequence import pad_sequences\n",
    "from tensorflow.keras.regularizers import L2"
   ]
  },
  {
   "cell_type": "code",
   "execution_count": 3,
   "id": "f5beec4e",
   "metadata": {},
   "outputs": [],
   "source": [
    "from sklearn import feature_extraction\n",
    "from sklearn import metrics\n",
    "from sklearn import datasets"
   ]
  },
  {
   "cell_type": "code",
   "execution_count": 4,
   "id": "270ec156",
   "metadata": {},
   "outputs": [],
   "source": [
    "import nltk\n",
    "import pickle"
   ]
  },
  {
   "cell_type": "code",
   "execution_count": 5,
   "id": "a05bf5a8",
   "metadata": {},
   "outputs": [],
   "source": [
    "import string"
   ]
  },
  {
   "cell_type": "code",
   "execution_count": 6,
   "id": "6c1bc42e",
   "metadata": {},
   "outputs": [],
   "source": [
    "import gensim"
   ]
  },
  {
   "cell_type": "code",
   "execution_count": 7,
   "id": "7e85dbb6",
   "metadata": {},
   "outputs": [],
   "source": [
    "import os"
   ]
  },
  {
   "cell_type": "code",
   "execution_count": 8,
   "id": "027333d5",
   "metadata": {},
   "outputs": [],
   "source": [
    "import graphviz\n",
    "import pydot"
   ]
  },
  {
   "cell_type": "code",
   "execution_count": 9,
   "id": "7cdfdf8f",
   "metadata": {},
   "outputs": [],
   "source": [
    "max_doc_len = 400"
   ]
  },
  {
   "cell_type": "markdown",
   "id": "565fb3b2",
   "metadata": {},
   "source": [
    "## Ucitavanje i priprema podataka"
   ]
  },
  {
   "cell_type": "code",
   "execution_count": 10,
   "id": "9389c59f",
   "metadata": {},
   "outputs": [],
   "source": [
    "train_data = datasets.fetch_20newsgroups(random_state=61, remove=('headers'))\n",
    "test_data = datasets.fetch_20newsgroups(random_state=61, subset='test', remove=('headers'))\n",
    "X_train = train_data.data\n",
    "y_train = train_data.target\n",
    "X_test = test_data.data\n",
    "y_test = test_data.target\n",
    "feature_names = train_data.target_names\n",
    "num_of_features = len(feature_names)\n",
    "N_train = len(X_train)\n",
    "N_test = len(X_test)"
   ]
  },
  {
   "cell_type": "code",
   "execution_count": 11,
   "id": "7ced3a4f",
   "metadata": {},
   "outputs": [],
   "source": [
    "# ucitavamo vektorizator koji cemo koristiti za filtriranje (sadrzi vocabulary)\n",
    "\n",
    "with open(os.path.join(\"models\", \"vectorizer.pickle\"), \"rb\") as load_file:\n",
    "    vectorizer = pickle.load(load_file)"
   ]
  },
  {
   "cell_type": "code",
   "execution_count": 12,
   "id": "8f474133",
   "metadata": {},
   "outputs": [],
   "source": [
    "vocabulary = vectorizer.vocabulary_"
   ]
  },
  {
   "cell_type": "code",
   "execution_count": 13,
   "id": "a2364755",
   "metadata": {},
   "outputs": [],
   "source": [
    "X_train_tok = [vectorizer.tokenizer(text) for text in X_train] \n",
    "X_train_tok_filt = [[word for word in text if word in vocabulary] for text in X_train_tok]"
   ]
  },
  {
   "cell_type": "code",
   "execution_count": 14,
   "id": "f0f21d81",
   "metadata": {},
   "outputs": [],
   "source": [
    "X_test_tok = [vectorizer.tokenizer(text) for text in X_test] \n",
    "X_test_tok_filt = [[word for word in text if word in vocabulary] for text in X_test_tok]"
   ]
  },
  {
   "cell_type": "code",
   "execution_count": 15,
   "id": "326e87ae",
   "metadata": {},
   "outputs": [],
   "source": [
    "# ucitavamo vec istrenirane embedding-e\n",
    "\n",
    "cbow_model_full = gensim.models.word2vec.Word2Vec.load(os.path.join(\"models\", \"cbow.wv\"))"
   ]
  },
  {
   "cell_type": "code",
   "execution_count": 16,
   "id": "3798023b",
   "metadata": {},
   "outputs": [],
   "source": [
    "cbow = cbow_model_full.wv"
   ]
  },
  {
   "cell_type": "code",
   "execution_count": 17,
   "id": "e5e0fb35",
   "metadata": {},
   "outputs": [
    {
     "data": {
      "text/plain": [
       "55487"
      ]
     },
     "execution_count": 17,
     "metadata": {},
     "output_type": "execute_result"
    }
   ],
   "source": [
    "len(cbow.key_to_index)"
   ]
  },
  {
   "cell_type": "code",
   "execution_count": 18,
   "id": "0f731b1c",
   "metadata": {},
   "outputs": [],
   "source": [
    "# vidimo da nam fale neke reci iz originalnog vokabulara koje smo hteli da naucimo\n",
    "# verovatno su se retko pojavljivale pa nisu uzete u obzir"
   ]
  },
  {
   "cell_type": "code",
   "execution_count": 19,
   "id": "25a65794",
   "metadata": {},
   "outputs": [
    {
     "name": "stdout",
     "output_type": "stream",
     "text": [
      "{\"'Recommended\", \"'undesirables\", 'Lancs', \"'arms\", \"'meaning\", '.', \"'spat-out\", 'Blgtn', 'T.A.S', 'Toobin', 'continuara', \"'bang\", \"'\", 'Races', 'Tayros', \"'.c\", 'Ala', 'YANKS'}\n"
     ]
    }
   ],
   "source": [
    "dif = set([word for word in vocabulary if word not in cbow.key_to_index])\n",
    "print(dif)"
   ]
  },
  {
   "cell_type": "code",
   "execution_count": 22,
   "id": "aca4edd0",
   "metadata": {},
   "outputs": [],
   "source": [
    "# veci nam je problem sto se 0 javlja kao indeks reci 'the' - najfrekventnije reci\n",
    "# 0 cemo koristiti kao indeks za padding i nikako ne bi trebalo da predstavlja smislenu rec\n",
    "# pomericemo vokabular za jedno mesto napred, a atribut maske_zero postaviti na True pri treniranju"
   ]
  },
  {
   "cell_type": "code",
   "execution_count": 23,
   "id": "31145e87",
   "metadata": {},
   "outputs": [],
   "source": [
    "cbow_vocab_plus1 = { word : cbow.key_to_index[word] + 1 for word in cbow.key_to_index}\n",
    "cbow_key_to_index = cbow_vocab_plus1\n",
    "cbow_index_to_key = { cbow_key_to_index[word] : word for word in cbow_key_to_index }"
   ]
  },
  {
   "cell_type": "code",
   "execution_count": 24,
   "id": "dea1be06",
   "metadata": {},
   "outputs": [],
   "source": [
    "# pripremamo matricu w2v (cbow) vektora (vektor 0-te - nepostojece reci je 0 vektor - uopste nema uticaj)"
   ]
  },
  {
   "cell_type": "code",
   "execution_count": 42,
   "id": "4463a38b",
   "metadata": {},
   "outputs": [],
   "source": [
    "cbow_matrix = np.vstack([np.zeros(300), cbow.vectors])"
   ]
  },
  {
   "cell_type": "code",
   "execution_count": 26,
   "id": "ad388dcf",
   "metadata": {},
   "outputs": [
    {
     "data": {
      "text/plain": [
       "(55487, 300)"
      ]
     },
     "execution_count": 26,
     "metadata": {},
     "output_type": "execute_result"
    }
   ],
   "source": [
    "cbow_matrix.shape"
   ]
  },
  {
   "cell_type": "code",
   "execution_count": 28,
   "id": "73611091",
   "metadata": {},
   "outputs": [],
   "source": [
    "# pripremamo trening i test skup\n",
    "\n",
    "X_train_idx = [[cbow_key_to_index[word] for word in text if word in cbow_key_to_index] for text in X_train_tok_filt]"
   ]
  },
  {
   "cell_type": "code",
   "execution_count": 29,
   "id": "f128a320",
   "metadata": {},
   "outputs": [],
   "source": [
    "X_test_idx = [[cbow_key_to_index[word] for word in text if word in cbow_key_to_index ] for text in X_test_tok_filt]"
   ]
  },
  {
   "cell_type": "code",
   "execution_count": 29,
   "id": "41cf15d1",
   "metadata": {},
   "outputs": [],
   "source": [
    "# vrsimo odsecanje na 400 reci i pre-padding nulama"
   ]
  },
  {
   "cell_type": "code",
   "execution_count": 30,
   "id": "2955032d",
   "metadata": {},
   "outputs": [],
   "source": [
    "X_train_input = pad_sequences(X_train_idx, maxlen=max_doc_len)\n",
    "X_test_input = pad_sequences(X_test_idx, maxlen=max_doc_len)"
   ]
  },
  {
   "cell_type": "code",
   "execution_count": 31,
   "id": "a3e5c661",
   "metadata": {},
   "outputs": [],
   "source": [
    "y_train_cat = to_categorical(y_train)\n",
    "y_test_cat = to_categorical(y_test)"
   ]
  },
  {
   "cell_type": "markdown",
   "id": "589b7b81",
   "metadata": {},
   "source": [
    "## CNN"
   ]
  },
  {
   "cell_type": "markdown",
   "id": "2c2270ab",
   "metadata": {},
   "source": [
    "### CNN modeli\n",
    "\n",
    "Modeli sa vec spremnim embedingom (word2vec)\n",
    "1. CNN1 (filter_size=1, num_of_filters=600)\n",
    "2. CNN2 (filter_size=2, num_of_filters=800)\n",
    "3. CNN3 (filter_size=3, num_of_filters=600)\n",
    "\n",
    "Modeli kod kojih treniramo i embeding\n",
    "\n",
    "4. CNN1e (filter_size=1, num_of_filters=600)\n",
    "5. CNN2e (filter_size=2, num_of_filters=800)\n",
    "6. CNN3e (filter_size=3, num_of_filters=600)\n",
    "\n",
    "Eksperimentalni modeli (sa i bez ranije treniranog embedinga)\n",
    "\n",
    "7. CNN5 (filter_size=5, num_of_filters=600)\n",
    "8. CNN5e (filter_size=5, num_of_filters=600)"
   ]
  },
  {
   "cell_type": "code",
   "execution_count": 32,
   "id": "bce17483",
   "metadata": {},
   "outputs": [],
   "source": [
    "def plot_train_val_performance(history):\n",
    "\n",
    "    plt.figure(figsize=(10, 4))\n",
    "\n",
    "    plt.subplot(121)\n",
    "    plt.title('Loss')\n",
    "    plt.plot(history.epoch, history.history['loss'], label='train')\n",
    "    plt.plot(history.epoch, history.history['val_loss'], label='val')\n",
    "    plt.legend(loc='best')\n",
    "\n",
    "    plt.subplot(122)\n",
    "    plt.title('Accuracy')\n",
    "    plt.plot(history.epoch, history.history['accuracy'], label='train')\n",
    "    plt.plot(history.epoch, history.history['val_accuracy'], label='val')\n",
    "    plt.legend(loc='best')\n",
    "\n",
    "    plt.show()"
   ]
  },
  {
   "cell_type": "code",
   "execution_count": 33,
   "id": "516b55d5",
   "metadata": {},
   "outputs": [],
   "source": [
    "embedding_dim = 300"
   ]
  },
  {
   "cell_type": "code",
   "execution_count": 34,
   "id": "453805f8",
   "metadata": {},
   "outputs": [],
   "source": [
    "# vocab size\n",
    "V = len(cbow_index_to_key)"
   ]
  },
  {
   "cell_type": "code",
   "execution_count": 93,
   "id": "472d0ca5",
   "metadata": {},
   "outputs": [],
   "source": [
    "def train_model(filter_size=1, filters=600, batch_size=128, epochs=20, learning_rate=0.0001, dropout_rate=0.25, val_split=0.1, l2=0.1, embedding_trainable=False):\n",
    "    embedding_layer = Embedding(input_dim=V+1, output_dim=embedding_dim, input_length=max_doc_len, mask_zero=True,\n",
    "                               trainable=embedding_trainable, weights=[cbow_matrix])\n",
    "    dropout_layer = Dropout(dropout_rate)\n",
    "    conv_layer = Conv1D(filters, filter_size, activation='relu', kernel_regularizer=L2(1))\n",
    "    global_max_pool_layer = GlobalMaxPool1D()\n",
    "    dense_layer = Dense(20, activation='softmax', activity_regularizer=L2(l2))\n",
    "    \n",
    "        \n",
    "        \n",
    "    cnn = Sequential([\n",
    "        embedding_layer,\n",
    "        dropout_layer,\n",
    "        conv_layer,\n",
    "        global_max_pool_layer,\n",
    "        Dropout(0.5),\n",
    "        dense_layer\n",
    "    ])\n",
    "    \n",
    "    cnn.compile(optimizer=Adam(learning_rate=learning_rate), loss=losses.CategoricalCrossentropy(), metrics=['accuracy'])\n",
    "    \n",
    "    print(cnn.summary(), \"\\n\")\n",
    "    \n",
    "    history = cnn.fit(X_train_input, y_train_cat, batch_size=batch_size, epochs=epochs, validation_split=val_split, verbose=1)\n",
    "    \n",
    "    return cnn, history\n",
    "    \n",
    "    \n",
    "        \n",
    "        \n",
    "        "
   ]
  },
  {
   "cell_type": "code",
   "execution_count": 56,
   "id": "6ba777b6",
   "metadata": {},
   "outputs": [],
   "source": [
    "def test_model(cnn, history, x_test):\n",
    "    print(cnn.summary())\n",
    "    plot_train_val_performance(history)\n",
    "    \n",
    "    score = cnn.evaluate(x_test, y_test_cat)\n",
    "    test_loss = score[0]\n",
    "    #Ovo je bitno\n",
    "    test_accuracy = score[1]\n",
    "    \n",
    "    print(\"Test loss: \", test_loss)\n",
    "    print(\"Test accuracy: \", test_accuracy, \"\\n\")\n",
    "    \n",
    "    \n",
    "    y_predicted = cnn.predict(X_test_input)\n",
    "    y_predicted_int = np.array([yp.argmax() for yp in y_predicted])\n",
    "                                                        #uvezi feature_names.txt i dodaj target_names=feature_names\n",
    "    print(\"Classification report: \", metrics.classification_report(y_test, y_predicted_int))\n",
    "    \n",
    "    \n",
    "    confusion_matrix = metrics.confusion_matrix(y_test, y_predicted_int)\n",
    "    \n",
    "    #poigraj se tu malo sa matricom konfuzije\n",
    "    #print(confusion_matrix)"
   ]
  },
  {
   "cell_type": "code",
   "execution_count": 92,
   "id": "b5d1d07f",
   "metadata": {},
   "outputs": [
    {
     "name": "stdout",
     "output_type": "stream",
     "text": [
      "Model: \"sequential_14\"\n",
      "_________________________________________________________________\n",
      " Layer (type)                Output Shape              Param #   \n",
      "=================================================================\n",
      " embedding_14 (Embedding)    (None, 400, 300)          16646400  \n",
      "                                                                 \n",
      " conv1d_14 (Conv1D)          (None, 399, 800)          480800    \n",
      "                                                                 \n",
      " global_max_pooling1d_14 (Gl  (None, 800)              0         \n",
      " obalMaxPooling1D)                                               \n",
      "                                                                 \n",
      " dense_14 (Dense)            (None, 20)                16020     \n",
      "                                                                 \n",
      "=================================================================\n",
      "Total params: 17,143,220\n",
      "Trainable params: 496,820\n",
      "Non-trainable params: 16,646,400\n",
      "_________________________________________________________________\n",
      "None \n",
      "\n",
      "Epoch 1/15\n",
      "80/80 [==============================] - 32s 398ms/step - loss: 354.0132 - accuracy: 0.0638 - val_loss: 275.5716 - val_accuracy: 0.0689\n",
      "Epoch 2/15\n",
      "80/80 [==============================] - 32s 402ms/step - loss: 219.3899 - accuracy: 0.0896 - val_loss: 169.2686 - val_accuracy: 0.0981\n",
      "Epoch 3/15\n",
      "80/80 [==============================] - 33s 410ms/step - loss: 133.5725 - accuracy: 0.1271 - val_loss: 101.9292 - val_accuracy: 0.1360\n",
      "Epoch 4/15\n",
      "80/80 [==============================] - 32s 403ms/step - loss: 79.6805 - accuracy: 0.1808 - val_loss: 60.1430 - val_accuracy: 0.1882\n",
      "Epoch 5/15\n",
      "80/80 [==============================] - 34s 421ms/step - loss: 46.6352 - accuracy: 0.2261 - val_loss: 34.9180 - val_accuracy: 0.2235\n",
      "Epoch 6/15\n",
      "80/80 [==============================] - 32s 402ms/step - loss: 26.9544 - accuracy: 0.2903 - val_loss: 20.1486 - val_accuracy: 0.2774\n",
      "Epoch 7/15\n",
      "80/80 [==============================] - 33s 408ms/step - loss: 15.6100 - accuracy: 0.3377 - val_loss: 11.8024 - val_accuracy: 0.3224\n",
      "Epoch 8/15\n",
      "80/80 [==============================] - 33s 417ms/step - loss: 9.2944 - accuracy: 0.3890 - val_loss: 7.2434 - val_accuracy: 0.3825\n",
      "Epoch 9/15\n",
      "80/80 [==============================] - 33s 414ms/step - loss: 5.9025 - accuracy: 0.4290 - val_loss: 4.8414 - val_accuracy: 0.4072\n",
      "Epoch 10/15\n",
      "80/80 [==============================] - 33s 407ms/step - loss: 4.1429 - accuracy: 0.4691 - val_loss: 3.6279 - val_accuracy: 0.4337\n",
      "Epoch 11/15\n",
      "80/80 [==============================] - 34s 420ms/step - loss: 3.2579 - accuracy: 0.4918 - val_loss: 3.0275 - val_accuracy: 0.4761\n",
      "Epoch 12/15\n",
      "80/80 [==============================] - 33s 410ms/step - loss: 2.8265 - accuracy: 0.5129 - val_loss: 2.7358 - val_accuracy: 0.4850\n",
      "Epoch 13/15\n",
      "80/80 [==============================] - 32s 397ms/step - loss: 2.6176 - accuracy: 0.5337 - val_loss: 2.5909 - val_accuracy: 0.5071\n",
      "Epoch 14/15\n",
      "80/80 [==============================] - 32s 403ms/step - loss: 2.5140 - accuracy: 0.5464 - val_loss: 2.5302 - val_accuracy: 0.5150\n",
      "Epoch 15/15\n",
      "80/80 [==============================] - 32s 399ms/step - loss: 2.4579 - accuracy: 0.5562 - val_loss: 2.4824 - val_accuracy: 0.5239\n"
     ]
    }
   ],
   "source": [
    "model, history = train_model(filter_size=2, filters=800, batch_size=128, epochs=15, learning_rate=0.0001, dropout_rate=0.2, l2=0.1)"
   ]
  },
  {
   "cell_type": "code",
   "execution_count": 84,
   "id": "7e9ecbab",
   "metadata": {},
   "outputs": [
    {
     "name": "stdout",
     "output_type": "stream",
     "text": [
      "Model: \"sequential_9\"\n",
      "_________________________________________________________________\n",
      " Layer (type)                Output Shape              Param #   \n",
      "=================================================================\n",
      " embedding_9 (Embedding)     (None, 400, 300)          16646400  \n",
      "                                                                 \n",
      " dropout_15 (Dropout)        (None, 400, 300)          0         \n",
      "                                                                 \n",
      " conv1d_9 (Conv1D)           (None, 399, 800)          480800    \n",
      "                                                                 \n",
      " global_max_pooling1d_9 (Glo  (None, 800)              0         \n",
      " balMaxPooling1D)                                                \n",
      "                                                                 \n",
      " dropout_16 (Dropout)        (None, 800)               0         \n",
      "                                                                 \n",
      " dense_9 (Dense)             (None, 20)                16020     \n",
      "                                                                 \n",
      "=================================================================\n",
      "Total params: 17,143,220\n",
      "Trainable params: 496,820\n",
      "Non-trainable params: 16,646,400\n",
      "_________________________________________________________________\n",
      "None\n"
     ]
    },
    {
     "data": {
      "image/png": "[encoded data removed]",
      "text/plain": [
       "<Figure size 720x288 with 2 Axes>"
      ]
     },
     "metadata": {
      "needs_background": "light"
     },
     "output_type": "display_data"
    },
    {
     "name": "stdout",
     "output_type": "stream",
     "text": [
      "236/236 [==============================] - 9s 39ms/step - loss: 1.5984 - accuracy: 0.6783\n",
      "Test loss:  1.5984007120132446\n",
      "Test accuracy:  0.6783059239387512 \n",
      "\n",
      "236/236 [==============================] - 9s 39ms/step\n",
      "Classification report:                precision    recall  f1-score   support\n",
      "\n",
      "           0       0.49      0.58      0.53       319\n",
      "           1       0.54      0.60      0.57       389\n",
      "           2       0.69      0.61      0.65       394\n",
      "           3       0.55      0.58      0.57       392\n",
      "           4       0.68      0.61      0.64       385\n",
      "           5       0.62      0.76      0.68       395\n",
      "           6       0.69      0.85      0.76       390\n",
      "           7       0.81      0.71      0.75       396\n",
      "           8       0.84      0.83      0.84       398\n",
      "           9       0.75      0.77      0.76       397\n",
      "          10       0.82      0.86      0.84       399\n",
      "          11       0.79      0.81      0.80       396\n",
      "          12       0.57      0.44      0.50       393\n",
      "          13       0.90      0.61      0.73       396\n",
      "          14       0.80      0.76      0.78       394\n",
      "          15       0.67      0.81      0.73       398\n",
      "          16       0.60      0.63      0.61       364\n",
      "          17       0.85      0.74      0.80       376\n",
      "          18       0.52      0.47      0.49       310\n",
      "          19       0.31      0.31      0.31       251\n",
      "\n",
      "    accuracy                           0.68      7532\n",
      "   macro avg       0.67      0.67      0.67      7532\n",
      "weighted avg       0.69      0.68      0.68      7532\n",
      "\n"
     ]
    }
   ],
   "source": [
    "test_model(model, history, X_test_input)"
   ]
  },
  {
   "cell_type": "code",
   "execution_count": 74,
   "id": "1b7ef19e",
   "metadata": {},
   "outputs": [
    {
     "name": "stdout",
     "output_type": "stream",
     "text": [
      "Model: \"sequential_7\"\n",
      "_________________________________________________________________\n",
      " Layer (type)                Output Shape              Param #   \n",
      "=================================================================\n",
      " embedding_7 (Embedding)     (None, 400, 300)          16646400  \n",
      "                                                                 \n",
      " dropout_11 (Dropout)        (None, 400, 300)          0         \n",
      "                                                                 \n",
      " conv1d_7 (Conv1D)           (None, 398, 600)          540600    \n",
      "                                                                 \n",
      " global_max_pooling1d_7 (Glo  (None, 600)              0         \n",
      " balMaxPooling1D)                                                \n",
      "                                                                 \n",
      " dropout_12 (Dropout)        (None, 600)               0         \n",
      "                                                                 \n",
      " dense_7 (Dense)             (None, 20)                12020     \n",
      "                                                                 \n",
      "=================================================================\n",
      "Total params: 17,199,020\n",
      "Trainable params: 17,199,020\n",
      "Non-trainable params: 0\n",
      "_________________________________________________________________\n",
      "None \n",
      "\n",
      "Epoch 1/10\n",
      "71/71 [==============================] - 56s 784ms/step - loss: 8.9916 - accuracy: 0.1190 - val_loss: 4.8968 - val_accuracy: 0.4666\n",
      "Epoch 2/10\n",
      "71/71 [==============================] - 59s 833ms/step - loss: 5.3213 - accuracy: 0.3354 - val_loss: 3.7498 - val_accuracy: 0.5736\n",
      "Epoch 3/10\n",
      "71/71 [==============================] - 61s 857ms/step - loss: 3.8099 - accuracy: 0.4860 - val_loss: 2.9410 - val_accuracy: 0.6686\n",
      "Epoch 4/10\n",
      "71/71 [==============================] - 59s 824ms/step - loss: 2.9735 - accuracy: 0.5784 - val_loss: 2.4297 - val_accuracy: 0.7017\n",
      "Epoch 5/10\n",
      "71/71 [==============================] - 59s 826ms/step - loss: 2.3781 - accuracy: 0.6553 - val_loss: 2.0683 - val_accuracy: 0.7145\n",
      "Epoch 6/10\n",
      "71/71 [==============================] - 58s 820ms/step - loss: 2.0027 - accuracy: 0.6851 - val_loss: 1.8086 - val_accuracy: 0.7296\n",
      "Epoch 7/10\n",
      "71/71 [==============================] - 58s 817ms/step - loss: 1.7459 - accuracy: 0.7183 - val_loss: 1.6316 - val_accuracy: 0.7366\n",
      "Epoch 8/10\n",
      "71/71 [==============================] - 58s 811ms/step - loss: 1.5614 - accuracy: 0.7405 - val_loss: 1.5135 - val_accuracy: 0.7362\n",
      "Epoch 9/10\n",
      "71/71 [==============================] - 59s 833ms/step - loss: 1.4287 - accuracy: 0.7608 - val_loss: 1.4266 - val_accuracy: 0.7543\n",
      "Epoch 10/10\n",
      "71/71 [==============================] - 59s 834ms/step - loss: 1.3367 - accuracy: 0.7765 - val_loss: 1.3679 - val_accuracy: 0.7609\n"
     ]
    }
   ],
   "source": [
    "model_emb, history = train_model(filter_size=3, filters=600, batch_size=128, epochs=10, learning_rate=0.001, dropout_rate=0.2, l2=0.01, embedding_trainable=True)"
   ]
  },
  {
   "cell_type": "code",
   "execution_count": 75,
   "id": "cb0196d8",
   "metadata": {},
   "outputs": [
    {
     "name": "stdout",
     "output_type": "stream",
     "text": [
      "Model: \"sequential_7\"\n",
      "_________________________________________________________________\n",
      " Layer (type)                Output Shape              Param #   \n",
      "=================================================================\n",
      " embedding_7 (Embedding)     (None, 400, 300)          16646400  \n",
      "                                                                 \n",
      " dropout_11 (Dropout)        (None, 400, 300)          0         \n",
      "                                                                 \n",
      " conv1d_7 (Conv1D)           (None, 398, 600)          540600    \n",
      "                                                                 \n",
      " global_max_pooling1d_7 (Glo  (None, 600)              0         \n",
      " balMaxPooling1D)                                                \n",
      "                                                                 \n",
      " dropout_12 (Dropout)        (None, 600)               0         \n",
      "                                                                 \n",
      " dense_7 (Dense)             (None, 20)                12020     \n",
      "                                                                 \n",
      "=================================================================\n",
      "Total params: 17,199,020\n",
      "Trainable params: 17,199,020\n",
      "Non-trainable params: 0\n",
      "_________________________________________________________________\n",
      "None\n"
     ]
    },
    {
     "data": {
      "image/png": "[encoded data removed]",
      "text/plain": [
       "<Figure size 720x288 with 2 Axes>"
      ]
     },
     "metadata": {
      "needs_background": "light"
     },
     "output_type": "display_data"
    },
    {
     "name": "stdout",
     "output_type": "stream",
     "text": [
      "236/236 [==============================] - 10s 43ms/step - loss: 1.5921 - accuracy: 0.6903\n",
      "Test loss:  1.5920699834823608\n",
      "Test accuracy:  0.6902549266815186 \n",
      "\n",
      "236/236 [==============================] - 10s 44ms/step\n",
      "Classification report:                precision    recall  f1-score   support\n",
      "\n",
      "           0       0.74      0.43      0.54       319\n",
      "           1       0.57      0.64      0.60       389\n",
      "           2       0.74      0.57      0.64       394\n",
      "           3       0.56      0.62      0.59       392\n",
      "           4       0.61      0.72      0.66       385\n",
      "           5       0.67      0.72      0.69       395\n",
      "           6       0.74      0.78      0.76       390\n",
      "           7       0.84      0.67      0.75       396\n",
      "           8       0.86      0.85      0.85       398\n",
      "           9       0.77      0.78      0.78       397\n",
      "          10       0.85      0.84      0.85       399\n",
      "          11       0.86      0.77      0.82       396\n",
      "          12       0.50      0.55      0.53       393\n",
      "          13       0.77      0.70      0.73       396\n",
      "          14       0.87      0.72      0.79       394\n",
      "          15       0.58      0.92      0.71       398\n",
      "          16       0.61      0.70      0.66       364\n",
      "          17       0.90      0.73      0.80       376\n",
      "          18       0.48      0.56      0.52       310\n",
      "          19       0.41      0.32      0.36       251\n",
      "\n",
      "    accuracy                           0.69      7532\n",
      "   macro avg       0.70      0.68      0.68      7532\n",
      "weighted avg       0.70      0.69      0.69      7532\n",
      "\n"
     ]
    }
   ],
   "source": [
    "test_model(model_emb, history, X_test_input)"
   ]
  },
  {
   "cell_type": "code",
   "execution_count": 79,
   "id": "a22990ea",
   "metadata": {},
   "outputs": [],
   "source": [
    "model_path = os.path.join(\"models\", \"test_model_emb.hdf5\")"
   ]
  },
  {
   "cell_type": "code",
   "execution_count": 80,
   "id": "a60d704d",
   "metadata": {},
   "outputs": [],
   "source": [
    "model_emb.save(model_path)"
   ]
  },
  {
   "cell_type": "code",
   "execution_count": 46,
   "id": "c64e6d10",
   "metadata": {},
   "outputs": [],
   "source": [
    "def prepare_input(text):\n",
    "    text = vectorizer.tokenizer(text)\n",
    "    text_idx = np.array([cbow_key_to_index[word] if word in cbow_key_to_index else 0 for word in text])\n",
    "    text_idx_padded = pad_sequences([text_idx], maxlen=max_doc_len)[0]\n",
    "    \n",
    "    return np.array([text_idx_padded])"
   ]
  },
  {
   "cell_type": "code",
   "execution_count": 47,
   "id": "ba19523c",
   "metadata": {},
   "outputs": [],
   "source": [
    "test_input = \"Hello are you interested in a conversation about our Lord Jesus Christ, our saviour? Praise be.\""
   ]
  },
  {
   "cell_type": "code",
   "execution_count": 48,
   "id": "2065af1a",
   "metadata": {},
   "outputs": [
    {
     "name": "stdout",
     "output_type": "stream",
     "text": [
      "1/1 [==============================] - 0s 17ms/step\n"
     ]
    },
    {
     "data": {
      "text/plain": [
       "'soc.religion.christian'"
      ]
     },
     "execution_count": 48,
     "metadata": {},
     "output_type": "execute_result"
    }
   ],
   "source": [
    "feature_names[np.argmax(model.predict(prepare_input(test_input)))]"
   ]
  }
 ],
 "metadata": {
  "kernelspec": {
   "display_name": "Python 3 (ipykernel)",
   "language": "python",
   "name": "python3"
  },
  "language_info": {
   "codemirror_mode": {
    "name": "ipython",
    "version": 3
   },
   "file_extension": ".py",
   "mimetype": "text/x-python",
   "name": "python",
   "nbconvert_exporter": "python",
   "pygments_lexer": "ipython3",
   "version": "3.10.5"
  }
 },
 "nbformat": 4,
 "nbformat_minor": 5
}
